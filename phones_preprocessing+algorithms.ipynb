{
  "nbformat": 4,
  "nbformat_minor": 0,
  "metadata": {
    "colab": {
      "name": "phones_preprocessing+algorithms.ipynb",
      "provenance": [],
      "authorship_tag": "ABX9TyPy0L9Gfba7VPg2RpuBsf8L"
    },
    "kernelspec": {
      "name": "python3",
      "display_name": "Python 3"
    }
  },
  "cells": [
    {
      "cell_type": "code",
      "metadata": {
        "id": "gPht6NcKq2Fl"
      },
      "source": [
        "import pandas as pd\n",
        "import numpy as np\n",
        "from sklearn.preprocessing import LabelEncoder\n",
        "import re\n",
        "import ast\n",
        "import os\n",
        "import matplotlib.pyplot as plt\n",
        "import seaborn as sns\n",
        "from sklearn.preprocessing import StandardScaler"
      ],
      "execution_count": null,
      "outputs": []
    },
    {
      "cell_type": "code",
      "metadata": {
        "id": "bOJqFHI0rk6L"
      },
      "source": [
        "am=pd.read_csv('/content/Amazon mobiles data.csv')\n",
        "fl=pd.read_csv('/content/flipcart_mobiles.csv')\n",
        "am=am.drop(['Unnamed: 0'],axis=1)\n",
        "fl=fl.drop(['Unnamed: 0'],axis=1)\n",
        "am=pd.DataFrame.drop_duplicates(am)\n",
        "fl=pd.DataFrame.drop_duplicates(fl)"
      ],
      "execution_count": null,
      "outputs": []
    },
    {
      "cell_type": "code",
      "metadata": {
        "colab": {
          "base_uri": "https://localhost:8080/"
        },
        "id": "-WUN5worW6Wi",
        "outputId": "3d5347a5-d34b-4264-cccf-cdd4ef397b9a"
      },
      "source": [
        "fl.info()"
      ],
      "execution_count": null,
      "outputs": [
        {
          "output_type": "stream",
          "text": [
            "<class 'pandas.core.frame.DataFrame'>\n",
            "Int64Index: 846 entries, 0 to 959\n",
            "Columns: 152 entries, In The Box to Tertiary Clock Speed\n",
            "dtypes: float64(3), object(149)\n",
            "memory usage: 1011.2+ KB\n"
          ],
          "name": "stdout"
        }
      ]
    },
    {
      "cell_type": "code",
      "metadata": {
        "colab": {
          "base_uri": "https://localhost:8080/"
        },
        "id": "zt7S5RR6f6DW",
        "outputId": "f9c7f0a5-07cd-448e-b0c3-9a3549c37563"
      },
      "source": [
        "print(am.columns.tolist())"
      ],
      "execution_count": null,
      "outputs": [
        {
          "output_type": "stream",
          "text": [
            "['OS', 'RAM', 'Product Dimensions', 'Batteries', 'Item model number', 'Wireless communication technologies', 'Connectivity technologies', 'Special features', 'Display technology', 'Other display features', 'Device interface - primary', 'Other camera features', 'Form factor', 'Colour', 'Battery Power Rating', 'Whats in the box', 'Manufacturer', 'Item Weight', 'ASIN', 'Customer Reviews', 'Best Sellers Rank', 'Date First Available', 'Item Dimensions LxWxH', 'Generic Name', 'Rear Camera Lens 1', 'Rear Camera Lens 2', 'Screen Size', 'Screen Type', 'Battery Power (In mAH)', 'Inbuilt Storage (in GB)', 'Expandable Storage', 'Processor Brand', 'Operating System', 'Warranty Details', 'Battery type', 'Processor Speed', \"What's in the box\", 'Additional Features', 'Item Dimensions', 'Name', 'Detailed Reviews', 'Price', 'Rating', 'Country of Origin', 'Phone Talk Time', 'Phone Standby Time (with data)', 'Net Quantity', 'Resolution', 'Imported By', 'Packer', 'Importer', 'Audio Jack', 'Included Components', 'GPS', 'Package Dimensions']\n"
          ],
          "name": "stdout"
        }
      ]
    },
    {
      "cell_type": "code",
      "metadata": {
        "colab": {
          "base_uri": "https://localhost:8080/"
        },
        "id": "f-Oq9WaCW4K1",
        "outputId": "68f8f1eb-512a-411b-a72f-085255fde342"
      },
      "source": [
        "am.info()"
      ],
      "execution_count": null,
      "outputs": [
        {
          "output_type": "stream",
          "text": [
            "<class 'pandas.core.frame.DataFrame'>\n",
            "Int64Index: 264 entries, 0 to 560\n",
            "Data columns (total 55 columns):\n",
            " #   Column                               Non-Null Count  Dtype \n",
            "---  ------                               --------------  ----- \n",
            " 0   OS                                   260 non-null    object\n",
            " 1   RAM                                  259 non-null    object\n",
            " 2   Product Dimensions                   258 non-null    object\n",
            " 3   Batteries                            234 non-null    object\n",
            " 4   Item model number                    254 non-null    object\n",
            " 5   Wireless communication technologies  215 non-null    object\n",
            " 6   Connectivity technologies            251 non-null    object\n",
            " 7   Special features                     259 non-null    object\n",
            " 8   Display technology                   163 non-null    object\n",
            " 9   Other display features               261 non-null    object\n",
            " 10  Device interface - primary           161 non-null    object\n",
            " 11  Other camera features                241 non-null    object\n",
            " 12  Form factor                          233 non-null    object\n",
            " 13  Colour                               260 non-null    object\n",
            " 14  Battery Power Rating                 253 non-null    object\n",
            " 15  Whats in the box                     255 non-null    object\n",
            " 16  Manufacturer                         264 non-null    object\n",
            " 17  Item Weight                          260 non-null    object\n",
            " 18  ASIN                                 264 non-null    object\n",
            " 19  Customer Reviews                     211 non-null    object\n",
            " 20  Best Sellers Rank                    251 non-null    object\n",
            " 21  Date First Available                 261 non-null    object\n",
            " 22  Item Dimensions LxWxH                259 non-null    object\n",
            " 23  Generic Name                         227 non-null    object\n",
            " 24  Rear Camera Lens 1                   205 non-null    object\n",
            " 25  Rear Camera Lens 2                   203 non-null    object\n",
            " 26  Screen Size                          213 non-null    object\n",
            " 27  Screen Type                          169 non-null    object\n",
            " 28  Battery Power (In mAH)               209 non-null    object\n",
            " 29  Inbuilt Storage (in GB)              207 non-null    object\n",
            " 30  Expandable Storage                   215 non-null    object\n",
            " 31  Processor Brand                      134 non-null    object\n",
            " 32  Operating System                     216 non-null    object\n",
            " 33  Warranty Details                     205 non-null    object\n",
            " 34  Battery type                         199 non-null    object\n",
            " 35  Processor Speed                      184 non-null    object\n",
            " 36  What's in the box                    211 non-null    object\n",
            " 37  Additional Features                  215 non-null    object\n",
            " 38  Item Dimensions                      211 non-null    object\n",
            " 39  Name                                 264 non-null    object\n",
            " 40  Detailed Reviews                     210 non-null    object\n",
            " 41  Price                                263 non-null    object\n",
            " 42  Rating                               264 non-null    object\n",
            " 43  Country of Origin                    182 non-null    object\n",
            " 44  Phone Talk Time                      32 non-null     object\n",
            " 45  Phone Standby Time (with data)       118 non-null    object\n",
            " 46  Net Quantity                         80 non-null     object\n",
            " 47  Resolution                           64 non-null     object\n",
            " 48  Imported By                          9 non-null      object\n",
            " 49  Packer                               112 non-null    object\n",
            " 50  Importer                             79 non-null     object\n",
            " 51  Audio Jack                           91 non-null     object\n",
            " 52  Included Components                  3 non-null      object\n",
            " 53  GPS                                  38 non-null     object\n",
            " 54  Package Dimensions                   5 non-null      object\n",
            "dtypes: object(55)\n",
            "memory usage: 115.5+ KB\n"
          ],
          "name": "stdout"
        }
      ]
    },
    {
      "cell_type": "code",
      "metadata": {
        "colab": {
          "base_uri": "https://localhost:8080/"
        },
        "id": "yre6XfD3o4RO",
        "outputId": "7f1f8bd6-c4ee-4baf-84c3-42412b960414"
      },
      "source": [
        "am['Other camera features'].unique()"
      ],
      "execution_count": null,
      "outputs": [
        {
          "output_type": "execute_result",
          "data": {
            "text/plain": [
              "array(['2MP', '5', '12MP+2MP+2MP', 'Rear, Front', '64MP+8MP+5MP+5MP',\n",
              "       '48MP+8MP+5MP', '8MP', '13MP+2MP', '48MP+8MP+2MP+2MP', '32MP',\n",
              "       '64 MP + 12MP + 5MP + 5MP', '48MP', '64MP+12MP+5MP+5MP',\n",
              "       '64MP+8MP+5MP+2MP', nan, '8MP Rear and 5MP Front Camera',\n",
              "       '12MP+8MP+2MP+2MP', '13MP', '13MP+5MP+2MP', '13MP+2MP+2MP',\n",
              "       '13MP+8MP+5MP+2MP', '16MP', '13MP+12MP',\n",
              "       '16MP Selfie Camera Setup, Sensor Sizes/Pixel Data: 1/3.09, 1.0um, CMOS Sensor, Focusing Mode: FF, 79.3 Degree Wide Angle of Front Camera, f/2.1 Aperture, Lens Number: 5P, EIS Support, Characteristic Function for Photograph: Time-lapse Photography, Front Panorama, Beauty, Front Shot Flip, Super Nightscape, Blurring Adjustable, Slow Motion: 1080P at 120 fps, 64MP + 8MP + 2MP + 2MP Rear Camera Setup, Sensor Sizes/Pixel Data: 1/1.73, 0.8um (64MP, Main) + 1/4, 1.12um (8MP, Wide Angle) + 1/5, 1.75um (2MP, B and W Portrait Lens) + 1/5, 1.75um (2MP, Macro), CMOS Sensor, Focusing Method: PDAF, Aperture: f/1.8 (64MP) + f/2.3 (8MP) + f/2.4 (2MP) + f/2.4 (2MP), Focal Length: 26 mm (64MP) + 16 mm (8MP) + 22 mm (2MP) + 22 mm (2MP), 119 Degree Wide Angle of Rear Camera, Lens Number: 6P (64MP) + 5P (8MP) + 3P (2MP) + 3P (2MP), 2M (4cm) Macro Lens, Slow Motion: 1080P at 120 fps, 720P at 240 fps, Characteristic Function for Photograph: Super Nightscape, Panorama, Portrait Mode, Time-lapse Photography, HDR, Ultra Wide, Ultra Macro, AI Scene Recognition, AI Beauty, Filter, Chroma Boost, Ways of Taking Photos: Touch, Volume Button, Timer, EIS Support',\n",
              "       '5MP Rear, 2MP Front', '5MP Front, 8MP Rear', 'No Camera',\n",
              "       '48MP + 8MP + 2MP + 2MP',\n",
              "       '16 Mpix Primary camera with Face Beauty, Blur, Panorama, Mono, Pro and 8 Mpix Front front facing camera',\n",
              "       'Main Camera: Dual LED Flash, Multi Autofocus ( PDAF+CAF) | Front Camera: Fixed Focus, Time Lapse, 1080 video @30 fps',\n",
              "       '8MP Front, 13MP Rear', '13MP+8MP+2MP+2MP', '44MP',\n",
              "       '5MP Front, 5MP Rear', '2MP, 5MP', '12MP', '32MP+12MP', 'Rear',\n",
              "       '8 MP f/2.0', '48MP+2MP+2MP', 'Front',\n",
              "       '8MP Rear Camera, 5MP Front Camera',\n",
              "       '13MP (Rear Main) + 2MP (Mono) + 2MP (Macro) Rear Camera Setup, Sensor Sizes/Pixel Data: 1/3 inch, 1.12um (13MP) + 1/5 inch, 1.75um (2MP), 1/5 inch, 1.75um (2MP), CMOS Sensor, Focusing Method: PDAF (13MP) + FF (2MP) + FF (2M), Aperture: f/2.2 (13MP) + f/2.4 (2MP) + f/2.4 (2MP), Lens Number: 5P (13MP) + 3P (2MP) + 3P (2MP), Slow Motion: 720p at 90 fps, Characteristic Function for Photograph: Beauty, Filter, HDR, Panoramic View, Portrait, Timelapse, Slo-mo, NightScape, Expert, Ways of Taking Photos: Timer, Touch, Gesture, Volume Button, Fingerprint, 5MP Front Camera, Sensor Sizes/Pixel Data: 1/5 inch, 1.12um, CMOS Sensor, Focusing Mode: FF, f/2.4 Aperture, 3P Lens, Ways of Taking Photos: Timer, Touch, Gesture, Volume Button, Fingerprint, Characteristic Function for Photograph: Beauty, Filter, HDR, Panoramic View, Portrait, Timelapse',\n",
              "       '8', '5MP', '13MP + 5MP + 2MP', '20MP (Front camera)',\n",
              "       '48MP+8MP+5MP+2MP', '8MP Rear Camera | 5MP Front Camera',\n",
              "       'Rear packs 8-megapixel camera. The rear camera setup has autofocus. It sports a 5-megapixel camera on the front for selfies.',\n",
              "       '13MP+Bokeh Lens | Dual Rear Camera',\n",
              "       '13MP + AI Lens Dual Camera, AI HDR, AI Beauty, Bokeh Mode, Auto Scene Detection, Panorama, 8MP AI Selfie Camera, AI Beauty, AI Portrait, Wide Selfie',\n",
              "       '13MP +12MP', '13', '5 MP Front , 13MP Rear',\n",
              "       '16MP + 8MP + 2MP + 2MP', '8MP Rear Camera', '16MP+ 2MP+ 2MP+AI',\n",
              "       '8MP + 0.3MP | 5MP Front Camera',\n",
              "       'This comes with Single 8 Mpix Rear camera With Flash Which give Smartphone a rich and elegant Look. It also has a Single Front Camera of 5 MPix Selfie Camera with Focus and Flash Features,',\n",
              "       '16+2+2 FORNT 8',\n",
              "       '13MP + 2MP Rear Camera Setup, Sensor Sizes/Pixel Data: 13MP (1/3 inch, 1.12um), 2MP (1/5 inch, 1.75um), CMOS Sensor, Focusing Method: PDAF/AF (13MP), FF (2MP), 4X Maximum Zoom, Aperture: F/2.2 (13MP), F/2.4 (2MP), Focal Length: 25.53mm (13MP), Wide Angle of Rear Camera: 83.3 Degree (13MP), 88.8 Degree (2MP), Lens Number: 5P (13MP), 3P (2MP), Slow Motion: 720p at 90 fps, Characteristic Function for Photograph: Beauty, Filter, HDR, Panoramic View, Portrait, Timelapse, Slo-mo, NightScape, Expert, Continuous Capture Modes (Max 20), Ways of Taking Photos: Timer, Touch, Gesture, Volume Button, Fingerprint, 5MP Front Camera, Sensor Sizes/Pixel Data: 1/5 inch, 1.12um, CMOS Sensor, Focusing Mode: FF, 77.9 Degree Wide Angle Camera, F/2.4 Aperture, 3P Lens, Characteristic Function for Photograph: Beauty, Filter, HDR, Panoramic View, Portrait, Timelapse, Ways of Taking Photos: Timer, Touch, Gesture, Volume Button, Fingerprint',\n",
              "       'This comes with Dual Rear Camera 13+8 Mpix camera With Flash Which give Smartphone a rich and elegant Look. It also has a Single Front Camera of 8 MPix Selfie Camera with Focus and Flash Features,',\n",
              "       '48 MP (f/1.7, 1.6um) Quad Pixel Technology, 2 MP (f/2.4, 1.75um) Depth Camera, 2 MP (f/2.4, 1.75um) Macro Camera, Rear Camera Software: Auto Smile Capture, Smart Composition, Shot Optimization, Night Vision, High-res Zoom, HDR, Timer, AR Stickers, Active Photos, Cinemagraph, Manual Mode, Portrait Mode, Cutout, Spot Color, Panorama, Live Filter, RAW Photo Output, Watermark, Burst Shot, Best Shot, Google Lens Integration, Rear Camera Video Software: Slow Motion Video, Timelapse Video, Hyperlapse Video, 8 MP (f/2.2, 1.12um) Front Camera, Front Camera Software: Auto Smile Capture, Portrait Mode, Face Beauty, HDR, Manual Mode, Watermark, Burst Shot, Best Shot, Photo Mirror, Timer, Active Photo, Live Filter, RAW Photo Output, Spot Color, Group Selfie, Gesture Selfie, Front Camera Video Software: Timelapse Video, Hyperlapse Video',\n",
              "       '48MP+13MP+8MP+5MP', '64MP+5MP+2MP+AI',\n",
              "       '64MP + 8MP + 2MP + 2MP Rear Camera Setup, Sensor: Sony IMX682 (Main Camera) , Aperture: f/1.8 (Main Camera) + f/2.3 (Ultra Wide/Wide-angle) + f/2.4 (Macro) + f/2.4 (Portrait), FOV: 78.6 Degree (Main Camera) + 119 Degree (Ultra Wide/Wide-angle) + 83.5 Degree (Macro) + 88.8 Degree (Portrait), Focal Length: 26.1 mm (Main Camera) + 15.7 mm (Ultra Wide/Wide-angle) + 23.2 mm (Macro) + 21.9 mm (Portrait), 10x Zoom, Lens Number: 6P (Main Camera) + 5P (Ultra Wide/Wide angle) + 3P (Macro) + 3P (Portrait), CMOS Sensor, Sensor Size: 1/1.73 inch (Main Camera) + 1/4 inch (Ultra Wide/Wide angle) + 1/5 inch (Macro) + 1/5 inch (Portrait), Focusing Method: PDAF (Main Camera) + FF (Ultra Wide/Wide-angle, Macro, Portrait), Slow Motion: 1080P at 120 fps, 720P at 240 fps, Characteristic Function for Photograph: Beauty, Filter, HDR, Panoramic View, Portrait, NightScape, Expert, Ultra Macro, Text Scanner, 32MP Selfie Camera Setup, Sensor: Omnivision OV32A1Q, f/2.5 Aperture, 85 Degree Wide Angle of Front Camera, CMOS Sensor, Sensor Size: 1/2.75 inch, 5P Lens, Focusing Mode: FF, Characteristic Function: Beauty, Filter, HDR, Panoramic View, Portrait, Timelapse, NightScape, Slo-mo, Slow Motion: 1080P at 120 fps, EIS Support',\n",
              "       'This comes with Dual Rear Camera 13+5 Mpix camera With Flash Which give Smartphone a rich and elegant Look. It also has a Single Front Camera of 8 MPix Selfie Camera with Focus and Flash Features,',\n",
              "       '5MP front camera + 5 MP rear camera with flesh',\n",
              "       '8 MP (f/2.2, 1.12um) Selfie Camera Setup, Front Camera Software: Auto Smile Capture, Portrait Mode, Face Beauty, HDR, Manual Mode, Watermark, Burst Shot, Best Shot, Photo Mirror, Timer, Active Photos, Live Filter, RAW Photo Output, Spot Color, Gesture Selfie, Front Camera Video Software: Timelapse Video, Hyperlapse Video, 48MP + 2MP Rear Camera Setup, 48 MP (f/1.7, 1.6um) Quad Pixel Technology (12MP Output), 2 MP (f/2.4, 1.75um) Depth, Rear Camera Software: Auto Smile Capture, Smart Composition, Night Vision, High-res Zoom, HDR, Timer, Active Photos, Manual Mode, Portrait Mode, Cutout, Spot Color, Panorama, Live Filter, RAW Photo Output, Watermark, Burst Shot, Best Shot, Google Lens Integration, Rear Camera Video Software: Slow Motion Video, Timelapse Video, Hyperlapse Video',\n",
              "       'It Comes With Single rear camera of 5 Mpix, Other camera is Decorative not the real Camera only to give Smartphone a rich and elegant Look. It also has a Single Front Camera of 5 Mpix.',\n",
              "       '48+8+2 MP', '5MP Rear Camera, 2MP Rear Camera'], dtype=object)"
            ]
          },
          "metadata": {
            "tags": []
          },
          "execution_count": 6
        }
      ]
    },
    {
      "cell_type": "code",
      "metadata": {
        "colab": {
          "base_uri": "https://localhost:8080/",
          "height": 1000
        },
        "id": "UdW-nF_M60kr",
        "outputId": "e0e2912e-82dd-4cb4-e764-b7102649f946"
      },
      "source": [
        "am[am['Battery Power (In mAH)']=='22 milliamp hours']"
      ],
      "execution_count": null,
      "outputs": [
        {
          "output_type": "execute_result",
          "data": {
            "text/html": [
              "<div>\n",
              "<style scoped>\n",
              "    .dataframe tbody tr th:only-of-type {\n",
              "        vertical-align: middle;\n",
              "    }\n",
              "\n",
              "    .dataframe tbody tr th {\n",
              "        vertical-align: top;\n",
              "    }\n",
              "\n",
              "    .dataframe thead th {\n",
              "        text-align: right;\n",
              "    }\n",
              "</style>\n",
              "<table border=\"1\" class=\"dataframe\">\n",
              "  <thead>\n",
              "    <tr style=\"text-align: right;\">\n",
              "      <th></th>\n",
              "      <th>OS</th>\n",
              "      <th>RAM</th>\n",
              "      <th>Product Dimensions</th>\n",
              "      <th>Batteries</th>\n",
              "      <th>Item model number</th>\n",
              "      <th>Wireless communication technologies</th>\n",
              "      <th>Connectivity technologies</th>\n",
              "      <th>Special features</th>\n",
              "      <th>Display technology</th>\n",
              "      <th>Other display features</th>\n",
              "      <th>Device interface - primary</th>\n",
              "      <th>Other camera features</th>\n",
              "      <th>Form factor</th>\n",
              "      <th>Colour</th>\n",
              "      <th>Battery Power Rating</th>\n",
              "      <th>Whats in the box</th>\n",
              "      <th>Manufacturer</th>\n",
              "      <th>Item Weight</th>\n",
              "      <th>ASIN</th>\n",
              "      <th>Customer Reviews</th>\n",
              "      <th>Best Sellers Rank</th>\n",
              "      <th>Date First Available</th>\n",
              "      <th>Item Dimensions LxWxH</th>\n",
              "      <th>Generic Name</th>\n",
              "      <th>Rear Camera Lens 1</th>\n",
              "      <th>Rear Camera Lens 2</th>\n",
              "      <th>Screen Size</th>\n",
              "      <th>Screen Type</th>\n",
              "      <th>Battery Power (In mAH)</th>\n",
              "      <th>Inbuilt Storage (in GB)</th>\n",
              "      <th>Expandable Storage</th>\n",
              "      <th>Processor Brand</th>\n",
              "      <th>Operating System</th>\n",
              "      <th>Warranty Details</th>\n",
              "      <th>Battery type</th>\n",
              "      <th>Processor Speed</th>\n",
              "      <th>What's in the box</th>\n",
              "      <th>Additional Features</th>\n",
              "      <th>Item Dimensions</th>\n",
              "      <th>Name</th>\n",
              "      <th>Detailed Reviews</th>\n",
              "      <th>Price</th>\n",
              "      <th>Rating</th>\n",
              "      <th>Country of Origin</th>\n",
              "      <th>Phone Talk Time</th>\n",
              "      <th>Phone Standby Time (with data)</th>\n",
              "      <th>Net Quantity</th>\n",
              "      <th>Resolution</th>\n",
              "      <th>Imported By</th>\n",
              "      <th>Packer</th>\n",
              "      <th>Importer</th>\n",
              "      <th>Audio Jack</th>\n",
              "      <th>Included Components</th>\n",
              "      <th>GPS</th>\n",
              "      <th>Package Dimensions</th>\n",
              "    </tr>\n",
              "  </thead>\n",
              "  <tbody>\n",
              "    <tr>\n",
              "      <th>36</th>\n",
              "      <td>Android</td>\n",
              "      <td>6 GB</td>\n",
              "      <td>16.23 x 7.54 x 0.94 cm; 196.5 Grams</td>\n",
              "      <td>1 A batteries required. (included)</td>\n",
              "      <td>RMX2151</td>\n",
              "      <td>NaN</td>\n",
              "      <td>4G</td>\n",
              "      <td>6 GB RAM | 64 GB ROM | Expandable Upto 256 GB,...</td>\n",
              "      <td>LCD</td>\n",
              "      <td>Wireless</td>\n",
              "      <td>Touchscreen</td>\n",
              "      <td>16MP Selfie Camera Setup, Sensor Sizes/Pixel D...</td>\n",
              "      <td>NaN</td>\n",
              "      <td>Mist Blue</td>\n",
              "      <td>22 milliamp_hours</td>\n",
              "      <td>Handset, Adapter, Type C Cable, SIM Card Tool,...</td>\n",
              "      <td>OPPO Mobiles India Pvt Ltd, OPPO Mobiles India...</td>\n",
              "      <td>196.5 grammes</td>\n",
              "      <td>B08HLQZM5D</td>\n",
              "      <td>3.9 out of 5 stars\\n\\n\\n\\n\\n\\n\\n\\n\\n118 rating...</td>\n",
              "      <td>#304 in Electronics (See Top 100 in Electronic...</td>\n",
              "      <td>7 September 2020</td>\n",
              "      <td>16.2 x 7.5 x 0.9 Centimeters</td>\n",
              "      <td>Smart Phone</td>\n",
              "      <td>8 megapixels</td>\n",
              "      <td>64MP + 8MP + 2MP + 2MP Rear Camera Setup, Sens...</td>\n",
              "      <td>16.51 cm</td>\n",
              "      <td>LCD</td>\n",
              "      <td>22 milliamp hours</td>\n",
              "      <td>64 GB</td>\n",
              "      <td>64 GB</td>\n",
              "      <td>NaN</td>\n",
              "      <td>Android</td>\n",
              "      <td>Brand Warranty of 1 Year Available for Mobile ...</td>\n",
              "      <td>Lithium Polymer</td>\n",
              "      <td>2 GHz</td>\n",
              "      <td>Handset, Adapter, Type C Cable, SIM Card Tool,...</td>\n",
              "      <td>6 GB RAM | 64 GB ROM | Expandable Upto 256 GB;...</td>\n",
              "      <td>16.23 x 7.54 x 0.94 cm</td>\n",
              "      <td>Realme 7 (Mist Blue, 64 GB) (6 GB RAM)</td>\n",
              "      <td>[\"Heat issue don't buy...4g video calling qual...</td>\n",
              "      <td>16,999.00</td>\n",
              "      <td>3.9</td>\n",
              "      <td>India</td>\n",
              "      <td>NaN</td>\n",
              "      <td>12 Hours</td>\n",
              "      <td>NaN</td>\n",
              "      <td>NaN</td>\n",
              "      <td>NaN</td>\n",
              "      <td>NaN</td>\n",
              "      <td>NaN</td>\n",
              "      <td>NaN</td>\n",
              "      <td>NaN</td>\n",
              "      <td>NaN</td>\n",
              "      <td>NaN</td>\n",
              "    </tr>\n",
              "    <tr>\n",
              "      <th>88</th>\n",
              "      <td>Android</td>\n",
              "      <td>3 GB</td>\n",
              "      <td>16.45 x 7.59 x 0.98 cm; 209 Grams</td>\n",
              "      <td>1 Lithium Polymer batteries required. (included)</td>\n",
              "      <td>RMX2189</td>\n",
              "      <td>NaN</td>\n",
              "      <td>4G</td>\n",
              "      <td>3 GB RAM | 32 GB ROM | Expandable Upto 256 GB,...</td>\n",
              "      <td>NaN</td>\n",
              "      <td>Wireless</td>\n",
              "      <td>NaN</td>\n",
              "      <td>13MP (Rear Main) + 2MP (Mono) + 2MP (Macro) Re...</td>\n",
              "      <td>Smartphone</td>\n",
              "      <td>POWER BLUE</td>\n",
              "      <td>22 milliamp_hours</td>\n",
              "      <td>Handset, Adapter, USB Cable, SIM Card Tool, Sc...</td>\n",
              "      <td>OPPO Mobiles India Pvt Ltd, OPPO Mobiles India...</td>\n",
              "      <td>209 grammes</td>\n",
              "      <td>B08GKHY681</td>\n",
              "      <td>4.0 out of 5 stars\\n\\n\\n\\n\\n\\n\\n\\n\\n77 ratings...</td>\n",
              "      <td>#1,848 in Electronics (See Top 100 in Electron...</td>\n",
              "      <td>23 August 2020</td>\n",
              "      <td>16.4 x 7.6 x 1 Centimeters</td>\n",
              "      <td>Smart Phone</td>\n",
              "      <td>13 megapixels</td>\n",
              "      <td>13MP (Rear Main) + 2MP (Mono) + 2MP (Macro) Re...</td>\n",
              "      <td>16.56 cm</td>\n",
              "      <td>LCD</td>\n",
              "      <td>22 milliamp hours</td>\n",
              "      <td>32 GB</td>\n",
              "      <td>32 GB</td>\n",
              "      <td>NaN</td>\n",
              "      <td>Android</td>\n",
              "      <td>Brand Warranty of 1 Year Available for Mobile ...</td>\n",
              "      <td>Lithium Polymer</td>\n",
              "      <td>2.3 GHz</td>\n",
              "      <td>Handset, Adapter, USB Cable, SIM Card Tool, Sc...</td>\n",
              "      <td>3 GB RAM | 32 GB ROM | Expandable Upto 256 GB;...</td>\n",
              "      <td>16.45 x 7.59 x 0.98 cm</td>\n",
              "      <td>Realme C12 (Power Blue, 32 GB) (3 GB RAM)</td>\n",
              "      <td>['Best mobile but price is higher than flipcar...</td>\n",
              "      <td>10,999.00</td>\n",
              "      <td>4.0</td>\n",
              "      <td>India</td>\n",
              "      <td>NaN</td>\n",
              "      <td>12 Hours</td>\n",
              "      <td>NaN</td>\n",
              "      <td>NaN</td>\n",
              "      <td>NaN</td>\n",
              "      <td>NaN</td>\n",
              "      <td>NaN</td>\n",
              "      <td>NaN</td>\n",
              "      <td>NaN</td>\n",
              "      <td>NaN</td>\n",
              "      <td>NaN</td>\n",
              "    </tr>\n",
              "    <tr>\n",
              "      <th>190</th>\n",
              "      <td>Android</td>\n",
              "      <td>6 GB</td>\n",
              "      <td>16.23 x 7.54 x 0.94 cm; 196.5 Grams</td>\n",
              "      <td>1 A batteries required. (included)</td>\n",
              "      <td>RMX2151</td>\n",
              "      <td>NaN</td>\n",
              "      <td>4G</td>\n",
              "      <td>6 GB RAM | 64 GB ROM | Expandable Upto 256 GB,...</td>\n",
              "      <td>LCD</td>\n",
              "      <td>Wireless</td>\n",
              "      <td>Touchscreen</td>\n",
              "      <td>16MP Selfie Camera Setup, Sensor Sizes/Pixel D...</td>\n",
              "      <td>NaN</td>\n",
              "      <td>Mist White</td>\n",
              "      <td>22 milliamp_hours</td>\n",
              "      <td>Handset, Adapter, Type C Cable, SIM Card Tool,...</td>\n",
              "      <td>OPPO Mobiles India Pvt Ltd, OPPO Mobiles India...</td>\n",
              "      <td>196.5 grammes</td>\n",
              "      <td>B08HWKSP5B</td>\n",
              "      <td>3.9 out of 5 stars\\n\\n\\n\\n\\n\\n\\n\\n\\n32 ratings...</td>\n",
              "      <td>#756 in Electronics (See Top 100 in Electronic...</td>\n",
              "      <td>7 September 2020</td>\n",
              "      <td>16.2 x 7.5 x 0.9 Centimeters</td>\n",
              "      <td>Smart Phone</td>\n",
              "      <td>8 megapixels</td>\n",
              "      <td>64MP + 8MP + 2MP + 2MP Rear Camera Setup, Sens...</td>\n",
              "      <td>16.51 cm</td>\n",
              "      <td>LCD</td>\n",
              "      <td>22 milliamp hours</td>\n",
              "      <td>64 GB</td>\n",
              "      <td>64 GB</td>\n",
              "      <td>NaN</td>\n",
              "      <td>Android</td>\n",
              "      <td>Brand Warranty of 1 Year Available for Mobile ...</td>\n",
              "      <td>Lithium Polymer</td>\n",
              "      <td>2 GHz</td>\n",
              "      <td>Handset, Adapter, Type C Cable, SIM Card Tool,...</td>\n",
              "      <td>6 GB RAM | 64 GB ROM | Expandable Upto 256 GB;...</td>\n",
              "      <td>16.23 x 7.54 x 0.94 cm</td>\n",
              "      <td>Realme 7 (Mist White, 64 GB) (6 GB RAM)</td>\n",
              "      <td>['Device Body is little bit bigger than other ...</td>\n",
              "      <td>17,990.00</td>\n",
              "      <td>3.9</td>\n",
              "      <td>India</td>\n",
              "      <td>NaN</td>\n",
              "      <td>12 Hours</td>\n",
              "      <td>NaN</td>\n",
              "      <td>NaN</td>\n",
              "      <td>NaN</td>\n",
              "      <td>NaN</td>\n",
              "      <td>NaN</td>\n",
              "      <td>NaN</td>\n",
              "      <td>NaN</td>\n",
              "      <td>NaN</td>\n",
              "      <td>NaN</td>\n",
              "    </tr>\n",
              "    <tr>\n",
              "      <th>297</th>\n",
              "      <td>Android</td>\n",
              "      <td>3 GB</td>\n",
              "      <td>11 x 12 x 11 cm; 500 Grams</td>\n",
              "      <td>NaN</td>\n",
              "      <td>L6005</td>\n",
              "      <td>Cellular, Bluetooth, Wi-Fi, NFC</td>\n",
              "      <td>4G</td>\n",
              "      <td>Touchscreen, Bluetooth, Infrared, Front Camera...</td>\n",
              "      <td>LCD</td>\n",
              "      <td>Wireless</td>\n",
              "      <td>Touchscreen</td>\n",
              "      <td>8MP + 0.3MP | 5MP Front Camera</td>\n",
              "      <td>NaN</td>\n",
              "      <td>Gradation green</td>\n",
              "      <td>22 milliamp_hours</td>\n",
              "      <td>Handset, Power Adapter, Data Cable, User Manua...</td>\n",
              "      <td>SHENZHEN TECNO TECHNOLOGY CO.,LTD, SHENZHEN TE...</td>\n",
              "      <td>500 g</td>\n",
              "      <td>B08NVSX4ZY</td>\n",
              "      <td>5.0 out of 5 stars\\n\\n\\n\\n\\n\\n\\n\\n\\n2 ratings\\...</td>\n",
              "      <td>#81,302 in Electronics (See Top 100 in Electro...</td>\n",
              "      <td>19 November 2020</td>\n",
              "      <td>11 x 12 x 11 Centimeters</td>\n",
              "      <td>Smart Phone</td>\n",
              "      <td>13 megapixels</td>\n",
              "      <td>8MP + 0.3MP | 5MP Front Camera</td>\n",
              "      <td>6 in</td>\n",
              "      <td>NaN</td>\n",
              "      <td>22 milliamp hours</td>\n",
              "      <td>32 GB</td>\n",
              "      <td>3 GB</td>\n",
              "      <td>NaN</td>\n",
              "      <td>Android</td>\n",
              "      <td>1 year manufacturer warranty.</td>\n",
              "      <td>Lithium Polymer</td>\n",
              "      <td>1.6 GHz</td>\n",
              "      <td>Handset, Power Adapter, Data Cable, User Manua...</td>\n",
              "      <td>Front Camera; Dual Camera; Wifi; Hotspot; USB;...</td>\n",
              "      <td>11 x 12 x 11 cm</td>\n",
              "      <td>Itel Vision1 (Gradation Green, 32 GB) (3 GB RAM)</td>\n",
              "      <td>['Best phone in lower price do u want to take ...</td>\n",
              "      <td>8,299.00</td>\n",
              "      <td>5.0</td>\n",
              "      <td>NaN</td>\n",
              "      <td>NaN</td>\n",
              "      <td>12 Seconds</td>\n",
              "      <td>NaN</td>\n",
              "      <td>NaN</td>\n",
              "      <td>NaN</td>\n",
              "      <td>NaN</td>\n",
              "      <td>NaN</td>\n",
              "      <td>3.5 mm</td>\n",
              "      <td>NaN</td>\n",
              "      <td>GPS</td>\n",
              "      <td>NaN</td>\n",
              "    </tr>\n",
              "    <tr>\n",
              "      <th>333</th>\n",
              "      <td>Android</td>\n",
              "      <td>2 GB</td>\n",
              "      <td>16.44 x 7.59 x 0.91 cm; 196 Grams</td>\n",
              "      <td>1 Lithium Polymer batteries required. (included)</td>\n",
              "      <td>RBSOC1102IN</td>\n",
              "      <td>NaN</td>\n",
              "      <td>4G</td>\n",
              "      <td>Mediatek Helio G35 Processor, 2 GB RAM | 32 GB...</td>\n",
              "      <td>NaN</td>\n",
              "      <td>Wireless</td>\n",
              "      <td>NaN</td>\n",
              "      <td>13MP + 2MP Rear Camera Setup, Sensor Sizes/Pix...</td>\n",
              "      <td>Smartphone</td>\n",
              "      <td>Rich Green</td>\n",
              "      <td>22 milliamp_hours</td>\n",
              "      <td>Handset, Adapter, Micro USB Cable, SIM Card To...</td>\n",
              "      <td>OPPO MOBILES INDIA PRIVATE LIMITED, OPPO MOILE...</td>\n",
              "      <td>196 grammes</td>\n",
              "      <td>B08DG4XPBC</td>\n",
              "      <td>3.7 out of 5 stars\\n\\n\\n\\n\\n\\n\\n\\n\\n127 rating...</td>\n",
              "      <td>#44,662 in Electronics (See Top 100 in Electro...</td>\n",
              "      <td>22 July 2020</td>\n",
              "      <td>16.4 x 7.6 x 0.9 Centimeters</td>\n",
              "      <td>Smart Phone</td>\n",
              "      <td>13 megapixels</td>\n",
              "      <td>13MP + 2MP Rear Camera Setup, Sensor Sizes/Pix...</td>\n",
              "      <td>16.5 cm</td>\n",
              "      <td>LCD</td>\n",
              "      <td>22 milliamp hours</td>\n",
              "      <td>32 GB</td>\n",
              "      <td>32 GB</td>\n",
              "      <td>NaN</td>\n",
              "      <td>Android</td>\n",
              "      <td>Brand Warranty of 1 Year Available for Mobile ...</td>\n",
              "      <td>Lithium Polymer</td>\n",
              "      <td>2.3 GHz</td>\n",
              "      <td>Handset, Adapter, Micro USB Cable, SIM Card To...</td>\n",
              "      <td>2 GB RAM | 32 GB ROM | Expandable Upto 256 GB;...</td>\n",
              "      <td>16.44 x 7.59 x 0.91 cm</td>\n",
              "      <td>Realme C11 (Rich Green, 32 GB) (2 GB RAM)</td>\n",
              "      <td>['Mobile hanging issue', 'Good features and go...</td>\n",
              "      <td>7,909.00</td>\n",
              "      <td>3.7</td>\n",
              "      <td>NaN</td>\n",
              "      <td>NaN</td>\n",
              "      <td>12 Hours</td>\n",
              "      <td>NaN</td>\n",
              "      <td>NaN</td>\n",
              "      <td>OPPO Mobiles India Pvt Ltd</td>\n",
              "      <td>NaN</td>\n",
              "      <td>NaN</td>\n",
              "      <td>NaN</td>\n",
              "      <td>NaN</td>\n",
              "      <td>NaN</td>\n",
              "      <td>NaN</td>\n",
              "    </tr>\n",
              "    <tr>\n",
              "      <th>359</th>\n",
              "      <td>Android 10.0</td>\n",
              "      <td>4 GB</td>\n",
              "      <td>16.51 x 7.57 x 0.91 cm; 170.1 Grams</td>\n",
              "      <td>1 Lithium Polymer batteries required. (included)</td>\n",
              "      <td>PAKK0024IN</td>\n",
              "      <td>NaN</td>\n",
              "      <td>4G</td>\n",
              "      <td>48MP + 2MP + 2MP | 8MP Front Camera, 16.51 cm ...</td>\n",
              "      <td>NaN</td>\n",
              "      <td>Wireless</td>\n",
              "      <td>Touchscreen</td>\n",
              "      <td>48 MP (f/1.7, 1.6um) Quad Pixel Technology, 2 ...</td>\n",
              "      <td>NaN</td>\n",
              "      <td>Sapphire Blue</td>\n",
              "      <td>22 milliamp_hours</td>\n",
              "      <td>Handset, Charger, USB Cable, Protective Cover,...</td>\n",
              "      <td>Motorola India Pvt Ltd, Motorola India Pvt Ltd</td>\n",
              "      <td>170.1 grammes</td>\n",
              "      <td>B08L3V1Y4S</td>\n",
              "      <td>4.3 out of 5 stars\\n\\n\\n\\n\\n\\n\\n\\n\\n49 ratings...</td>\n",
              "      <td>#10,575 in Electronics (See Top 100 in Electro...</td>\n",
              "      <td>12 October 2020</td>\n",
              "      <td>16.5 x 7.6 x 0.9 Centimeters</td>\n",
              "      <td>Smart Phone</td>\n",
              "      <td>48 megapixels</td>\n",
              "      <td>48 MP (f/1.7, 1.6um) Quad Pixel Technology, 2 ...</td>\n",
              "      <td>16.51 cm</td>\n",
              "      <td>NaN</td>\n",
              "      <td>22 milliamp hours</td>\n",
              "      <td>64 GB</td>\n",
              "      <td>64 GB</td>\n",
              "      <td>Qualcomm</td>\n",
              "      <td>Android 10.0</td>\n",
              "      <td>1 Year on Handset and 6 Months on Accessories</td>\n",
              "      <td>Lithium Polymer</td>\n",
              "      <td>2.2 GHz</td>\n",
              "      <td>Handset, Charger, USB Cable, Protective Cover,...</td>\n",
              "      <td>4 GB RAM | 64 GB ROM | Expandable Upto 512 GB;...</td>\n",
              "      <td>16.51 x 7.57 x 0.91 cm</td>\n",
              "      <td>Motorola G9 (Sapphire Blue, 64 GB) (4 GB RAM)</td>\n",
              "      <td>['I am a photographer and bought this product ...</td>\n",
              "      <td>11,970.00</td>\n",
              "      <td>4.3</td>\n",
              "      <td>NaN</td>\n",
              "      <td>NaN</td>\n",
              "      <td>12 Hours</td>\n",
              "      <td>NaN</td>\n",
              "      <td>NaN</td>\n",
              "      <td>NaN</td>\n",
              "      <td>NaN</td>\n",
              "      <td>NaN</td>\n",
              "      <td>3.5 mm</td>\n",
              "      <td>NaN</td>\n",
              "      <td>NaN</td>\n",
              "      <td>NaN</td>\n",
              "    </tr>\n",
              "    <tr>\n",
              "      <th>363</th>\n",
              "      <td>Android</td>\n",
              "      <td>6 GB</td>\n",
              "      <td>16.09 x 7.43 x 0.87 cm; 182 Grams</td>\n",
              "      <td>1 A batteries required. (included)</td>\n",
              "      <td>RMX2170</td>\n",
              "      <td>NaN</td>\n",
              "      <td>4G</td>\n",
              "      <td>64MP + 8MP + 2MP + 2MP | 32MP Front Camera, 6 ...</td>\n",
              "      <td>Super AMOLED</td>\n",
              "      <td>Wireless</td>\n",
              "      <td>Touchscreen</td>\n",
              "      <td>64MP + 8MP + 2MP + 2MP Rear Camera Setup, Sens...</td>\n",
              "      <td>Smartphone</td>\n",
              "      <td>Mirror Blue</td>\n",
              "      <td>22 milliamp_hours</td>\n",
              "      <td>Handset, Adapter, USB Cable, SIM Card Tool, Sc...</td>\n",
              "      <td>OPPO Mobiles India Pvt Ltd, OPPO Mobiles India...</td>\n",
              "      <td>182 grammes</td>\n",
              "      <td>B08HMY2WDB</td>\n",
              "      <td>3.9 out of 5 stars\\n\\n\\n\\n\\n\\n\\n\\n\\n42 ratings...</td>\n",
              "      <td>#3,337 in Electronics (See Top 100 in Electron...</td>\n",
              "      <td>8 September 2020</td>\n",
              "      <td>16.1 x 7.4 x 0.9 Centimeters</td>\n",
              "      <td>Smart Phone</td>\n",
              "      <td>8 megapixels</td>\n",
              "      <td>64MP + 8MP + 2MP + 2MP Rear Camera Setup, Sens...</td>\n",
              "      <td>16.26 cm</td>\n",
              "      <td>AMOLED</td>\n",
              "      <td>22 milliamp hours</td>\n",
              "      <td>128 GB</td>\n",
              "      <td>128 GB</td>\n",
              "      <td>Qualcomm</td>\n",
              "      <td>Android</td>\n",
              "      <td>Brand Warranty of 1 Year Available for Mobile ...</td>\n",
              "      <td>Lithium Ion</td>\n",
              "      <td>2.3 GHz</td>\n",
              "      <td>Handset, Adapter, USB Cable, SIM Card Tool, Sc...</td>\n",
              "      <td>6 GB RAM | 128 GB ROM | Expandable Upto 256 GB...</td>\n",
              "      <td>16.09 x 7.43 x 0.87 cm</td>\n",
              "      <td>Realme 7 Pro (Mirror Blue, 128 GB) (6 GB RAM)</td>\n",
              "      <td>['Over all performance is good  I have one dou...</td>\n",
              "      <td>19,999.00</td>\n",
              "      <td>3.9</td>\n",
              "      <td>NaN</td>\n",
              "      <td>NaN</td>\n",
              "      <td>12 Hours</td>\n",
              "      <td>NaN</td>\n",
              "      <td>NaN</td>\n",
              "      <td>NaN</td>\n",
              "      <td>NaN</td>\n",
              "      <td>NaN</td>\n",
              "      <td>NaN</td>\n",
              "      <td>NaN</td>\n",
              "      <td>NaN</td>\n",
              "      <td>NaN</td>\n",
              "    </tr>\n",
              "    <tr>\n",
              "      <th>400</th>\n",
              "      <td>Android 10.0</td>\n",
              "      <td>4 GB</td>\n",
              "      <td>NaN</td>\n",
              "      <td>1 Lithium Polymer batteries required. (included)</td>\n",
              "      <td>PAKX0012IN</td>\n",
              "      <td>NaN</td>\n",
              "      <td>4G</td>\n",
              "      <td>Front Camera, Camera</td>\n",
              "      <td>NaN</td>\n",
              "      <td>Wireless</td>\n",
              "      <td>NaN</td>\n",
              "      <td>8 MP (f/2.2, 1.12um) Selfie Camera Setup, Fron...</td>\n",
              "      <td>Smartphone</td>\n",
              "      <td>Misty Blue</td>\n",
              "      <td>22 milliamp_hours</td>\n",
              "      <td>Handset, Charger, USB Cable, SIM Tool, Guides</td>\n",
              "      <td>MOTOROLA INDIA PVT LTD, MOTOROLA INDIA PVT LTD</td>\n",
              "      <td>180 grammes</td>\n",
              "      <td>B08L3WBQ71</td>\n",
              "      <td>3.2 out of 5 stars\\n\\n\\n\\n\\n\\n\\n\\n\\n13 ratings...</td>\n",
              "      <td>#20,470 in Electronics (See Top 100 in Electro...</td>\n",
              "      <td>12 October 2020</td>\n",
              "      <td>NaN</td>\n",
              "      <td>Smart Phone</td>\n",
              "      <td>48 megapixels</td>\n",
              "      <td>48MP + 2MP Rear Camera Setup, 48 MP (f/1.7, 1....</td>\n",
              "      <td>16.51 cm</td>\n",
              "      <td>NaN</td>\n",
              "      <td>22 milliamp hours</td>\n",
              "      <td>64 GB</td>\n",
              "      <td>64 GB</td>\n",
              "      <td>Qualcomm</td>\n",
              "      <td>Android 10.0</td>\n",
              "      <td>1 Year on Handset and 6 Months on Accessories</td>\n",
              "      <td>Lithium Polymer</td>\n",
              "      <td>1.8 GHz</td>\n",
              "      <td>Handset, Charger, USB Cable, SIM Tool, Guides</td>\n",
              "      <td>Camera; Front Camera</td>\n",
              "      <td>NaN</td>\n",
              "      <td>Motorola E7 Plus (Misty Blue, 64 GB) (4 GB RAM)</td>\n",
              "      <td>['Pros1. Better camera quality. Can capture an...</td>\n",
              "      <td>10,300.00</td>\n",
              "      <td>3.2</td>\n",
              "      <td>NaN</td>\n",
              "      <td>NaN</td>\n",
              "      <td>12 Hours</td>\n",
              "      <td>NaN</td>\n",
              "      <td>NaN</td>\n",
              "      <td>NaN</td>\n",
              "      <td>NaN</td>\n",
              "      <td>NaN</td>\n",
              "      <td>NaN</td>\n",
              "      <td>NaN</td>\n",
              "      <td>NaN</td>\n",
              "      <td>17.5 x 9.7 x 4.4 cm; 180 Grams</td>\n",
              "    </tr>\n",
              "  </tbody>\n",
              "</table>\n",
              "</div>"
            ],
            "text/plain": [
              "               OS   RAM  ...  GPS              Package Dimensions\n",
              "36        Android  6 GB  ...  NaN                             NaN\n",
              "88        Android  3 GB  ...  NaN                             NaN\n",
              "190       Android  6 GB  ...  NaN                             NaN\n",
              "297       Android  3 GB  ...  GPS                             NaN\n",
              "333       Android  2 GB  ...  NaN                             NaN\n",
              "359  Android 10.0  4 GB  ...  NaN                             NaN\n",
              "363       Android  6 GB  ...  NaN                             NaN\n",
              "400  Android 10.0  4 GB  ...  NaN  17.5 x 9.7 x 4.4 cm; 180 Grams\n",
              "\n",
              "[8 rows x 55 columns]"
            ]
          },
          "metadata": {
            "tags": []
          },
          "execution_count": 7
        }
      ]
    },
    {
      "cell_type": "code",
      "metadata": {
        "colab": {
          "base_uri": "https://localhost:8080/"
        },
        "id": "ODAexFvr6f8C",
        "outputId": "0426a295-4e04-4ea2-aa7b-ddddd1586cf2"
      },
      "source": [
        "am['Battery Power (In mAH)'].unique()"
      ],
      "execution_count": null,
      "outputs": [
        {
          "output_type": "execute_result",
          "data": {
            "text/plain": [
              "array(['5000', '4230', '4000 milliamp hours', '6000', '3000', '4000',\n",
              "       '5020', '4115', '7000', nan, '3020', '3100', '4030',\n",
              "       '5000 milliamp hours', '22 milliamp hours', '1800',\n",
              "       '1000 milliamp hours', '4015 milliamp hours',\n",
              "       '3000 milliamp hours', '4500', '1960', '4500 milliamp hours',\n",
              "       '1800 milliamp hours', '2400', '400', '3950',\n",
              "       '6000 milliamp hours', '800', '2500 milliamp hours',\n",
              "       '3040 milliamp hours', '2800 milliamp hours', '300',\n",
              "       '24 milliamp hours', '4050', '1.56', '5200 milliamp hours',\n",
              "       '2200 milliamp hours', '2400 milliamp hours', '4200', '4100',\n",
              "       '800 milliampere_hour', '4015'], dtype=object)"
            ]
          },
          "metadata": {
            "tags": []
          },
          "execution_count": 8
        }
      ]
    },
    {
      "cell_type": "code",
      "metadata": {
        "id": "18pCc2FnxRmo"
      },
      "source": [
        "#sorted(am.columns)"
      ],
      "execution_count": null,
      "outputs": []
    },
    {
      "cell_type": "code",
      "metadata": {
        "id": "CzsYholLeWxp"
      },
      "source": [
        "#for i in sorted(fl.columns):\n",
        "  #print(i)"
      ],
      "execution_count": null,
      "outputs": []
    },
    {
      "cell_type": "markdown",
      "metadata": {
        "id": "evQFwlF1wBZ7"
      },
      "source": [
        "**Convertions and cleaning in seperate datasets -Data modification**"
      ]
    },
    {
      "cell_type": "code",
      "metadata": {
        "id": "_XNtvt_FYKod"
      },
      "source": [
        "def storage_convert(a):\n",
        "  try:\n",
        "    l=a.split(' ')\n",
        "    if l[-1]=='MB':\n",
        "      return float(l[0])*0.001\n",
        "    if l[-1]=='KB':\n",
        "      return float(l[0])*0.000001\n",
        "    if l[-1]=='TB':\n",
        "      return float(l[0])*1000\n",
        "    return float(l[0])\n",
        "    if 'MB' in a:\n",
        "      return float(a.replace('MB',''))*0.001\n",
        "  except Exception as e:\n",
        "    return a\n",
        "\n",
        "def add(a):\n",
        "  try:\n",
        "    if len(a)>1:\n",
        "      a='+'+a\n",
        "    return a\n",
        "  except Exception as e:\n",
        "    return a\n",
        "\n",
        "def weight_convert(a):\n",
        "  try:\n",
        "    l=a.split(' ')\n",
        "    if l[1]=='kg':\n",
        "      return float(l[0])*1000\n",
        "    return float(l[0])\n",
        "  except Exception as e:\n",
        "    return a\n",
        "\n",
        "def battery_convert(a):\n",
        "  try:\n",
        "    return float(a.split(' ')[0])\n",
        "  except Exception as e:\n",
        "    return a\n",
        "    \n",
        "\n",
        "def reviews(a):\n",
        "  try:\n",
        "    q=a.strip('][').split(', ')\n",
        "    return q\n",
        "  except Exception as e:\n",
        "    return a\n",
        "\n",
        "\n",
        "\n",
        "fl['Internal Storage']=fl['Internal Storage'].apply(weight_convert)\n",
        "am['Inbuilt Storage (in GB)']=am['Inbuilt Storage (in GB)'].apply(weight_convert)\n",
        "\n",
        "fl['Expandable Storage']=fl['Expandable Storage'].apply(storage_convert)\n",
        "am['Expandable Storage']=am['Expandable Storage'].apply(storage_convert)\n",
        "\n",
        "\n",
        "fl['Secondary Camera']=fl['Secondary Camera'].apply(add)\n",
        "fl['Camera']=fl['Primary Camera']+fl['Secondary Camera']\n",
        "\n",
        "am['Item Weight']=am['Item Weight'].apply(weight_convert)\n",
        "fl['Weight']=fl['Weight'].apply(weight_convert)\n",
        "\n",
        "fl['Battery Capacity']=fl['Battery Capacity'].apply(battery_convert)\n",
        "am['Battery Power (In mAH)']=am['Battery Power (In mAH)'].apply(battery_convert)\n",
        "\n",
        "fl['reviews']=fl['reviews'].apply(reviews)\n",
        "\n"
      ],
      "execution_count": null,
      "outputs": []
    },
    {
      "cell_type": "code",
      "metadata": {
        "id": "rz1oGChT4MPg"
      },
      "source": [
        "#'Audio Jack','RAM', "
      ],
      "execution_count": null,
      "outputs": []
    },
    {
      "cell_type": "markdown",
      "metadata": {
        "id": "nOMzD63mwOUr"
      },
      "source": [
        "**Renaming columns of flipkart to match with Amazon's. Matching column names**"
      ]
    },
    {
      "cell_type": "code",
      "metadata": {
        "id": "OU_9jFCUxr4J"
      },
      "source": [
        "fl.rename(columns={'In The Box':'Whats in the box',\n",
        "'Model Number':'Item model number',\n",
        "'Color':'Colour',\n",
        "'Other Display Features':'Other display features',\n",
        "'price':'Price',\n",
        "'stars':'Rating',\n",
        "'reviews':'Detailed Reviews',\n",
        "'Camera':'Other camera features',\n",
        "'Model Name':'Name',\n",
        "'Display Type':'Display technology',\n",
        "'GPS Type':'GPS',\n",
        "'Internal Storage':'Inbuilt Storage (in GB)',\n",
        "'Weight':'Item Weight',\n",
        "'Processor Type':'Processor Brand',\n",
        "'Battery Capacity':'Battery Power (In mAH)',\n",
        "'Warranty Summary':'Warranty Details',\n",
        "},inplace=True)"
      ],
      "execution_count": null,
      "outputs": []
    },
    {
      "cell_type": "code",
      "metadata": {
        "id": "TU5WIFkVem65"
      },
      "source": [
        "fl.columns = fl.columns.map(str.capitalize) \n"
      ],
      "execution_count": null,
      "outputs": []
    },
    {
      "cell_type": "code",
      "metadata": {
        "id": "lrWAxpTvhGfm"
      },
      "source": [
        "am.columns = am.columns.map(str.capitalize) "
      ],
      "execution_count": null,
      "outputs": []
    },
    {
      "cell_type": "code",
      "metadata": {
        "colab": {
          "base_uri": "https://localhost:8080/"
        },
        "id": "5skAWPvp6aqH",
        "outputId": "1d1af93b-ae6a-403b-a76c-6043843c6bcd"
      },
      "source": [
        "d=[]\n",
        "for i in fl.columns:\n",
        "  if i in am.columns:\n",
        "    d.append(i)\n",
        "print(d)\n",
        "print(len(d))"
      ],
      "execution_count": null,
      "outputs": [
        {
          "output_type": "stream",
          "text": [
            "['Whats in the box', 'Item model number', 'Name', 'Colour', 'Resolution', 'Display technology', 'Other display features', 'Operating system', 'Processor brand', 'Inbuilt storage (in gb)', 'Ram', 'Expandable storage', 'Audio jack', 'Gps', 'Battery power (in mah)', 'Item weight', 'Warranty details', 'Price', 'Rating', 'Detailed reviews', 'Battery type', 'Other camera features']\n",
            "22\n"
          ],
          "name": "stdout"
        }
      ]
    },
    {
      "cell_type": "code",
      "metadata": {
        "id": "AP5hUoqRa9HX",
        "colab": {
          "base_uri": "https://localhost:8080/"
        },
        "outputId": "195c07cc-e779-4b2d-c690-8f7c6f67a68e"
      },
      "source": [
        "am_new=am[d]\n",
        "am_new['OEM']='Amazon'\n",
        "fl_new=fl[d]\n",
        "fl_new['OEM']='Flipkart'"
      ],
      "execution_count": null,
      "outputs": [
        {
          "output_type": "stream",
          "text": [
            "/usr/local/lib/python3.7/dist-packages/ipykernel_launcher.py:2: SettingWithCopyWarning: \n",
            "A value is trying to be set on a copy of a slice from a DataFrame.\n",
            "Try using .loc[row_indexer,col_indexer] = value instead\n",
            "\n",
            "See the caveats in the documentation: https://pandas.pydata.org/pandas-docs/stable/user_guide/indexing.html#returning-a-view-versus-a-copy\n",
            "  \n",
            "/usr/local/lib/python3.7/dist-packages/ipykernel_launcher.py:4: SettingWithCopyWarning: \n",
            "A value is trying to be set on a copy of a slice from a DataFrame.\n",
            "Try using .loc[row_indexer,col_indexer] = value instead\n",
            "\n",
            "See the caveats in the documentation: https://pandas.pydata.org/pandas-docs/stable/user_guide/indexing.html#returning-a-view-versus-a-copy\n",
            "  after removing the cwd from sys.path.\n"
          ],
          "name": "stderr"
        }
      ]
    },
    {
      "cell_type": "code",
      "metadata": {
        "id": "5gJVWT1zbjG2",
        "colab": {
          "base_uri": "https://localhost:8080/"
        },
        "outputId": "41431fde-3856-4e4e-a9bd-c2e6210c71aa"
      },
      "source": [
        "am_new.info()"
      ],
      "execution_count": null,
      "outputs": [
        {
          "output_type": "stream",
          "text": [
            "<class 'pandas.core.frame.DataFrame'>\n",
            "Int64Index: 264 entries, 0 to 560\n",
            "Data columns (total 23 columns):\n",
            " #   Column                   Non-Null Count  Dtype  \n",
            "---  ------                   --------------  -----  \n",
            " 0   Whats in the box         255 non-null    object \n",
            " 1   Item model number        254 non-null    object \n",
            " 2   Name                     264 non-null    object \n",
            " 3   Colour                   260 non-null    object \n",
            " 4   Resolution               64 non-null     object \n",
            " 5   Display technology       163 non-null    object \n",
            " 6   Other display features   261 non-null    object \n",
            " 7   Operating system         216 non-null    object \n",
            " 8   Processor brand          134 non-null    object \n",
            " 9   Inbuilt storage (in gb)  207 non-null    object \n",
            " 10  Ram                      259 non-null    object \n",
            " 11  Expandable storage       215 non-null    float64\n",
            " 12  Audio jack               91 non-null     object \n",
            " 13  Gps                      38 non-null     object \n",
            " 14  Battery power (in mah)   209 non-null    float64\n",
            " 15  Item weight              260 non-null    float64\n",
            " 16  Warranty details         205 non-null    object \n",
            " 17  Price                    263 non-null    object \n",
            " 18  Rating                   264 non-null    object \n",
            " 19  Detailed reviews         210 non-null    object \n",
            " 20  Battery type             199 non-null    object \n",
            " 21  Other camera features    241 non-null    object \n",
            " 22  OEM                      264 non-null    object \n",
            "dtypes: float64(3), object(20)\n",
            "memory usage: 49.5+ KB\n"
          ],
          "name": "stdout"
        }
      ]
    },
    {
      "cell_type": "code",
      "metadata": {
        "colab": {
          "base_uri": "https://localhost:8080/"
        },
        "id": "BXRw0tmqMA4U",
        "outputId": "b990f489-0414-4f2b-aab7-6eeb60819ce9"
      },
      "source": [
        "fl_new.info()"
      ],
      "execution_count": null,
      "outputs": [
        {
          "output_type": "stream",
          "text": [
            "<class 'pandas.core.frame.DataFrame'>\n",
            "Int64Index: 846 entries, 0 to 959\n",
            "Data columns (total 23 columns):\n",
            " #   Column                   Non-Null Count  Dtype  \n",
            "---  ------                   --------------  -----  \n",
            " 0   Whats in the box         839 non-null    object \n",
            " 1   Item model number        838 non-null    object \n",
            " 2   Name                     840 non-null    object \n",
            " 3   Colour                   840 non-null    object \n",
            " 4   Resolution               839 non-null    object \n",
            " 5   Display technology       494 non-null    object \n",
            " 6   Other display features   389 non-null    object \n",
            " 7   Operating system         571 non-null    object \n",
            " 8   Processor brand          501 non-null    object \n",
            " 9   Inbuilt storage (in gb)  826 non-null    object \n",
            " 10  Ram                      785 non-null    object \n",
            " 11  Expandable storage       527 non-null    float64\n",
            " 12  Audio jack               418 non-null    object \n",
            " 13  Gps                      292 non-null    object \n",
            " 14  Battery power (in mah)   803 non-null    float64\n",
            " 15  Item weight              573 non-null    float64\n",
            " 16  Warranty details         839 non-null    object \n",
            " 17  Price                    846 non-null    object \n",
            " 18  Rating                   831 non-null    float64\n",
            " 19  Detailed reviews         779 non-null    object \n",
            " 20  Battery type             213 non-null    object \n",
            " 21  Other camera features    470 non-null    object \n",
            " 22  OEM                      846 non-null    object \n",
            "dtypes: float64(4), object(19)\n",
            "memory usage: 158.6+ KB\n"
          ],
          "name": "stdout"
        }
      ]
    },
    {
      "cell_type": "markdown",
      "metadata": {
        "id": "mBcgpFvTwaKR"
      },
      "source": [
        "**Merging both the datasets**"
      ]
    },
    {
      "cell_type": "code",
      "metadata": {
        "id": "qEtJauJUNS0Y"
      },
      "source": [
        "df=pd.DataFrame()\n",
        "df=df.append(am_new,True)\n",
        "df=df.append(fl_new,True)"
      ],
      "execution_count": null,
      "outputs": []
    },
    {
      "cell_type": "code",
      "metadata": {
        "colab": {
          "base_uri": "https://localhost:8080/"
        },
        "id": "ALiPFjvNPPzR",
        "outputId": "14fe9e77-becc-45f1-9b11-30bc22254022"
      },
      "source": [
        "\n",
        "df.info()"
      ],
      "execution_count": null,
      "outputs": [
        {
          "output_type": "stream",
          "text": [
            "<class 'pandas.core.frame.DataFrame'>\n",
            "RangeIndex: 1110 entries, 0 to 1109\n",
            "Data columns (total 23 columns):\n",
            " #   Column                   Non-Null Count  Dtype  \n",
            "---  ------                   --------------  -----  \n",
            " 0   Whats in the box         1094 non-null   object \n",
            " 1   Item model number        1092 non-null   object \n",
            " 2   Name                     1104 non-null   object \n",
            " 3   Colour                   1100 non-null   object \n",
            " 4   Resolution               903 non-null    object \n",
            " 5   Display technology       657 non-null    object \n",
            " 6   Other display features   650 non-null    object \n",
            " 7   Operating system         787 non-null    object \n",
            " 8   Processor brand          635 non-null    object \n",
            " 9   Inbuilt storage (in gb)  1033 non-null   object \n",
            " 10  Ram                      1044 non-null   object \n",
            " 11  Expandable storage       742 non-null    float64\n",
            " 12  Audio jack               509 non-null    object \n",
            " 13  Gps                      330 non-null    object \n",
            " 14  Battery power (in mah)   1012 non-null   float64\n",
            " 15  Item weight              833 non-null    float64\n",
            " 16  Warranty details         1044 non-null   object \n",
            " 17  Price                    1109 non-null   object \n",
            " 18  Rating                   1095 non-null   object \n",
            " 19  Detailed reviews         989 non-null    object \n",
            " 20  Battery type             412 non-null    object \n",
            " 21  Other camera features    711 non-null    object \n",
            " 22  OEM                      1110 non-null   object \n",
            "dtypes: float64(3), object(20)\n",
            "memory usage: 199.6+ KB\n"
          ],
          "name": "stdout"
        }
      ]
    },
    {
      "cell_type": "markdown",
      "metadata": {
        "id": "DicE3Hp9wemj"
      },
      "source": [
        "**Data cleaning on the merged dataset for many columns like audio jack, memory, RAM,etc**"
      ]
    },
    {
      "cell_type": "code",
      "metadata": {
        "id": "UTtd1PKquNW1"
      },
      "source": [
        "def audio_jack(a):\n",
        "  try:\n",
        "    a=a.lower()\n",
        "    if 'mm' in a:\n",
        "      return a.replace('mm','').strip()\n",
        "    if 'usb' in a:\n",
        "      return a.replace('usb','').strip()\n",
        "    return a\n",
        "  except Exception as e:\n",
        "    return a\n",
        "  "
      ],
      "execution_count": null,
      "outputs": []
    },
    {
      "cell_type": "code",
      "metadata": {
        "colab": {
          "base_uri": "https://localhost:8080/"
        },
        "id": "ovVN2Y4EpcJO",
        "outputId": "7f7ecd11-20a7-4e7c-c132-5d78110e2ce1"
      },
      "source": [
        "df['Audio jack'].unique()"
      ],
      "execution_count": null,
      "outputs": [
        {
          "output_type": "execute_result",
          "data": {
            "text/plain": [
              "array([nan, '3.5 mm', 'Yes', '3.5mm', '3.5 MM', '3.5', 'Type C', '3.5MM',\n",
              "       '0.3', 'USB Type C', 'yes', 'No'], dtype=object)"
            ]
          },
          "metadata": {
            "tags": []
          },
          "execution_count": 23
        }
      ]
    },
    {
      "cell_type": "code",
      "metadata": {
        "id": "WMGRcARaw3hZ"
      },
      "source": [
        "df['Audio jack']=df['Audio jack'].apply(audio_jack)"
      ],
      "execution_count": null,
      "outputs": []
    },
    {
      "cell_type": "code",
      "metadata": {
        "id": "rnIp2LxYsSyH"
      },
      "source": [
        "def clean_fur(a):\n",
        "  try:\n",
        "    if 'MB' in a:\n",
        "      return float(a.replace('MB',''))*0.001\n",
        "    return float(a)\n",
        "  except Exception as e:\n",
        "    return a"
      ],
      "execution_count": null,
      "outputs": []
    },
    {
      "cell_type": "code",
      "metadata": {
        "id": "qk3tGhLZraDR"
      },
      "source": [
        "df['Inbuilt storage']=df['Inbuilt storage (in gb)'].apply(clean_fur)"
      ],
      "execution_count": null,
      "outputs": []
    },
    {
      "cell_type": "code",
      "metadata": {
        "id": "jcZ9f_iGtVAX"
      },
      "source": [
        "df=df.drop(['Inbuilt storage (in gb)'],axis=1)"
      ],
      "execution_count": null,
      "outputs": []
    },
    {
      "cell_type": "code",
      "metadata": {
        "id": "8pJak8s-qKea"
      },
      "source": [
        "df['RAM']=df['Ram'].apply(storage_convert)\n",
        "df=df.drop(['Ram'],axis=1)"
      ],
      "execution_count": null,
      "outputs": []
    },
    {
      "cell_type": "code",
      "metadata": {
        "id": "3baMrGaElrMa"
      },
      "source": [
        "def resolution(a):\n",
        "  try:\n",
        "    a=a.replace('pixel','')\n",
        "    a=a.replace('pixels','')\n",
        "    a=a.replace('Pixel','')\n",
        "    a=a.replace('Pixels','')\n",
        "    a=a.replace(' ','')\n",
        "    a=a.replace('s','')\n",
        "    a=a.replace('$','')\n",
        "    a=a.strip()\n",
        "    if 'Q' in a or 'p' in a:\n",
        "      return np.nan\n",
        "    return a\n",
        "  except Exception as e:\n",
        "    return a"
      ],
      "execution_count": null,
      "outputs": []
    },
    {
      "cell_type": "code",
      "metadata": {
        "id": "_9LE-KWpmrgQ"
      },
      "source": [
        "df['Resolution']=df['Resolution'].apply(resolution)"
      ],
      "execution_count": null,
      "outputs": []
    },
    {
      "cell_type": "code",
      "metadata": {
        "id": "aKpv6QoRmPN_"
      },
      "source": [
        "def price_clean(a):\n",
        "  try:\n",
        "    a=a.replace(',','')\n",
        "    a=a.replace('₹','')\n",
        "    return float(a)\n",
        "  except Exception as e:\n",
        "    return a"
      ],
      "execution_count": null,
      "outputs": []
    },
    {
      "cell_type": "code",
      "metadata": {
        "id": "LvuQ1pS5mnrE"
      },
      "source": [
        "df['Price']=df['Price'].apply(price_clean)"
      ],
      "execution_count": null,
      "outputs": []
    },
    {
      "cell_type": "code",
      "metadata": {
        "id": "bhZj7jfam7U2"
      },
      "source": [
        "def rating_clean(a):\n",
        "  try:\n",
        "    return float(a)\n",
        "  except Exception as e:\n",
        "    return np.nan\n"
      ],
      "execution_count": null,
      "outputs": []
    },
    {
      "cell_type": "code",
      "metadata": {
        "id": "2wwFGoO4nF1J"
      },
      "source": [
        "df['Rating']=df['Rating'].apply(rating_clean)"
      ],
      "execution_count": null,
      "outputs": []
    },
    {
      "cell_type": "code",
      "metadata": {
        "id": "ZK7vHgvenbQa"
      },
      "source": [
        "def battery_clean(a):\n",
        "  try:\n",
        "    a= a.upper().strip()\n",
        "    #a=a.replace('LI_','LITHIUM ')\n",
        "    #a=a.replace('LI-','LITHIUM ')\n",
        "    if 'ON' in a:\n",
        "      return 'Lithium Ion'\n",
        "    if 'PO' in a:\n",
        "      return 'Lithium Polymer'\n",
        "    if 'REM' in a:\n",
        "      return 'Removable battery'\n",
        "    return a\n",
        "  except Exception as e:\n",
        "    return a"
      ],
      "execution_count": null,
      "outputs": []
    },
    {
      "cell_type": "code",
      "metadata": {
        "colab": {
          "base_uri": "https://localhost:8080/"
        },
        "id": "L5jtgNPz6kGE",
        "outputId": "58e9bb19-5f89-4f25-ea9f-dc5961e2f8a6"
      },
      "source": [
        "print(df['Battery type'].unique().tolist())"
      ],
      "execution_count": null,
      "outputs": [
        {
          "output_type": "stream",
          "text": [
            "['Lithium Ion', 'Lithium Polymer', nan, 'Lithium', 'REMOVABLE', 'Li-Ion', 'Li-on', 'Li-ion', 'lithium-ion', 'li-Ion', 'Lion', 'Lithium Polyme', 'LI POLY', 'Li-Po', '\\xa0lithium-ion', 'lithium-polymer', 'Li-polymer', 'Li-Ion, 1800 mAh', 'li-ion', 'Lithium ion batteries', 'remove able', '\\xa0lithium polymer', 'Li_ion', 'LITHIUM-ION', 'Li-Polymer', 'lion battery', 'Li-Poly', 'LI POLI', 'LI-ION', 'lion', 'Li.Ion', 'Li Polymer', '5C']\n"
          ],
          "name": "stdout"
        }
      ]
    },
    {
      "cell_type": "code",
      "metadata": {
        "id": "dWRzJ4fSoiY4"
      },
      "source": [
        "df['Battery type']=df['Battery type'].apply(battery_clean)"
      ],
      "execution_count": null,
      "outputs": []
    },
    {
      "cell_type": "markdown",
      "metadata": {
        "id": "V-sX3ULM_2Xx"
      },
      "source": [
        "**Perform senitment analysis on reviews and using it ahead for analysis and removing the reviews column**"
      ]
    },
    {
      "cell_type": "code",
      "metadata": {
        "colab": {
          "base_uri": "https://localhost:8080/"
        },
        "id": "uPa7MZQD-Eh0",
        "outputId": "418d4186-df25-4f7c-8df1-9ebc42be9c32"
      },
      "source": [
        "import nltk\n",
        "nltk.download('punkt')"
      ],
      "execution_count": null,
      "outputs": [
        {
          "output_type": "stream",
          "text": [
            "[nltk_data] Downloading package punkt to /root/nltk_data...\n",
            "[nltk_data]   Unzipping tokenizers/punkt.zip.\n"
          ],
          "name": "stdout"
        },
        {
          "output_type": "execute_result",
          "data": {
            "text/plain": [
              "True"
            ]
          },
          "metadata": {
            "tags": []
          },
          "execution_count": 38
        }
      ]
    },
    {
      "cell_type": "code",
      "metadata": {
        "id": "-cJMpeqF-J8q"
      },
      "source": [
        "from textblob import TextBlob\n",
        "def getSentiment(data):\n",
        "  try:\n",
        "    data=\" \".join(data)\n",
        "    if isinstance(data,str):\n",
        "        blob =TextBlob(str(data))\n",
        "        senti = [sentence.sentiment.polarity for sentence in blob.sentences]\n",
        "        avg_sentiment = sum(senti)/len(senti) \n",
        "        return avg_sentiment\n",
        "    else:\n",
        "        return 0\n",
        "  except Exception as e:\n",
        "    return 0"
      ],
      "execution_count": null,
      "outputs": []
    },
    {
      "cell_type": "code",
      "metadata": {
        "colab": {
          "base_uri": "https://localhost:8080/"
        },
        "id": "4dfzKxtY-OXy",
        "outputId": "bc4b4ead-40e1-4049-98af-53399c8cd75e"
      },
      "source": [
        "\n",
        "df['sentiments'] = df['Detailed reviews'].apply(getSentiment)\n",
        "df.info()"
      ],
      "execution_count": null,
      "outputs": [
        {
          "output_type": "stream",
          "text": [
            "<class 'pandas.core.frame.DataFrame'>\n",
            "RangeIndex: 1110 entries, 0 to 1109\n",
            "Data columns (total 24 columns):\n",
            " #   Column                  Non-Null Count  Dtype  \n",
            "---  ------                  --------------  -----  \n",
            " 0   Whats in the box        1094 non-null   object \n",
            " 1   Item model number       1092 non-null   object \n",
            " 2   Name                    1104 non-null   object \n",
            " 3   Colour                  1100 non-null   object \n",
            " 4   Resolution              898 non-null    object \n",
            " 5   Display technology      657 non-null    object \n",
            " 6   Other display features  650 non-null    object \n",
            " 7   Operating system        787 non-null    object \n",
            " 8   Processor brand         635 non-null    object \n",
            " 9   Expandable storage      742 non-null    float64\n",
            " 10  Audio jack              509 non-null    object \n",
            " 11  Gps                     330 non-null    object \n",
            " 12  Battery power (in mah)  1012 non-null   float64\n",
            " 13  Item weight             833 non-null    float64\n",
            " 14  Warranty details        1044 non-null   object \n",
            " 15  Price                   1109 non-null   float64\n",
            " 16  Rating                  1045 non-null   float64\n",
            " 17  Detailed reviews        989 non-null    object \n",
            " 18  Battery type            412 non-null    object \n",
            " 19  Other camera features   711 non-null    object \n",
            " 20  OEM                     1110 non-null   object \n",
            " 21  Inbuilt storage         1033 non-null   float64\n",
            " 22  RAM                     1044 non-null   float64\n",
            " 23  sentiments              1110 non-null   float64\n",
            "dtypes: float64(8), object(16)\n",
            "memory usage: 208.2+ KB\n"
          ],
          "name": "stdout"
        }
      ]
    },
    {
      "cell_type": "code",
      "metadata": {
        "id": "39xV18sK-S2Q"
      },
      "source": [
        "df=df.drop(['Detailed reviews'],axis=1)"
      ],
      "execution_count": null,
      "outputs": []
    },
    {
      "cell_type": "code",
      "metadata": {
        "id": "Lv5AHkY7Anp0"
      },
      "source": [
        "df=df.rename(columns={'Expandable storage':'Expandable storage (in GB)',\n",
        "                      'Item weight':'Item weight (in gms)',\n",
        "                      'Price':'Price (₹)',\n",
        "                      'Inbuilt storage':'Inbuilt storage (in GB)',\n",
        "                      'RAM':'RAM (in GB)'})"
      ],
      "execution_count": null,
      "outputs": []
    },
    {
      "cell_type": "markdown",
      "metadata": {
        "id": "xNtuAmrEwuEM"
      },
      "source": [
        "**Handling missing values**"
      ]
    },
    {
      "cell_type": "code",
      "metadata": {
        "colab": {
          "base_uri": "https://localhost:8080/"
        },
        "id": "JGF82RwmUNZO",
        "outputId": "1fb6c46a-ce26-44ff-897a-b7e45a14c3ad"
      },
      "source": [
        "df.columns"
      ],
      "execution_count": null,
      "outputs": [
        {
          "output_type": "execute_result",
          "data": {
            "text/plain": [
              "Index(['Whats in the box', 'Item model number', 'Name', 'Colour', 'Resolution',\n",
              "       'Display technology', 'Other display features', 'Operating system',\n",
              "       'Processor brand', 'Expandable storage (in GB)', 'Audio jack', 'Gps',\n",
              "       'Battery power (in mah)', 'Item weight (in gms)', 'Warranty details',\n",
              "       'Price (₹)', 'Rating', 'Battery type', 'Other camera features', 'OEM',\n",
              "       'Inbuilt storage (in GB)', 'RAM (in GB)', 'sentiments'],\n",
              "      dtype='object')"
            ]
          },
          "metadata": {
            "tags": []
          },
          "execution_count": 43
        }
      ]
    },
    {
      "cell_type": "code",
      "metadata": {
        "id": "awhGi6h3tvcN"
      },
      "source": [
        "df.dropna(subset=['Price (₹)'],axis=0,inplace=True)"
      ],
      "execution_count": null,
      "outputs": []
    },
    {
      "cell_type": "code",
      "metadata": {
        "id": "nXv8g0iXp9Nw"
      },
      "source": [
        "for i in df.columns:\n",
        "  if df[i].dtypes=='float64':\n",
        "    avg=df[i].mean()\n",
        "    df[i].replace(np.nan,avg,inplace=True)"
      ],
      "execution_count": null,
      "outputs": []
    },
    {
      "cell_type": "code",
      "metadata": {
        "colab": {
          "base_uri": "https://localhost:8080/"
        },
        "id": "oWluzSgV_zVi",
        "outputId": "872d6899-9453-4a14-ada3-50fc536ba3b0"
      },
      "source": [
        "m=[]\n",
        "for i in df.columns:\n",
        "  if df[i].dtypes=='object':\n",
        "    m.append(i)\n",
        "print(\", \".join(m))"
      ],
      "execution_count": null,
      "outputs": [
        {
          "output_type": "stream",
          "text": [
            "Whats in the box, Item model number, Name, Colour, Resolution, Display technology, Other display features, Operating system, Processor brand, Audio jack, Gps, Warranty details, Battery type, Other camera features, OEM\n"
          ],
          "name": "stdout"
        }
      ]
    },
    {
      "cell_type": "code",
      "metadata": {
        "id": "ZGkILPcesFgY"
      },
      "source": [
        "for i in df.columns:\n",
        "  if df[i].dtypes=='object':\n",
        "    val=df[i].value_counts().idxmax()\n",
        "    df[i].replace(np.nan,val,inplace=True)"
      ],
      "execution_count": null,
      "outputs": []
    },
    {
      "cell_type": "code",
      "metadata": {
        "id": "VwIqcMhEAl-j"
      },
      "source": [
        "df['Processor brand'].unique().tolist().sort()"
      ],
      "execution_count": null,
      "outputs": []
    },
    {
      "cell_type": "code",
      "metadata": {
        "colab": {
          "base_uri": "https://localhost:8080/"
        },
        "id": "wwSZO_YBm87x",
        "outputId": "a1f8072e-8fa0-4fcb-dfaa-1ffaf952f02b"
      },
      "source": [
        "def oss(a):\n",
        "  try:\n",
        "    if len(a)<3 or a=='0.1' or a=='8.1' or a=='4.1.1' or a=='1.1' or a=='3.7V':\n",
        "      return 'No'\n",
        "    else:\n",
        "      return a\n",
        "    return a\n",
        "  except Exception as e:\n",
        "    return a\n",
        "      \n",
        "dl=df.copy()\n",
        "dl['Operating system']=dl['Operating system'].apply(oss)\n",
        "dl['Operating system'].unique().tolist()"
      ],
      "execution_count": null,
      "outputs": [
        {
          "output_type": "execute_result",
          "data": {
            "text/plain": [
              "['Android',\n",
              " 'Android 9.0',\n",
              " 'Android 10',\n",
              " 'Stock Android 10 Go',\n",
              " 'Android 9.0; Go Edition',\n",
              " 'Stock Android 10',\n",
              " 'Android 8.1',\n",
              " 'Android 10.0',\n",
              " 'Symbian',\n",
              " 'Nougat 7.0',\n",
              " 'iOS 12',\n",
              " 'Android 6.0',\n",
              " 'Funtouch OS 11 (Based on Android 11)',\n",
              " 'Symbian 9.1',\n",
              " 'Symbian 9.3',\n",
              " 'Android; Android 10.0',\n",
              " 'Android; Android',\n",
              " 'Android 7.0',\n",
              " 'IOS',\n",
              " 'Android 10.0; Go Edition',\n",
              " 'Android 8.0',\n",
              " 'No',\n",
              " 'Windows',\n",
              " 'Android 11',\n",
              " 'Android Nougat 7',\n",
              " 'iOS 14.2',\n",
              " 'Android Pie 9.0',\n",
              " 'Android Pie 9',\n",
              " 'Android Pie 10',\n",
              " 'Android 10 (Go Edition)',\n",
              " 'Android Android Q 10',\n",
              " 'Series 30+',\n",
              " 'Android Android Q 11',\n",
              " 'Android Oreo 8.1',\n",
              " 'Symbian 1',\n",
              " 'Belle',\n",
              " 'iOS 13',\n",
              " 'Android 10 Go Edition',\n",
              " 'Android Android Q Oxygen OS V10',\n",
              " 'Android Android Q Android 9',\n",
              " 'iOS 14',\n",
              " 'Android Pie 9.0 (Go Edition)',\n",
              " 'Android Android V10',\n",
              " 'Android Android Q V10',\n",
              " 'Android Nougat 7.0',\n",
              " 'Series 30',\n",
              " 'MOCOR_16A_MP_W17.43.4',\n",
              " 'Android Oreo Andriod 10(Go Edition)',\n",
              " 'Android Marshmallow 6.0',\n",
              " 'Version 06',\n",
              " 'Android Pie 9.0(Go)',\n",
              " 'Android Marshmallow 6.0.1',\n",
              " 'Android Android Q Android 10',\n",
              " 'Android Oreo 8.1.0']"
            ]
          },
          "metadata": {
            "tags": []
          },
          "execution_count": 49
        }
      ]
    },
    {
      "cell_type": "code",
      "metadata": {
        "colab": {
          "base_uri": "https://localhost:8080/"
        },
        "id": "NTu0gDBviZel",
        "outputId": "39c1c881-521a-43ee-c2f9-cb1c124b0090"
      },
      "source": [
        "df['Other camera features'].unique().tolist()"
      ],
      "execution_count": null,
      "outputs": [
        {
          "output_type": "execute_result",
          "data": {
            "text/plain": [
              "['2MP',\n",
              " '5',\n",
              " '12MP+2MP+2MP',\n",
              " 'Rear, Front',\n",
              " '64MP+8MP+5MP+5MP',\n",
              " '48MP+8MP+5MP',\n",
              " '8MP',\n",
              " '13MP+2MP',\n",
              " '48MP+8MP+2MP+2MP',\n",
              " '32MP',\n",
              " '64 MP + 12MP + 5MP + 5MP',\n",
              " '48MP',\n",
              " '64MP+12MP+5MP+5MP',\n",
              " '64MP+8MP+5MP+2MP',\n",
              " '64MP + 12MP + 5MP + 5MP+32MP Front Camera',\n",
              " '8MP Rear and 5MP Front Camera',\n",
              " '12MP+8MP+2MP+2MP',\n",
              " '13MP',\n",
              " '13MP+5MP+2MP',\n",
              " '13MP+2MP+2MP',\n",
              " '13MP+8MP+5MP+2MP',\n",
              " '16MP',\n",
              " '13MP+12MP',\n",
              " '16MP Selfie Camera Setup, Sensor Sizes/Pixel Data: 1/3.09, 1.0um, CMOS Sensor, Focusing Mode: FF, 79.3 Degree Wide Angle of Front Camera, f/2.1 Aperture, Lens Number: 5P, EIS Support, Characteristic Function for Photograph: Time-lapse Photography, Front Panorama, Beauty, Front Shot Flip, Super Nightscape, Blurring Adjustable, Slow Motion: 1080P at 120 fps, 64MP + 8MP + 2MP + 2MP Rear Camera Setup, Sensor Sizes/Pixel Data: 1/1.73, 0.8um (64MP, Main) + 1/4, 1.12um (8MP, Wide Angle) + 1/5, 1.75um (2MP, B and W Portrait Lens) + 1/5, 1.75um (2MP, Macro), CMOS Sensor, Focusing Method: PDAF, Aperture: f/1.8 (64MP) + f/2.3 (8MP) + f/2.4 (2MP) + f/2.4 (2MP), Focal Length: 26 mm (64MP) + 16 mm (8MP) + 22 mm (2MP) + 22 mm (2MP), 119 Degree Wide Angle of Rear Camera, Lens Number: 6P (64MP) + 5P (8MP) + 3P (2MP) + 3P (2MP), 2M (4cm) Macro Lens, Slow Motion: 1080P at 120 fps, 720P at 240 fps, Characteristic Function for Photograph: Super Nightscape, Panorama, Portrait Mode, Time-lapse Photography, HDR, Ultra Wide, Ultra Macro, AI Scene Recognition, AI Beauty, Filter, Chroma Boost, Ways of Taking Photos: Touch, Volume Button, Timer, EIS Support',\n",
              " '5MP Rear, 2MP Front',\n",
              " '5MP Front, 8MP Rear',\n",
              " 'No Camera',\n",
              " '48MP + 8MP + 2MP + 2MP',\n",
              " '16 Mpix Primary camera with Face Beauty, Blur, Panorama, Mono, Pro and 8 Mpix Front front facing camera',\n",
              " 'Main Camera: Dual LED Flash, Multi Autofocus ( PDAF+CAF) | Front Camera: Fixed Focus, Time Lapse, 1080 video @30 fps',\n",
              " '8MP Front, 13MP Rear',\n",
              " '13MP+8MP+2MP+2MP',\n",
              " '44MP',\n",
              " '5MP Front, 5MP Rear',\n",
              " '2MP, 5MP',\n",
              " '12MP',\n",
              " '32MP+12MP',\n",
              " 'Rear',\n",
              " '8 MP f/2.0',\n",
              " '48MP+2MP+2MP',\n",
              " 'Front',\n",
              " '8MP Rear Camera, 5MP Front Camera',\n",
              " '13MP (Rear Main) + 2MP (Mono) + 2MP (Macro) Rear Camera Setup, Sensor Sizes/Pixel Data: 1/3 inch, 1.12um (13MP) + 1/5 inch, 1.75um (2MP), 1/5 inch, 1.75um (2MP), CMOS Sensor, Focusing Method: PDAF (13MP) + FF (2MP) + FF (2M), Aperture: f/2.2 (13MP) + f/2.4 (2MP) + f/2.4 (2MP), Lens Number: 5P (13MP) + 3P (2MP) + 3P (2MP), Slow Motion: 720p at 90 fps, Characteristic Function for Photograph: Beauty, Filter, HDR, Panoramic View, Portrait, Timelapse, Slo-mo, NightScape, Expert, Ways of Taking Photos: Timer, Touch, Gesture, Volume Button, Fingerprint, 5MP Front Camera, Sensor Sizes/Pixel Data: 1/5 inch, 1.12um, CMOS Sensor, Focusing Mode: FF, f/2.4 Aperture, 3P Lens, Ways of Taking Photos: Timer, Touch, Gesture, Volume Button, Fingerprint, Characteristic Function for Photograph: Beauty, Filter, HDR, Panoramic View, Portrait, Timelapse',\n",
              " '8',\n",
              " '5MP',\n",
              " '13MP + 5MP + 2MP',\n",
              " '20MP (Front camera)',\n",
              " '48MP+8MP+5MP+2MP',\n",
              " '8MP Rear Camera | 5MP Front Camera',\n",
              " 'Rear packs 8-megapixel camera. The rear camera setup has autofocus. It sports a 5-megapixel camera on the front for selfies.',\n",
              " '13MP+Bokeh Lens | Dual Rear Camera',\n",
              " '13MP + AI Lens Dual Camera, AI HDR, AI Beauty, Bokeh Mode, Auto Scene Detection, Panorama, 8MP AI Selfie Camera, AI Beauty, AI Portrait, Wide Selfie',\n",
              " '13MP +12MP',\n",
              " '13',\n",
              " '5 MP Front , 13MP Rear',\n",
              " '16MP + 8MP + 2MP + 2MP',\n",
              " '8MP Rear Camera',\n",
              " '16MP+ 2MP+ 2MP+AI',\n",
              " '8MP + 0.3MP | 5MP Front Camera',\n",
              " 'This comes with Single 8 Mpix Rear camera With Flash Which give Smartphone a rich and elegant Look. It also has a Single Front Camera of 5 MPix Selfie Camera with Focus and Flash Features,',\n",
              " '16+2+2 FORNT 8',\n",
              " '13MP + 2MP Rear Camera Setup, Sensor Sizes/Pixel Data: 13MP (1/3 inch, 1.12um), 2MP (1/5 inch, 1.75um), CMOS Sensor, Focusing Method: PDAF/AF (13MP), FF (2MP), 4X Maximum Zoom, Aperture: F/2.2 (13MP), F/2.4 (2MP), Focal Length: 25.53mm (13MP), Wide Angle of Rear Camera: 83.3 Degree (13MP), 88.8 Degree (2MP), Lens Number: 5P (13MP), 3P (2MP), Slow Motion: 720p at 90 fps, Characteristic Function for Photograph: Beauty, Filter, HDR, Panoramic View, Portrait, Timelapse, Slo-mo, NightScape, Expert, Continuous Capture Modes (Max 20), Ways of Taking Photos: Timer, Touch, Gesture, Volume Button, Fingerprint, 5MP Front Camera, Sensor Sizes/Pixel Data: 1/5 inch, 1.12um, CMOS Sensor, Focusing Mode: FF, 77.9 Degree Wide Angle Camera, F/2.4 Aperture, 3P Lens, Characteristic Function for Photograph: Beauty, Filter, HDR, Panoramic View, Portrait, Timelapse, Ways of Taking Photos: Timer, Touch, Gesture, Volume Button, Fingerprint',\n",
              " 'This comes with Dual Rear Camera 13+8 Mpix camera With Flash Which give Smartphone a rich and elegant Look. It also has a Single Front Camera of 8 MPix Selfie Camera with Focus and Flash Features,',\n",
              " '48 MP (f/1.7, 1.6um) Quad Pixel Technology, 2 MP (f/2.4, 1.75um) Depth Camera, 2 MP (f/2.4, 1.75um) Macro Camera, Rear Camera Software: Auto Smile Capture, Smart Composition, Shot Optimization, Night Vision, High-res Zoom, HDR, Timer, AR Stickers, Active Photos, Cinemagraph, Manual Mode, Portrait Mode, Cutout, Spot Color, Panorama, Live Filter, RAW Photo Output, Watermark, Burst Shot, Best Shot, Google Lens Integration, Rear Camera Video Software: Slow Motion Video, Timelapse Video, Hyperlapse Video, 8 MP (f/2.2, 1.12um) Front Camera, Front Camera Software: Auto Smile Capture, Portrait Mode, Face Beauty, HDR, Manual Mode, Watermark, Burst Shot, Best Shot, Photo Mirror, Timer, Active Photo, Live Filter, RAW Photo Output, Spot Color, Group Selfie, Gesture Selfie, Front Camera Video Software: Timelapse Video, Hyperlapse Video',\n",
              " '48MP+13MP+8MP+5MP',\n",
              " '64MP+5MP+2MP+AI',\n",
              " '64MP + 8MP + 2MP + 2MP Rear Camera Setup, Sensor: Sony IMX682 (Main Camera) , Aperture: f/1.8 (Main Camera) + f/2.3 (Ultra Wide/Wide-angle) + f/2.4 (Macro) + f/2.4 (Portrait), FOV: 78.6 Degree (Main Camera) + 119 Degree (Ultra Wide/Wide-angle) + 83.5 Degree (Macro) + 88.8 Degree (Portrait), Focal Length: 26.1 mm (Main Camera) + 15.7 mm (Ultra Wide/Wide-angle) + 23.2 mm (Macro) + 21.9 mm (Portrait), 10x Zoom, Lens Number: 6P (Main Camera) + 5P (Ultra Wide/Wide angle) + 3P (Macro) + 3P (Portrait), CMOS Sensor, Sensor Size: 1/1.73 inch (Main Camera) + 1/4 inch (Ultra Wide/Wide angle) + 1/5 inch (Macro) + 1/5 inch (Portrait), Focusing Method: PDAF (Main Camera) + FF (Ultra Wide/Wide-angle, Macro, Portrait), Slow Motion: 1080P at 120 fps, 720P at 240 fps, Characteristic Function for Photograph: Beauty, Filter, HDR, Panoramic View, Portrait, NightScape, Expert, Ultra Macro, Text Scanner, 32MP Selfie Camera Setup, Sensor: Omnivision OV32A1Q, f/2.5 Aperture, 85 Degree Wide Angle of Front Camera, CMOS Sensor, Sensor Size: 1/2.75 inch, 5P Lens, Focusing Mode: FF, Characteristic Function: Beauty, Filter, HDR, Panoramic View, Portrait, Timelapse, NightScape, Slo-mo, Slow Motion: 1080P at 120 fps, EIS Support',\n",
              " 'This comes with Dual Rear Camera 13+5 Mpix camera With Flash Which give Smartphone a rich and elegant Look. It also has a Single Front Camera of 8 MPix Selfie Camera with Focus and Flash Features,',\n",
              " '5MP front camera + 5 MP rear camera with flesh',\n",
              " '8 MP (f/2.2, 1.12um) Selfie Camera Setup, Front Camera Software: Auto Smile Capture, Portrait Mode, Face Beauty, HDR, Manual Mode, Watermark, Burst Shot, Best Shot, Photo Mirror, Timer, Active Photos, Live Filter, RAW Photo Output, Spot Color, Gesture Selfie, Front Camera Video Software: Timelapse Video, Hyperlapse Video, 48MP + 2MP Rear Camera Setup, 48 MP (f/1.7, 1.6um) Quad Pixel Technology (12MP Output), 2 MP (f/2.4, 1.75um) Depth, Rear Camera Software: Auto Smile Capture, Smart Composition, Night Vision, High-res Zoom, HDR, Timer, Active Photos, Manual Mode, Portrait Mode, Cutout, Spot Color, Panorama, Live Filter, RAW Photo Output, Watermark, Burst Shot, Best Shot, Google Lens Integration, Rear Camera Video Software: Slow Motion Video, Timelapse Video, Hyperlapse Video',\n",
              " 'It Comes With Single rear camera of 5 Mpix, Other camera is Decorative not the real Camera only to give Smartphone a rich and elegant Look. It also has a Single Front Camera of 5 Mpix.',\n",
              " '48+8+2 MP',\n",
              " '5MP Rear Camera, 2MP Rear Camera',\n",
              " '13MP + 2MP+5MP Front Camera',\n",
              " '13MP + 2MP + 2MP+5MP Front Camera',\n",
              " '48MP + 2MP + 2MP+8MP Front Camera',\n",
              " '13MP Rear Camera+5MP Front Camera',\n",
              " '48MP + 8MP + 5MP + 2MP+16MP Front Camera',\n",
              " '13MP + 8MP + 5MP + 2MP+8MP Front Camera',\n",
              " '13MP Rear Camera+8MP Front Camera',\n",
              " '8MP Rear Camera+5MP Front Camera',\n",
              " '12MP + 2MP + 2MP+8MP Front Camera',\n",
              " '48MP + 8MP + 2MP + 2MP+16MP Front Camera',\n",
              " '64MP + 13MP + 2MP + 2MP+20MP Front Camera',\n",
              " '48MP + 8MP + 2MP+8MP Front Camera',\n",
              " '64MP + 8MP + 2MP+16MP Front Camera',\n",
              " '16MP + 2MP + 2MP + Low Light Sensor+8MP Front Camera',\n",
              " '13MP + 8MP + 2MP + 2MP+8MP Front Camera',\n",
              " '64MP + 8MP + 2MP + 2MP+16MP Front Camera',\n",
              " '13MP + Depth Sensor+8MP Front Camera',\n",
              " '13MP + 2MP + 2MP + AI Lens Quad AI Camera+8MP Front Camera',\n",
              " '48MP + 2MP + 2MP + AI Lens Camera+16MP Front Camera',\n",
              " '48MP + 2MP+8MP Front Camera',\n",
              " '12MP + 12MP+12MP Front Camera',\n",
              " '13 MP + 2 MP + 2 MP + Low Light Sensor+8MP Front Camera',\n",
              " '12MP + 8MP + 2MP + 2MP+16MP Front Camera',\n",
              " '13MP + Digital Camera+5MP Front Camera',\n",
              " '48 MP + 2 MP + 2 MP + Low Light Sensor+8MP Front Camera',\n",
              " '64MP + 8MP + 2MP + 2MP+32MP Front Camera',\n",
              " '64MP + 8MP + 5MP+32MP Front Camera',\n",
              " '13MP + Low Light Sensor+8MP Front Camera',\n",
              " '13MP + 8MP + 2MP + 2MP+16MP Front Camera',\n",
              " '12.2MP Rear Camera+8MP Front Camera',\n",
              " '12MP + 2MP+5MP Front Camera',\n",
              " '48MP + 5MP + 2MP + 2MP+16MP Front Camera',\n",
              " '64MP + 8MP + 5MP + 2MP+32MP Front Camera',\n",
              " '64MP + 2MP + 2MP+16MP Front Camera',\n",
              " '13MP + 2MP+8MP Front Camera',\n",
              " '64MP + 8MP + 2MP + 2MP+20MP + 2MP Dual Front Camera',\n",
              " '64MP + 8MP + 5MP + 5MP+32MP Front Camera',\n",
              " '13MP + 2MP + 2MP+8MP Front Camera',\n",
              " '48MP + 2MP + 2MP+16MP Front Camera',\n",
              " '48MP + 8MP + 2MP+16MP Front Camera',\n",
              " '48MP + 8MP + 2MP+32MP Front Camera',\n",
              " '13MP + AI Lens Dual Camera+8MP Front Camera',\n",
              " '48MP + 2MP + 2MP + QVGA Rear Camera+16MP Front Camera',\n",
              " '48MP + 8MP + 2MP + 2MP+32MP Front Camera',\n",
              " '13MP + AI Lens Dual AI Camera+8MP Front Camera',\n",
              " '12MP Rear Camera+7MP Front Camera',\n",
              " '64MP + 8MP + 2MP+44MP Front Camera',\n",
              " '12MP + 13MP+32MP Front Camera',\n",
              " '8MP + 0.3MP+5MP Front Camera',\n",
              " '48MP + 8MP + 2MP + 2MP+13MP Front Camera',\n",
              " '108MP + 8MP + 2MP + 2MP+16MP Front Camera',\n",
              " '64MP + 12MP + 8MP + 2MP+16MP + 8MP Dual Front Camera',\n",
              " '13MP + 8MP+8MP Front Camera',\n",
              " '13MP + 2MP + 2MP+16MP Front Camera',\n",
              " '64MP + 8MP + 8MP + 2MP+32MP + 8MP Dual Front Camera',\n",
              " '48MP + 8MP + 2MP + AI Lens Camera+16MP + 8MP Dual Front Camera',\n",
              " '12MP Rear Camera+8MP Front Camera',\n",
              " '48MP Rear Camera+8MP Front Camera',\n",
              " '8MP Rear Camera+8MP Front Camera',\n",
              " '16MP + 2MP + 2MP + AI Lens Quad Camera+8MP Front Camera',\n",
              " '48MP + 8MP + 5MP + 5MP+20MP Front Camera',\n",
              " '48MP + 8MP + 5MP+20MP Front Camera',\n",
              " '48MP + 13MP + 13MP + 2MP+16MP Front Camera',\n",
              " '64MP + 2MP + 2MP + AI Lens Quad AI Camera+16MP Front Camera',\n",
              " '13MP + 5MP+13MP Front Camera',\n",
              " '16MP + 8MP + 2MP + 2MP+16MP Front Camera',\n",
              " '12MP + 12MP + 12MP+12MP Front Camera',\n",
              " '48MP + 8MP + 2MP + 2MP+16MP + 2MP Dual Front Camera',\n",
              " '48MP + 8MP + 2MP + 2MP+32MP + 8MP Dual Front Camera',\n",
              " '48MP + 12MP + 5MP + 5MP+32MP Front Camera',\n",
              " '64MP + 8MP + 2MP + 2MP+20MP Front Camera',\n",
              " '48MP + 48MP + 8MP + 5MP + 2MP+16MP Dual Front Camera',\n",
              " '5MP Rear Camera+2MP Front Camera',\n",
              " '48MP + 12MP + 5MP+32MP Front Camera',\n",
              " '64MP Rear Camera+20MP Front Camera',\n",
              " '16MP + 2MP + 8MP+32MP Front Camera',\n",
              " '12MP + 2MP+8MP Front Camera',\n",
              " '13MP + 2MP + 8MP+8MP Front Camera',\n",
              " '64MP + 13MP + 8MP + 2MP+44MP + 2MP Dual Front Camera',\n",
              " '48MP + 13MP + 8MP + 8MP+32MP Front Camera',\n",
              " '13MP + 5MP + 2MP+8MP Front Camera',\n",
              " '48MP + 5MP+16MP Front Camera',\n",
              " '48MP + 13MP + 8MP + 2MP+32MP + 8MP Dual Front Camera',\n",
              " '16MP + 8MP + 2MP+32MP Front Camera',\n",
              " '16 MP + 2 MP + 2 MP + QVGA Quad AI Camera+8MP Front Camera',\n",
              " '48MP + 5MP+13MP Front Camera',\n",
              " '20MP + 12MP+20MP Front Camera',\n",
              " '1.3MP + 0.3MP+0.3MP Front Camera',\n",
              " '64MP + 13MP + 5MP+24MP Front Camera',\n",
              " '0.3MP Rear Camera+0MP Front Camera',\n",
              " '13MP + 5MP + 2MP + 2MP+8MP Front Camera',\n",
              " '8MP + 8MP+8MP Front Camera',\n",
              " '64MP + 12MP+32MP Front Camera',\n",
              " '48MP + 13MP + 8MP+20MP Front Camera',\n",
              " '0.3MP Rear Camera+0.3MP Front Camera',\n",
              " '5MP Rear Camera+5MP Front Camera',\n",
              " '12MP + 2MP+13MP Front Camera',\n",
              " '16MP + 8MP + 2MP+16MP Front Camera',\n",
              " '12MP + 8MP + 2MP + 2MP+8MP Front Camera',\n",
              " '1.3MP + 1.3MP+1.3MP Front Camera',\n",
              " '48MP + 8MP + 2MP + 2MP Quad Camera+16MP Front Camera',\n",
              " '13MP + 8MP + 5MP+8MP Front Camera',\n",
              " '12MP + 5MP+20MP + 2MP Dual Front Camera',\n",
              " '64MP + 12MP + 12MP+10MP Front Camera',\n",
              " '16MP Rear Camera+5MP Front Camera',\n",
              " '64MP + 5MP + 8MP+32MP Front Camera',\n",
              " '64MP + 13MP + 8MP + 2MP+16MP Front Camera',\n",
              " '12MP + 5MP + 8MP+32MP Front Camera',\n",
              " '12MP + 12MP + 12MP+32MP Front Camera']"
            ]
          },
          "metadata": {
            "tags": []
          },
          "execution_count": 50
        }
      ]
    },
    {
      "cell_type": "code",
      "metadata": {
        "colab": {
          "base_uri": "https://localhost:8080/",
          "height": 927
        },
        "id": "5VVv8Jwe5RkW",
        "outputId": "db93a97c-06ba-4e2c-d2bb-88c8833fc48a"
      },
      "source": [
        "dl=df.copy()\n",
        "dl.sort_values(['Battery power (in mah)'])[['Battery power (in mah)','Name','OEM']][:30]"
      ],
      "execution_count": null,
      "outputs": [
        {
          "output_type": "execute_result",
          "data": {
            "text/html": [
              "<div>\n",
              "<style scoped>\n",
              "    .dataframe tbody tr th:only-of-type {\n",
              "        vertical-align: middle;\n",
              "    }\n",
              "\n",
              "    .dataframe tbody tr th {\n",
              "        vertical-align: top;\n",
              "    }\n",
              "\n",
              "    .dataframe thead th {\n",
              "        text-align: right;\n",
              "    }\n",
              "</style>\n",
              "<table border=\"1\" class=\"dataframe\">\n",
              "  <thead>\n",
              "    <tr style=\"text-align: right;\">\n",
              "      <th></th>\n",
              "      <th>Battery power (in mah)</th>\n",
              "      <th>Name</th>\n",
              "      <th>OEM</th>\n",
              "    </tr>\n",
              "  </thead>\n",
              "  <tbody>\n",
              "    <tr>\n",
              "      <th>189</th>\n",
              "      <td>1.56</td>\n",
              "      <td>5S 16GB Silver by Original I P H O N E with 1 ...</td>\n",
              "      <td>Amazon</td>\n",
              "    </tr>\n",
              "    <tr>\n",
              "      <th>244</th>\n",
              "      <td>22.00</td>\n",
              "      <td>Motorola E7 Plus (Misty Blue, 64 GB) (4 GB RAM)</td>\n",
              "      <td>Amazon</td>\n",
              "    </tr>\n",
              "    <tr>\n",
              "      <th>202</th>\n",
              "      <td>22.00</td>\n",
              "      <td>Realme C11 (Rich Green, 32 GB) (2 GB RAM)</td>\n",
              "      <td>Amazon</td>\n",
              "    </tr>\n",
              "    <tr>\n",
              "      <th>183</th>\n",
              "      <td>22.00</td>\n",
              "      <td>Itel Vision1 (Gradation Green, 32 GB) (3 GB RAM)</td>\n",
              "      <td>Amazon</td>\n",
              "    </tr>\n",
              "    <tr>\n",
              "      <th>120</th>\n",
              "      <td>22.00</td>\n",
              "      <td>Realme 7 (Mist White, 64 GB) (6 GB RAM)</td>\n",
              "      <td>Amazon</td>\n",
              "    </tr>\n",
              "    <tr>\n",
              "      <th>218</th>\n",
              "      <td>22.00</td>\n",
              "      <td>Motorola G9 (Sapphire Blue, 64 GB) (4 GB RAM)</td>\n",
              "      <td>Amazon</td>\n",
              "    </tr>\n",
              "    <tr>\n",
              "      <th>222</th>\n",
              "      <td>22.00</td>\n",
              "      <td>Realme 7 Pro (Mirror Blue, 128 GB) (6 GB RAM)</td>\n",
              "      <td>Amazon</td>\n",
              "    </tr>\n",
              "    <tr>\n",
              "      <th>34</th>\n",
              "      <td>22.00</td>\n",
              "      <td>Realme 7 (Mist Blue, 64 GB) (6 GB RAM)</td>\n",
              "      <td>Amazon</td>\n",
              "    </tr>\n",
              "    <tr>\n",
              "      <th>71</th>\n",
              "      <td>22.00</td>\n",
              "      <td>Realme C12 (Power Blue, 32 GB) (3 GB RAM)</td>\n",
              "      <td>Amazon</td>\n",
              "    </tr>\n",
              "    <tr>\n",
              "      <th>175</th>\n",
              "      <td>24.00</td>\n",
              "      <td>Infinix Smart HD 2021 (Quartz Green 32 GB/2 GB...</td>\n",
              "      <td>Amazon</td>\n",
              "    </tr>\n",
              "    <tr>\n",
              "      <th>165</th>\n",
              "      <td>300.00</td>\n",
              "      <td>Kechaoda K10 Finger Bluetooth Phone, Single SI...</td>\n",
              "      <td>Amazon</td>\n",
              "    </tr>\n",
              "    <tr>\n",
              "      <th>167</th>\n",
              "      <td>300.00</td>\n",
              "      <td>KECHAODA A27 Keypad Dual Sim Mini Mobile Phone...</td>\n",
              "      <td>Amazon</td>\n",
              "    </tr>\n",
              "    <tr>\n",
              "      <th>659</th>\n",
              "      <td>300.00</td>\n",
              "      <td>K10</td>\n",
              "      <td>Flipkart</td>\n",
              "    </tr>\n",
              "    <tr>\n",
              "      <th>178</th>\n",
              "      <td>300.00</td>\n",
              "      <td>Kechaoda K10 Finger Bluetooth Phone, Single SI...</td>\n",
              "      <td>Amazon</td>\n",
              "    </tr>\n",
              "    <tr>\n",
              "      <th>544</th>\n",
              "      <td>300.00</td>\n",
              "      <td>K10</td>\n",
              "      <td>Flipkart</td>\n",
              "    </tr>\n",
              "    <tr>\n",
              "      <th>83</th>\n",
              "      <td>400.00</td>\n",
              "      <td>KECHAODA SM Company K33 Bluetooth Dialer with ...</td>\n",
              "      <td>Amazon</td>\n",
              "    </tr>\n",
              "    <tr>\n",
              "      <th>888</th>\n",
              "      <td>400.00</td>\n",
              "      <td>K116 Plus</td>\n",
              "      <td>Flipkart</td>\n",
              "    </tr>\n",
              "    <tr>\n",
              "      <th>930</th>\n",
              "      <td>550.00</td>\n",
              "      <td>M3 Mini</td>\n",
              "      <td>Flipkart</td>\n",
              "    </tr>\n",
              "    <tr>\n",
              "      <th>1075</th>\n",
              "      <td>550.00</td>\n",
              "      <td>M2 Mini</td>\n",
              "      <td>Flipkart</td>\n",
              "    </tr>\n",
              "    <tr>\n",
              "      <th>780</th>\n",
              "      <td>600.00</td>\n",
              "      <td>K123</td>\n",
              "      <td>Flipkart</td>\n",
              "    </tr>\n",
              "    <tr>\n",
              "      <th>501</th>\n",
              "      <td>600.00</td>\n",
              "      <td>JOY J1</td>\n",
              "      <td>Flipkart</td>\n",
              "    </tr>\n",
              "    <tr>\n",
              "      <th>628</th>\n",
              "      <td>620.00</td>\n",
              "      <td>Hero 600+</td>\n",
              "      <td>Flipkart</td>\n",
              "    </tr>\n",
              "    <tr>\n",
              "      <th>785</th>\n",
              "      <td>620.00</td>\n",
              "      <td>Hero 600s</td>\n",
              "      <td>Flipkart</td>\n",
              "    </tr>\n",
              "    <tr>\n",
              "      <th>732</th>\n",
              "      <td>620.00</td>\n",
              "      <td>Hero 600+</td>\n",
              "      <td>Flipkart</td>\n",
              "    </tr>\n",
              "    <tr>\n",
              "      <th>1099</th>\n",
              "      <td>700.00</td>\n",
              "      <td>M370</td>\n",
              "      <td>Flipkart</td>\n",
              "    </tr>\n",
              "    <tr>\n",
              "      <th>916</th>\n",
              "      <td>700.00</td>\n",
              "      <td>Royale</td>\n",
              "      <td>Flipkart</td>\n",
              "    </tr>\n",
              "    <tr>\n",
              "      <th>454</th>\n",
              "      <td>800.00</td>\n",
              "      <td>Guru Music 2</td>\n",
              "      <td>Flipkart</td>\n",
              "    </tr>\n",
              "    <tr>\n",
              "      <th>123</th>\n",
              "      <td>800.00</td>\n",
              "      <td>Kechaoda A26 Dual Sim Mobile Phone (Bluetooth ...</td>\n",
              "      <td>Amazon</td>\n",
              "    </tr>\n",
              "    <tr>\n",
              "      <th>456</th>\n",
              "      <td>800.00</td>\n",
              "      <td>Guru Music 2</td>\n",
              "      <td>Flipkart</td>\n",
              "    </tr>\n",
              "    <tr>\n",
              "      <th>876</th>\n",
              "      <td>800.00</td>\n",
              "      <td>X412</td>\n",
              "      <td>Flipkart</td>\n",
              "    </tr>\n",
              "  </tbody>\n",
              "</table>\n",
              "</div>"
            ],
            "text/plain": [
              "      Battery power (in mah)  ...       OEM\n",
              "189                     1.56  ...    Amazon\n",
              "244                    22.00  ...    Amazon\n",
              "202                    22.00  ...    Amazon\n",
              "183                    22.00  ...    Amazon\n",
              "120                    22.00  ...    Amazon\n",
              "218                    22.00  ...    Amazon\n",
              "222                    22.00  ...    Amazon\n",
              "34                     22.00  ...    Amazon\n",
              "71                     22.00  ...    Amazon\n",
              "175                    24.00  ...    Amazon\n",
              "165                   300.00  ...    Amazon\n",
              "167                   300.00  ...    Amazon\n",
              "659                   300.00  ...  Flipkart\n",
              "178                   300.00  ...    Amazon\n",
              "544                   300.00  ...  Flipkart\n",
              "83                    400.00  ...    Amazon\n",
              "888                   400.00  ...  Flipkart\n",
              "930                   550.00  ...  Flipkart\n",
              "1075                  550.00  ...  Flipkart\n",
              "780                   600.00  ...  Flipkart\n",
              "501                   600.00  ...  Flipkart\n",
              "628                   620.00  ...  Flipkart\n",
              "785                   620.00  ...  Flipkart\n",
              "732                   620.00  ...  Flipkart\n",
              "1099                  700.00  ...  Flipkart\n",
              "916                   700.00  ...  Flipkart\n",
              "454                   800.00  ...  Flipkart\n",
              "123                   800.00  ...    Amazon\n",
              "456                   800.00  ...  Flipkart\n",
              "876                   800.00  ...  Flipkart\n",
              "\n",
              "[30 rows x 3 columns]"
            ]
          },
          "metadata": {
            "tags": []
          },
          "execution_count": 51
        }
      ]
    },
    {
      "cell_type": "code",
      "metadata": {
        "id": "tMm6jgyG4C1W"
      },
      "source": [
        "list(df['Battery power (in mah)']).sort()"
      ],
      "execution_count": null,
      "outputs": []
    },
    {
      "cell_type": "markdown",
      "metadata": {
        "id": "X-oGVnLawzxl"
      },
      "source": [
        "**LabelEncoding categorical columns**"
      ]
    },
    {
      "cell_type": "code",
      "metadata": {
        "colab": {
          "base_uri": "https://localhost:8080/"
        },
        "id": "hxsDlzzc55uN",
        "outputId": "922de808-3c25-4584-e7c0-7cb135967a75"
      },
      "source": [
        "for i in df.columns:\n",
        "  if df[i].dtypes=='object':\n",
        "    print(i)"
      ],
      "execution_count": null,
      "outputs": [
        {
          "output_type": "stream",
          "text": [
            "Whats in the box\n",
            "Item model number\n",
            "Name\n",
            "Colour\n",
            "Resolution\n",
            "Display technology\n",
            "Other display features\n",
            "Operating system\n",
            "Processor brand\n",
            "Audio jack\n",
            "Gps\n",
            "Warranty details\n",
            "Battery type\n",
            "Other camera features\n",
            "OEM\n"
          ],
          "name": "stdout"
        }
      ]
    },
    {
      "cell_type": "code",
      "metadata": {
        "id": "wpOry67L6WE2"
      },
      "source": [
        "label1=LabelEncoder()\n",
        "label2=LabelEncoder()\n",
        "label3=LabelEncoder()\n",
        "label4=LabelEncoder()\n",
        "label5=LabelEncoder()\n",
        "label6=LabelEncoder()\n",
        "label7=LabelEncoder()\n",
        "label8=LabelEncoder()\n",
        "label9=LabelEncoder()\n",
        "label10=LabelEncoder()\n",
        "label11=LabelEncoder()\n",
        "label12=LabelEncoder()\n",
        "label13=LabelEncoder()\n",
        "label14=LabelEncoder()\n"
      ],
      "execution_count": null,
      "outputs": []
    },
    {
      "cell_type": "code",
      "metadata": {
        "id": "0bEpRmB96CQu"
      },
      "source": [
        "labels={'Whats in the box':label1,\n",
        "'Item model number':label2,\n",
        "'Name':label3,\n",
        "'Colour':label4,\n",
        "'Resolution':label5,\n",
        "'Display technology':label6,\n",
        "'Other display features':label7,\n",
        "'Operating system':label8,\n",
        "'Processor brand':label9,\n",
        "'Audio jack':label10,\n",
        "'Gps':label11,\n",
        "'Warranty details':label11,\n",
        "'Battery type':label12,\n",
        "'Other camera features':label13,\n",
        "'OEM':label14}"
      ],
      "execution_count": null,
      "outputs": []
    },
    {
      "cell_type": "code",
      "metadata": {
        "id": "ehZYmdR-7Wvp"
      },
      "source": [
        "for i,k in labels.items():\n",
        "  df[i]=k.fit_transform(df[i])"
      ],
      "execution_count": null,
      "outputs": []
    },
    {
      "cell_type": "code",
      "metadata": {
        "colab": {
          "base_uri": "https://localhost:8080/"
        },
        "id": "_W8Obmrm8hjU",
        "outputId": "37efac3f-e972-4316-823d-aaf0b520beec"
      },
      "source": [
        "df.info()"
      ],
      "execution_count": null,
      "outputs": [
        {
          "output_type": "stream",
          "text": [
            "<class 'pandas.core.frame.DataFrame'>\n",
            "Int64Index: 1109 entries, 0 to 1109\n",
            "Data columns (total 23 columns):\n",
            " #   Column                      Non-Null Count  Dtype  \n",
            "---  ------                      --------------  -----  \n",
            " 0   Whats in the box            1109 non-null   int64  \n",
            " 1   Item model number           1109 non-null   int64  \n",
            " 2   Name                        1109 non-null   int64  \n",
            " 3   Colour                      1109 non-null   int64  \n",
            " 4   Resolution                  1109 non-null   int64  \n",
            " 5   Display technology          1109 non-null   int64  \n",
            " 6   Other display features      1109 non-null   int64  \n",
            " 7   Operating system            1109 non-null   int64  \n",
            " 8   Processor brand             1109 non-null   int64  \n",
            " 9   Expandable storage (in GB)  1109 non-null   float64\n",
            " 10  Audio jack                  1109 non-null   int64  \n",
            " 11  Gps                         1109 non-null   int64  \n",
            " 12  Battery power (in mah)      1109 non-null   float64\n",
            " 13  Item weight (in gms)        1109 non-null   float64\n",
            " 14  Warranty details            1109 non-null   int64  \n",
            " 15  Price (₹)                   1109 non-null   float64\n",
            " 16  Rating                      1109 non-null   float64\n",
            " 17  Battery type                1109 non-null   int64  \n",
            " 18  Other camera features       1109 non-null   int64  \n",
            " 19  OEM                         1109 non-null   int64  \n",
            " 20  Inbuilt storage (in GB)     1109 non-null   float64\n",
            " 21  RAM (in GB)                 1109 non-null   float64\n",
            " 22  sentiments                  1109 non-null   float64\n",
            "dtypes: float64(8), int64(15)\n",
            "memory usage: 207.9 KB\n"
          ],
          "name": "stdout"
        }
      ]
    },
    {
      "cell_type": "code",
      "metadata": {
        "colab": {
          "base_uri": "https://localhost:8080/",
          "height": 470
        },
        "id": "gwSMCgRzDInE",
        "outputId": "4c31fb43-229b-487a-f5b2-36dbb3d66867"
      },
      "source": [
        "df"
      ],
      "execution_count": null,
      "outputs": [
        {
          "output_type": "execute_result",
          "data": {
            "text/html": [
              "<div>\n",
              "<style scoped>\n",
              "    .dataframe tbody tr th:only-of-type {\n",
              "        vertical-align: middle;\n",
              "    }\n",
              "\n",
              "    .dataframe tbody tr th {\n",
              "        vertical-align: top;\n",
              "    }\n",
              "\n",
              "    .dataframe thead th {\n",
              "        text-align: right;\n",
              "    }\n",
              "</style>\n",
              "<table border=\"1\" class=\"dataframe\">\n",
              "  <thead>\n",
              "    <tr style=\"text-align: right;\">\n",
              "      <th></th>\n",
              "      <th>Whats in the box</th>\n",
              "      <th>Item model number</th>\n",
              "      <th>Name</th>\n",
              "      <th>Colour</th>\n",
              "      <th>Resolution</th>\n",
              "      <th>Display technology</th>\n",
              "      <th>Other display features</th>\n",
              "      <th>Operating system</th>\n",
              "      <th>Processor brand</th>\n",
              "      <th>Expandable storage (in GB)</th>\n",
              "      <th>Audio jack</th>\n",
              "      <th>Gps</th>\n",
              "      <th>Battery power (in mah)</th>\n",
              "      <th>Item weight (in gms)</th>\n",
              "      <th>Warranty details</th>\n",
              "      <th>Price (₹)</th>\n",
              "      <th>Rating</th>\n",
              "      <th>Battery type</th>\n",
              "      <th>Other camera features</th>\n",
              "      <th>OEM</th>\n",
              "      <th>Inbuilt storage (in GB)</th>\n",
              "      <th>RAM (in GB)</th>\n",
              "      <th>sentiments</th>\n",
              "    </tr>\n",
              "  </thead>\n",
              "  <tbody>\n",
              "    <tr>\n",
              "      <th>0</th>\n",
              "      <td>372</td>\n",
              "      <td>429</td>\n",
              "      <td>406</td>\n",
              "      <td>280</td>\n",
              "      <td>37</td>\n",
              "      <td>60</td>\n",
              "      <td>135</td>\n",
              "      <td>10</td>\n",
              "      <td>69</td>\n",
              "      <td>64.000000</td>\n",
              "      <td>1</td>\n",
              "      <td>0</td>\n",
              "      <td>5000.0</td>\n",
              "      <td>194.000000</td>\n",
              "      <td>66</td>\n",
              "      <td>10999.0</td>\n",
              "      <td>4.0</td>\n",
              "      <td>2</td>\n",
              "      <td>76</td>\n",
              "      <td>0</td>\n",
              "      <td>64.0</td>\n",
              "      <td>4.000</td>\n",
              "      <td>0.003012</td>\n",
              "    </tr>\n",
              "    <tr>\n",
              "      <th>1</th>\n",
              "      <td>246</td>\n",
              "      <td>432</td>\n",
              "      <td>417</td>\n",
              "      <td>216</td>\n",
              "      <td>37</td>\n",
              "      <td>60</td>\n",
              "      <td>135</td>\n",
              "      <td>10</td>\n",
              "      <td>68</td>\n",
              "      <td>32.000000</td>\n",
              "      <td>1</td>\n",
              "      <td>0</td>\n",
              "      <td>5000.0</td>\n",
              "      <td>194.000000</td>\n",
              "      <td>66</td>\n",
              "      <td>8499.0</td>\n",
              "      <td>4.1</td>\n",
              "      <td>3</td>\n",
              "      <td>120</td>\n",
              "      <td>0</td>\n",
              "      <td>32.0</td>\n",
              "      <td>2.000</td>\n",
              "      <td>0.013736</td>\n",
              "    </tr>\n",
              "    <tr>\n",
              "      <th>2</th>\n",
              "      <td>287</td>\n",
              "      <td>57</td>\n",
              "      <td>370</td>\n",
              "      <td>154</td>\n",
              "      <td>37</td>\n",
              "      <td>71</td>\n",
              "      <td>135</td>\n",
              "      <td>10</td>\n",
              "      <td>73</td>\n",
              "      <td>128.000000</td>\n",
              "      <td>1</td>\n",
              "      <td>0</td>\n",
              "      <td>4230.0</td>\n",
              "      <td>180.000000</td>\n",
              "      <td>66</td>\n",
              "      <td>15990.0</td>\n",
              "      <td>4.0</td>\n",
              "      <td>3</td>\n",
              "      <td>21</td>\n",
              "      <td>0</td>\n",
              "      <td>128.0</td>\n",
              "      <td>6.000</td>\n",
              "      <td>0.000000</td>\n",
              "    </tr>\n",
              "    <tr>\n",
              "      <th>3</th>\n",
              "      <td>39</td>\n",
              "      <td>80</td>\n",
              "      <td>377</td>\n",
              "      <td>22</td>\n",
              "      <td>17</td>\n",
              "      <td>71</td>\n",
              "      <td>135</td>\n",
              "      <td>10</td>\n",
              "      <td>66</td>\n",
              "      <td>16.000000</td>\n",
              "      <td>1</td>\n",
              "      <td>0</td>\n",
              "      <td>4000.0</td>\n",
              "      <td>168.000000</td>\n",
              "      <td>61</td>\n",
              "      <td>10999.0</td>\n",
              "      <td>2.8</td>\n",
              "      <td>2</td>\n",
              "      <td>178</td>\n",
              "      <td>0</td>\n",
              "      <td>16.0</td>\n",
              "      <td>2.000</td>\n",
              "      <td>-0.002396</td>\n",
              "    </tr>\n",
              "    <tr>\n",
              "      <th>4</th>\n",
              "      <td>69</td>\n",
              "      <td>515</td>\n",
              "      <td>466</td>\n",
              "      <td>284</td>\n",
              "      <td>34</td>\n",
              "      <td>87</td>\n",
              "      <td>135</td>\n",
              "      <td>10</td>\n",
              "      <td>18</td>\n",
              "      <td>128.000000</td>\n",
              "      <td>1</td>\n",
              "      <td>0</td>\n",
              "      <td>6000.0</td>\n",
              "      <td>191.000000</td>\n",
              "      <td>66</td>\n",
              "      <td>19999.0</td>\n",
              "      <td>4.2</td>\n",
              "      <td>2</td>\n",
              "      <td>157</td>\n",
              "      <td>0</td>\n",
              "      <td>128.0</td>\n",
              "      <td>6.000</td>\n",
              "      <td>0.005680</td>\n",
              "    </tr>\n",
              "    <tr>\n",
              "      <th>...</th>\n",
              "      <td>...</td>\n",
              "      <td>...</td>\n",
              "      <td>...</td>\n",
              "      <td>...</td>\n",
              "      <td>...</td>\n",
              "      <td>...</td>\n",
              "      <td>...</td>\n",
              "      <td>...</td>\n",
              "      <td>...</td>\n",
              "      <td>...</td>\n",
              "      <td>...</td>\n",
              "      <td>...</td>\n",
              "      <td>...</td>\n",
              "      <td>...</td>\n",
              "      <td>...</td>\n",
              "      <td>...</td>\n",
              "      <td>...</td>\n",
              "      <td>...</td>\n",
              "      <td>...</td>\n",
              "      <td>...</td>\n",
              "      <td>...</td>\n",
              "      <td>...</td>\n",
              "      <td>...</td>\n",
              "    </tr>\n",
              "    <tr>\n",
              "      <th>1105</th>\n",
              "      <td>370</td>\n",
              "      <td>587</td>\n",
              "      <td>474</td>\n",
              "      <td>275</td>\n",
              "      <td>70</td>\n",
              "      <td>67</td>\n",
              "      <td>84</td>\n",
              "      <td>35</td>\n",
              "      <td>33</td>\n",
              "      <td>128.000000</td>\n",
              "      <td>1</td>\n",
              "      <td>34</td>\n",
              "      <td>3050.0</td>\n",
              "      <td>186.486767</td>\n",
              "      <td>124</td>\n",
              "      <td>7499.0</td>\n",
              "      <td>4.0</td>\n",
              "      <td>2</td>\n",
              "      <td>52</td>\n",
              "      <td>1</td>\n",
              "      <td>32.0</td>\n",
              "      <td>3.000</td>\n",
              "      <td>0.340227</td>\n",
              "    </tr>\n",
              "    <tr>\n",
              "      <th>1106</th>\n",
              "      <td>144</td>\n",
              "      <td>35</td>\n",
              "      <td>57</td>\n",
              "      <td>139</td>\n",
              "      <td>14</td>\n",
              "      <td>71</td>\n",
              "      <td>133</td>\n",
              "      <td>11</td>\n",
              "      <td>92</td>\n",
              "      <td>32.000000</td>\n",
              "      <td>1</td>\n",
              "      <td>0</td>\n",
              "      <td>1000.0</td>\n",
              "      <td>0.200000</td>\n",
              "      <td>0</td>\n",
              "      <td>649.0</td>\n",
              "      <td>3.0</td>\n",
              "      <td>2</td>\n",
              "      <td>132</td>\n",
              "      <td>1</td>\n",
              "      <td>64.0</td>\n",
              "      <td>0.064</td>\n",
              "      <td>0.000000</td>\n",
              "    </tr>\n",
              "    <tr>\n",
              "      <th>1107</th>\n",
              "      <td>170</td>\n",
              "      <td>214</td>\n",
              "      <td>522</td>\n",
              "      <td>139</td>\n",
              "      <td>75</td>\n",
              "      <td>71</td>\n",
              "      <td>135</td>\n",
              "      <td>48</td>\n",
              "      <td>92</td>\n",
              "      <td>282.686739</td>\n",
              "      <td>1</td>\n",
              "      <td>0</td>\n",
              "      <td>2700.0</td>\n",
              "      <td>186.486767</td>\n",
              "      <td>8</td>\n",
              "      <td>944.0</td>\n",
              "      <td>3.8</td>\n",
              "      <td>2</td>\n",
              "      <td>132</td>\n",
              "      <td>1</td>\n",
              "      <td>32.0</td>\n",
              "      <td>0.032</td>\n",
              "      <td>0.000000</td>\n",
              "    </tr>\n",
              "    <tr>\n",
              "      <th>1108</th>\n",
              "      <td>261</td>\n",
              "      <td>525</td>\n",
              "      <td>134</td>\n",
              "      <td>14</td>\n",
              "      <td>34</td>\n",
              "      <td>84</td>\n",
              "      <td>135</td>\n",
              "      <td>11</td>\n",
              "      <td>20</td>\n",
              "      <td>1000.000000</td>\n",
              "      <td>1</td>\n",
              "      <td>0</td>\n",
              "      <td>4500.0</td>\n",
              "      <td>199.000000</td>\n",
              "      <td>124</td>\n",
              "      <td>36999.0</td>\n",
              "      <td>4.4</td>\n",
              "      <td>2</td>\n",
              "      <td>8</td>\n",
              "      <td>1</td>\n",
              "      <td>128.0</td>\n",
              "      <td>8.000</td>\n",
              "      <td>0.293705</td>\n",
              "    </tr>\n",
              "    <tr>\n",
              "      <th>1109</th>\n",
              "      <td>267</td>\n",
              "      <td>476</td>\n",
              "      <td>125</td>\n",
              "      <td>169</td>\n",
              "      <td>37</td>\n",
              "      <td>31</td>\n",
              "      <td>135</td>\n",
              "      <td>16</td>\n",
              "      <td>21</td>\n",
              "      <td>1000.000000</td>\n",
              "      <td>1</td>\n",
              "      <td>0</td>\n",
              "      <td>7000.0</td>\n",
              "      <td>218.000000</td>\n",
              "      <td>40</td>\n",
              "      <td>23999.0</td>\n",
              "      <td>4.4</td>\n",
              "      <td>2</td>\n",
              "      <td>132</td>\n",
              "      <td>1</td>\n",
              "      <td>128.0</td>\n",
              "      <td>6.000</td>\n",
              "      <td>0.221421</td>\n",
              "    </tr>\n",
              "  </tbody>\n",
              "</table>\n",
              "<p>1109 rows × 23 columns</p>\n",
              "</div>"
            ],
            "text/plain": [
              "      Whats in the box  Item model number  ...  RAM (in GB)  sentiments\n",
              "0                  372                429  ...        4.000    0.003012\n",
              "1                  246                432  ...        2.000    0.013736\n",
              "2                  287                 57  ...        6.000    0.000000\n",
              "3                   39                 80  ...        2.000   -0.002396\n",
              "4                   69                515  ...        6.000    0.005680\n",
              "...                ...                ...  ...          ...         ...\n",
              "1105               370                587  ...        3.000    0.340227\n",
              "1106               144                 35  ...        0.064    0.000000\n",
              "1107               170                214  ...        0.032    0.000000\n",
              "1108               261                525  ...        8.000    0.293705\n",
              "1109               267                476  ...        6.000    0.221421\n",
              "\n",
              "[1109 rows x 23 columns]"
            ]
          },
          "metadata": {
            "tags": []
          },
          "execution_count": 58
        }
      ]
    },
    {
      "cell_type": "code",
      "metadata": {
        "colab": {
          "base_uri": "https://localhost:8080/"
        },
        "id": "LYpfN0aa81AI",
        "outputId": "713a1cf4-b0f0-4751-e92d-d62ab892ed6d"
      },
      "source": [
        "df.columns"
      ],
      "execution_count": null,
      "outputs": [
        {
          "output_type": "execute_result",
          "data": {
            "text/plain": [
              "Index(['Whats in the box', 'Item model number', 'Name', 'Colour', 'Resolution',\n",
              "       'Display technology', 'Other display features', 'Operating system',\n",
              "       'Processor brand', 'Expandable storage (in GB)', 'Audio jack', 'Gps',\n",
              "       'Battery power (in mah)', 'Item weight (in gms)', 'Warranty details',\n",
              "       'Price (₹)', 'Rating', 'Battery type', 'Other camera features', 'OEM',\n",
              "       'Inbuilt storage (in GB)', 'RAM (in GB)', 'sentiments'],\n",
              "      dtype='object')"
            ]
          },
          "metadata": {
            "tags": []
          },
          "execution_count": 59
        }
      ]
    },
    {
      "cell_type": "code",
      "metadata": {
        "id": "gx8PsDcJ84Df"
      },
      "source": [
        "df=df[['Whats in the box', 'Item model number', 'Name', 'Colour', 'Resolution',\n",
        "       'Display technology', 'Other display features', 'Operating system',\n",
        "       'Processor brand', 'Expandable storage (in GB)', 'Audio jack', 'Gps',\n",
        "       'Battery power (in mah)', 'Item weight (in gms)', 'Warranty details',\n",
        "       'Rating', 'Battery type', 'Other camera features', 'OEM',\n",
        "       'Inbuilt storage (in GB)', 'RAM (in GB)', 'sentiments','Price (₹)']]"
      ],
      "execution_count": null,
      "outputs": []
    },
    {
      "cell_type": "code",
      "metadata": {
        "colab": {
          "base_uri": "https://localhost:8080/"
        },
        "id": "21H4TagV9GfH",
        "outputId": "dec60097-3005-47be-e723-946a017bee8a"
      },
      "source": [
        "df.info()"
      ],
      "execution_count": null,
      "outputs": [
        {
          "output_type": "stream",
          "text": [
            "<class 'pandas.core.frame.DataFrame'>\n",
            "Int64Index: 1109 entries, 0 to 1109\n",
            "Data columns (total 23 columns):\n",
            " #   Column                      Non-Null Count  Dtype  \n",
            "---  ------                      --------------  -----  \n",
            " 0   Whats in the box            1109 non-null   int64  \n",
            " 1   Item model number           1109 non-null   int64  \n",
            " 2   Name                        1109 non-null   int64  \n",
            " 3   Colour                      1109 non-null   int64  \n",
            " 4   Resolution                  1109 non-null   int64  \n",
            " 5   Display technology          1109 non-null   int64  \n",
            " 6   Other display features      1109 non-null   int64  \n",
            " 7   Operating system            1109 non-null   int64  \n",
            " 8   Processor brand             1109 non-null   int64  \n",
            " 9   Expandable storage (in GB)  1109 non-null   float64\n",
            " 10  Audio jack                  1109 non-null   int64  \n",
            " 11  Gps                         1109 non-null   int64  \n",
            " 12  Battery power (in mah)      1109 non-null   float64\n",
            " 13  Item weight (in gms)        1109 non-null   float64\n",
            " 14  Warranty details            1109 non-null   int64  \n",
            " 15  Rating                      1109 non-null   float64\n",
            " 16  Battery type                1109 non-null   int64  \n",
            " 17  Other camera features       1109 non-null   int64  \n",
            " 18  OEM                         1109 non-null   int64  \n",
            " 19  Inbuilt storage (in GB)     1109 non-null   float64\n",
            " 20  RAM (in GB)                 1109 non-null   float64\n",
            " 21  sentiments                  1109 non-null   float64\n",
            " 22  Price (₹)                   1109 non-null   float64\n",
            "dtypes: float64(8), int64(15)\n",
            "memory usage: 207.9 KB\n"
          ],
          "name": "stdout"
        }
      ]
    },
    {
      "cell_type": "code",
      "metadata": {
        "id": "OXOif1oquyPd"
      },
      "source": [
        "#for i in df.columns:\n",
        "  #df[i]=df[i]/df[i].max()"
      ],
      "execution_count": null,
      "outputs": []
    },
    {
      "cell_type": "code",
      "metadata": {
        "id": "nDa3bliSBO-C"
      },
      "source": [
        "df.to_csv('Preprocessed_data.csv')"
      ],
      "execution_count": null,
      "outputs": []
    },
    {
      "cell_type": "markdown",
      "metadata": {
        "id": "9i4fRVC0BKij"
      },
      "source": [
        "**Exploratory data analysis**"
      ]
    },
    {
      "cell_type": "code",
      "metadata": {
        "colab": {
          "base_uri": "https://localhost:8080/"
        },
        "id": "D0-jPTsJA7u9",
        "outputId": "34f196ad-f3f9-43b2-8a35-e522557e5b2a"
      },
      "source": [
        "dfcorr=df.corr()\n",
        "dfcorr[\"Price (₹)\"]"
      ],
      "execution_count": null,
      "outputs": [
        {
          "output_type": "execute_result",
          "data": {
            "text/plain": [
              "Whats in the box              0.211745\n",
              "Item model number             0.125815\n",
              "Name                          0.191381\n",
              "Colour                        0.112988\n",
              "Resolution                    0.040852\n",
              "Display technology           -0.145031\n",
              "Other display features       -0.119541\n",
              "Operating system              0.386173\n",
              "Processor brand              -0.357712\n",
              "Expandable storage (in GB)    0.260030\n",
              "Audio jack                    0.030603\n",
              "Gps                           0.228008\n",
              "Battery power (in mah)        0.399253\n",
              "Item weight (in gms)          0.131485\n",
              "Warranty details              0.254551\n",
              "Rating                        0.303924\n",
              "Battery type                  0.010458\n",
              "Other camera features        -0.330495\n",
              "OEM                          -0.054885\n",
              "Inbuilt storage (in GB)       0.528230\n",
              "RAM (in GB)                   0.180089\n",
              "sentiments                    0.043075\n",
              "Price (₹)                     1.000000\n",
              "Name: Price (₹), dtype: float64"
            ]
          },
          "metadata": {
            "tags": []
          },
          "execution_count": 64
        }
      ]
    },
    {
      "cell_type": "code",
      "metadata": {
        "colab": {
          "base_uri": "https://localhost:8080/",
          "height": 884
        },
        "id": "LsOxQCS7BcbI",
        "outputId": "9fa6436b-e93f-4026-bd1b-8f27d839806d"
      },
      "source": [
        "dfcorr.style.background_gradient()"
      ],
      "execution_count": null,
      "outputs": [
        {
          "output_type": "execute_result",
          "data": {
            "text/html": [
              "<style  type=\"text/css\" >\n",
              "#T_452087e6_8e2e_11eb_abfb_0242ac1c0002row0_col0,#T_452087e6_8e2e_11eb_abfb_0242ac1c0002row1_col1,#T_452087e6_8e2e_11eb_abfb_0242ac1c0002row2_col2,#T_452087e6_8e2e_11eb_abfb_0242ac1c0002row3_col3,#T_452087e6_8e2e_11eb_abfb_0242ac1c0002row4_col4,#T_452087e6_8e2e_11eb_abfb_0242ac1c0002row5_col5,#T_452087e6_8e2e_11eb_abfb_0242ac1c0002row6_col6,#T_452087e6_8e2e_11eb_abfb_0242ac1c0002row7_col7,#T_452087e6_8e2e_11eb_abfb_0242ac1c0002row8_col8,#T_452087e6_8e2e_11eb_abfb_0242ac1c0002row9_col9,#T_452087e6_8e2e_11eb_abfb_0242ac1c0002row10_col10,#T_452087e6_8e2e_11eb_abfb_0242ac1c0002row11_col11,#T_452087e6_8e2e_11eb_abfb_0242ac1c0002row12_col12,#T_452087e6_8e2e_11eb_abfb_0242ac1c0002row13_col13,#T_452087e6_8e2e_11eb_abfb_0242ac1c0002row14_col14,#T_452087e6_8e2e_11eb_abfb_0242ac1c0002row15_col15,#T_452087e6_8e2e_11eb_abfb_0242ac1c0002row16_col16,#T_452087e6_8e2e_11eb_abfb_0242ac1c0002row17_col17,#T_452087e6_8e2e_11eb_abfb_0242ac1c0002row18_col18,#T_452087e6_8e2e_11eb_abfb_0242ac1c0002row19_col19,#T_452087e6_8e2e_11eb_abfb_0242ac1c0002row20_col20,#T_452087e6_8e2e_11eb_abfb_0242ac1c0002row21_col21,#T_452087e6_8e2e_11eb_abfb_0242ac1c0002row22_col22{\n",
              "            background-color:  #023858;\n",
              "            color:  #f1f1f1;\n",
              "        }#T_452087e6_8e2e_11eb_abfb_0242ac1c0002row0_col1,#T_452087e6_8e2e_11eb_abfb_0242ac1c0002row10_col0,#T_452087e6_8e2e_11eb_abfb_0242ac1c0002row14_col17,#T_452087e6_8e2e_11eb_abfb_0242ac1c0002row15_col17,#T_452087e6_8e2e_11eb_abfb_0242ac1c0002row17_col21,#T_452087e6_8e2e_11eb_abfb_0242ac1c0002row21_col6{\n",
              "            background-color:  #f9f2f8;\n",
              "            color:  #000000;\n",
              "        }#T_452087e6_8e2e_11eb_abfb_0242ac1c0002row0_col2,#T_452087e6_8e2e_11eb_abfb_0242ac1c0002row0_col13,#T_452087e6_8e2e_11eb_abfb_0242ac1c0002row4_col7,#T_452087e6_8e2e_11eb_abfb_0242ac1c0002row10_col15,#T_452087e6_8e2e_11eb_abfb_0242ac1c0002row10_col21,#T_452087e6_8e2e_11eb_abfb_0242ac1c0002row13_col6,#T_452087e6_8e2e_11eb_abfb_0242ac1c0002row15_col3,#T_452087e6_8e2e_11eb_abfb_0242ac1c0002row18_col7,#T_452087e6_8e2e_11eb_abfb_0242ac1c0002row18_col12{\n",
              "            background-color:  #d2d2e7;\n",
              "            color:  #000000;\n",
              "        }#T_452087e6_8e2e_11eb_abfb_0242ac1c0002row0_col3,#T_452087e6_8e2e_11eb_abfb_0242ac1c0002row3_col17,#T_452087e6_8e2e_11eb_abfb_0242ac1c0002row8_col9,#T_452087e6_8e2e_11eb_abfb_0242ac1c0002row9_col16,#T_452087e6_8e2e_11eb_abfb_0242ac1c0002row11_col17,#T_452087e6_8e2e_11eb_abfb_0242ac1c0002row18_col1,#T_452087e6_8e2e_11eb_abfb_0242ac1c0002row20_col0{\n",
              "            background-color:  #eae6f1;\n",
              "            color:  #000000;\n",
              "        }#T_452087e6_8e2e_11eb_abfb_0242ac1c0002row0_col4,#T_452087e6_8e2e_11eb_abfb_0242ac1c0002row9_col2,#T_452087e6_8e2e_11eb_abfb_0242ac1c0002row9_col4{\n",
              "            background-color:  #fbf4f9;\n",
              "            color:  #000000;\n",
              "        }#T_452087e6_8e2e_11eb_abfb_0242ac1c0002row0_col5,#T_452087e6_8e2e_11eb_abfb_0242ac1c0002row6_col8,#T_452087e6_8e2e_11eb_abfb_0242ac1c0002row19_col7{\n",
              "            background-color:  #bdc8e1;\n",
              "            color:  #000000;\n",
              "        }#T_452087e6_8e2e_11eb_abfb_0242ac1c0002row0_col6,#T_452087e6_8e2e_11eb_abfb_0242ac1c0002row2_col16,#T_452087e6_8e2e_11eb_abfb_0242ac1c0002row11_col9{\n",
              "            background-color:  #b1c2de;\n",
              "            color:  #000000;\n",
              "        }#T_452087e6_8e2e_11eb_abfb_0242ac1c0002row0_col7{\n",
              "            background-color:  #9fbad9;\n",
              "            color:  #000000;\n",
              "        }#T_452087e6_8e2e_11eb_abfb_0242ac1c0002row0_col8,#T_452087e6_8e2e_11eb_abfb_0242ac1c0002row0_col17,#T_452087e6_8e2e_11eb_abfb_0242ac1c0002row0_col18,#T_452087e6_8e2e_11eb_abfb_0242ac1c0002row4_col21{\n",
              "            background-color:  #e0deed;\n",
              "            color:  #000000;\n",
              "        }#T_452087e6_8e2e_11eb_abfb_0242ac1c0002row0_col9,#T_452087e6_8e2e_11eb_abfb_0242ac1c0002row0_col12{\n",
              "            background-color:  #a2bcda;\n",
              "            color:  #000000;\n",
              "        }#T_452087e6_8e2e_11eb_abfb_0242ac1c0002row0_col10,#T_452087e6_8e2e_11eb_abfb_0242ac1c0002row5_col1,#T_452087e6_8e2e_11eb_abfb_0242ac1c0002row5_col9,#T_452087e6_8e2e_11eb_abfb_0242ac1c0002row5_col11,#T_452087e6_8e2e_11eb_abfb_0242ac1c0002row5_col12,#T_452087e6_8e2e_11eb_abfb_0242ac1c0002row5_col19,#T_452087e6_8e2e_11eb_abfb_0242ac1c0002row5_col20,#T_452087e6_8e2e_11eb_abfb_0242ac1c0002row6_col11,#T_452087e6_8e2e_11eb_abfb_0242ac1c0002row6_col18,#T_452087e6_8e2e_11eb_abfb_0242ac1c0002row6_col21,#T_452087e6_8e2e_11eb_abfb_0242ac1c0002row8_col0,#T_452087e6_8e2e_11eb_abfb_0242ac1c0002row8_col1,#T_452087e6_8e2e_11eb_abfb_0242ac1c0002row8_col7,#T_452087e6_8e2e_11eb_abfb_0242ac1c0002row8_col22,#T_452087e6_8e2e_11eb_abfb_0242ac1c0002row12_col5,#T_452087e6_8e2e_11eb_abfb_0242ac1c0002row17_col3,#T_452087e6_8e2e_11eb_abfb_0242ac1c0002row17_col14,#T_452087e6_8e2e_11eb_abfb_0242ac1c0002row17_col15,#T_452087e6_8e2e_11eb_abfb_0242ac1c0002row18_col2,#T_452087e6_8e2e_11eb_abfb_0242ac1c0002row18_col4,#T_452087e6_8e2e_11eb_abfb_0242ac1c0002row18_col6,#T_452087e6_8e2e_11eb_abfb_0242ac1c0002row18_col13,#T_452087e6_8e2e_11eb_abfb_0242ac1c0002row18_col16,#T_452087e6_8e2e_11eb_abfb_0242ac1c0002row22_col8,#T_452087e6_8e2e_11eb_abfb_0242ac1c0002row22_col17{\n",
              "            background-color:  #fff7fb;\n",
              "            color:  #000000;\n",
              "        }#T_452087e6_8e2e_11eb_abfb_0242ac1c0002row0_col11,#T_452087e6_8e2e_11eb_abfb_0242ac1c0002row1_col16,#T_452087e6_8e2e_11eb_abfb_0242ac1c0002row2_col0,#T_452087e6_8e2e_11eb_abfb_0242ac1c0002row2_col9,#T_452087e6_8e2e_11eb_abfb_0242ac1c0002row2_col21,#T_452087e6_8e2e_11eb_abfb_0242ac1c0002row4_col18,#T_452087e6_8e2e_11eb_abfb_0242ac1c0002row6_col0,#T_452087e6_8e2e_11eb_abfb_0242ac1c0002row9_col7,#T_452087e6_8e2e_11eb_abfb_0242ac1c0002row9_col20,#T_452087e6_8e2e_11eb_abfb_0242ac1c0002row10_col16,#T_452087e6_8e2e_11eb_abfb_0242ac1c0002row14_col2,#T_452087e6_8e2e_11eb_abfb_0242ac1c0002row14_col18,#T_452087e6_8e2e_11eb_abfb_0242ac1c0002row15_col2,#T_452087e6_8e2e_11eb_abfb_0242ac1c0002row18_col8,#T_452087e6_8e2e_11eb_abfb_0242ac1c0002row19_col6,#T_452087e6_8e2e_11eb_abfb_0242ac1c0002row20_col17,#T_452087e6_8e2e_11eb_abfb_0242ac1c0002row21_col1,#T_452087e6_8e2e_11eb_abfb_0242ac1c0002row21_col3,#T_452087e6_8e2e_11eb_abfb_0242ac1c0002row21_col19,#T_452087e6_8e2e_11eb_abfb_0242ac1c0002row22_col1,#T_452087e6_8e2e_11eb_abfb_0242ac1c0002row22_col18{\n",
              "            background-color:  #d9d8ea;\n",
              "            color:  #000000;\n",
              "        }#T_452087e6_8e2e_11eb_abfb_0242ac1c0002row0_col14,#T_452087e6_8e2e_11eb_abfb_0242ac1c0002row2_col8,#T_452087e6_8e2e_11eb_abfb_0242ac1c0002row5_col14,#T_452087e6_8e2e_11eb_abfb_0242ac1c0002row11_col16,#T_452087e6_8e2e_11eb_abfb_0242ac1c0002row16_col19,#T_452087e6_8e2e_11eb_abfb_0242ac1c0002row17_col16,#T_452087e6_8e2e_11eb_abfb_0242ac1c0002row20_col6{\n",
              "            background-color:  #d5d5e8;\n",
              "            color:  #000000;\n",
              "        }#T_452087e6_8e2e_11eb_abfb_0242ac1c0002row0_col15,#T_452087e6_8e2e_11eb_abfb_0242ac1c0002row1_col17,#T_452087e6_8e2e_11eb_abfb_0242ac1c0002row4_col2,#T_452087e6_8e2e_11eb_abfb_0242ac1c0002row13_col5,#T_452087e6_8e2e_11eb_abfb_0242ac1c0002row13_col14,#T_452087e6_8e2e_11eb_abfb_0242ac1c0002row18_col22{\n",
              "            background-color:  #d6d6e9;\n",
              "            color:  #000000;\n",
              "        }#T_452087e6_8e2e_11eb_abfb_0242ac1c0002row0_col16,#T_452087e6_8e2e_11eb_abfb_0242ac1c0002row4_col12,#T_452087e6_8e2e_11eb_abfb_0242ac1c0002row5_col8,#T_452087e6_8e2e_11eb_abfb_0242ac1c0002row7_col9{\n",
              "            background-color:  #b9c6e0;\n",
              "            color:  #000000;\n",
              "        }#T_452087e6_8e2e_11eb_abfb_0242ac1c0002row0_col19{\n",
              "            background-color:  #cdd0e5;\n",
              "            color:  #000000;\n",
              "        }#T_452087e6_8e2e_11eb_abfb_0242ac1c0002row0_col20,#T_452087e6_8e2e_11eb_abfb_0242ac1c0002row1_col3,#T_452087e6_8e2e_11eb_abfb_0242ac1c0002row5_col22,#T_452087e6_8e2e_11eb_abfb_0242ac1c0002row10_col13,#T_452087e6_8e2e_11eb_abfb_0242ac1c0002row22_col6{\n",
              "            background-color:  #e5e1ef;\n",
              "            color:  #000000;\n",
              "        }#T_452087e6_8e2e_11eb_abfb_0242ac1c0002row0_col21,#T_452087e6_8e2e_11eb_abfb_0242ac1c0002row11_col0,#T_452087e6_8e2e_11eb_abfb_0242ac1c0002row12_col2,#T_452087e6_8e2e_11eb_abfb_0242ac1c0002row12_col18,#T_452087e6_8e2e_11eb_abfb_0242ac1c0002row21_col8{\n",
              "            background-color:  #e2dfee;\n",
              "            color:  #000000;\n",
              "        }#T_452087e6_8e2e_11eb_abfb_0242ac1c0002row0_col22,#T_452087e6_8e2e_11eb_abfb_0242ac1c0002row9_col19{\n",
              "            background-color:  #94b6d7;\n",
              "            color:  #000000;\n",
              "        }#T_452087e6_8e2e_11eb_abfb_0242ac1c0002row1_col0,#T_452087e6_8e2e_11eb_abfb_0242ac1c0002row6_col10,#T_452087e6_8e2e_11eb_abfb_0242ac1c0002row12_col8,#T_452087e6_8e2e_11eb_abfb_0242ac1c0002row12_col17,#T_452087e6_8e2e_11eb_abfb_0242ac1c0002row16_col21{\n",
              "            background-color:  #f8f1f8;\n",
              "            color:  #000000;\n",
              "        }#T_452087e6_8e2e_11eb_abfb_0242ac1c0002row1_col2,#T_452087e6_8e2e_11eb_abfb_0242ac1c0002row15_col9{\n",
              "            background-color:  #6ba5cd;\n",
              "            color:  #000000;\n",
              "        }#T_452087e6_8e2e_11eb_abfb_0242ac1c0002row1_col4,#T_452087e6_8e2e_11eb_abfb_0242ac1c0002row8_col12,#T_452087e6_8e2e_11eb_abfb_0242ac1c0002row8_col21,#T_452087e6_8e2e_11eb_abfb_0242ac1c0002row11_col6,#T_452087e6_8e2e_11eb_abfb_0242ac1c0002row15_col0,#T_452087e6_8e2e_11eb_abfb_0242ac1c0002row15_col20,#T_452087e6_8e2e_11eb_abfb_0242ac1c0002row17_col4{\n",
              "            background-color:  #eee8f3;\n",
              "            color:  #000000;\n",
              "        }#T_452087e6_8e2e_11eb_abfb_0242ac1c0002row1_col5,#T_452087e6_8e2e_11eb_abfb_0242ac1c0002row3_col16,#T_452087e6_8e2e_11eb_abfb_0242ac1c0002row7_col16,#T_452087e6_8e2e_11eb_abfb_0242ac1c0002row9_col3,#T_452087e6_8e2e_11eb_abfb_0242ac1c0002row20_col8,#T_452087e6_8e2e_11eb_abfb_0242ac1c0002row22_col16,#T_452087e6_8e2e_11eb_abfb_0242ac1c0002row22_col21{\n",
              "            background-color:  #d1d2e6;\n",
              "            color:  #000000;\n",
              "        }#T_452087e6_8e2e_11eb_abfb_0242ac1c0002row1_col6,#T_452087e6_8e2e_11eb_abfb_0242ac1c0002row4_col9,#T_452087e6_8e2e_11eb_abfb_0242ac1c0002row10_col8,#T_452087e6_8e2e_11eb_abfb_0242ac1c0002row13_col16,#T_452087e6_8e2e_11eb_abfb_0242ac1c0002row22_col13{\n",
              "            background-color:  #c2cbe2;\n",
              "            color:  #000000;\n",
              "        }#T_452087e6_8e2e_11eb_abfb_0242ac1c0002row1_col7,#T_452087e6_8e2e_11eb_abfb_0242ac1c0002row4_col11,#T_452087e6_8e2e_11eb_abfb_0242ac1c0002row10_col19,#T_452087e6_8e2e_11eb_abfb_0242ac1c0002row14_col6,#T_452087e6_8e2e_11eb_abfb_0242ac1c0002row16_col20{\n",
              "            background-color:  #dddbec;\n",
              "            color:  #000000;\n",
              "        }#T_452087e6_8e2e_11eb_abfb_0242ac1c0002row1_col8,#T_452087e6_8e2e_11eb_abfb_0242ac1c0002row10_col2,#T_452087e6_8e2e_11eb_abfb_0242ac1c0002row19_col2{\n",
              "            background-color:  #dfddec;\n",
              "            color:  #000000;\n",
              "        }#T_452087e6_8e2e_11eb_abfb_0242ac1c0002row1_col9,#T_452087e6_8e2e_11eb_abfb_0242ac1c0002row14_col22{\n",
              "            background-color:  #88b1d4;\n",
              "            color:  #000000;\n",
              "        }#T_452087e6_8e2e_11eb_abfb_0242ac1c0002row1_col10,#T_452087e6_8e2e_11eb_abfb_0242ac1c0002row7_col4,#T_452087e6_8e2e_11eb_abfb_0242ac1c0002row15_col6,#T_452087e6_8e2e_11eb_abfb_0242ac1c0002row22_col10{\n",
              "            background-color:  #f1ebf4;\n",
              "            color:  #000000;\n",
              "        }#T_452087e6_8e2e_11eb_abfb_0242ac1c0002row1_col11,#T_452087e6_8e2e_11eb_abfb_0242ac1c0002row3_col20,#T_452087e6_8e2e_11eb_abfb_0242ac1c0002row9_col17,#T_452087e6_8e2e_11eb_abfb_0242ac1c0002row13_col2,#T_452087e6_8e2e_11eb_abfb_0242ac1c0002row20_col11{\n",
              "            background-color:  #e3e0ee;\n",
              "            color:  #000000;\n",
              "        }#T_452087e6_8e2e_11eb_abfb_0242ac1c0002row1_col12{\n",
              "            background-color:  #75a9cf;\n",
              "            color:  #000000;\n",
              "        }#T_452087e6_8e2e_11eb_abfb_0242ac1c0002row1_col13,#T_452087e6_8e2e_11eb_abfb_0242ac1c0002row3_col19,#T_452087e6_8e2e_11eb_abfb_0242ac1c0002row4_col14,#T_452087e6_8e2e_11eb_abfb_0242ac1c0002row4_col15,#T_452087e6_8e2e_11eb_abfb_0242ac1c0002row6_col2,#T_452087e6_8e2e_11eb_abfb_0242ac1c0002row10_col6,#T_452087e6_8e2e_11eb_abfb_0242ac1c0002row12_col7,#T_452087e6_8e2e_11eb_abfb_0242ac1c0002row16_col17,#T_452087e6_8e2e_11eb_abfb_0242ac1c0002row17_col9,#T_452087e6_8e2e_11eb_abfb_0242ac1c0002row19_col1{\n",
              "            background-color:  #d3d4e7;\n",
              "            color:  #000000;\n",
              "        }#T_452087e6_8e2e_11eb_abfb_0242ac1c0002row1_col14,#T_452087e6_8e2e_11eb_abfb_0242ac1c0002row2_col13,#T_452087e6_8e2e_11eb_abfb_0242ac1c0002row7_col6,#T_452087e6_8e2e_11eb_abfb_0242ac1c0002row9_col0,#T_452087e6_8e2e_11eb_abfb_0242ac1c0002row14_col3,#T_452087e6_8e2e_11eb_abfb_0242ac1c0002row19_col0,#T_452087e6_8e2e_11eb_abfb_0242ac1c0002row19_col3,#T_452087e6_8e2e_11eb_abfb_0242ac1c0002row20_col15,#T_452087e6_8e2e_11eb_abfb_0242ac1c0002row21_col5{\n",
              "            background-color:  #dbdaeb;\n",
              "            color:  #000000;\n",
              "        }#T_452087e6_8e2e_11eb_abfb_0242ac1c0002row1_col15,#T_452087e6_8e2e_11eb_abfb_0242ac1c0002row14_col7,#T_452087e6_8e2e_11eb_abfb_0242ac1c0002row16_col6{\n",
              "            background-color:  #a9bfdc;\n",
              "            color:  #000000;\n",
              "        }#T_452087e6_8e2e_11eb_abfb_0242ac1c0002row1_col18,#T_452087e6_8e2e_11eb_abfb_0242ac1c0002row3_col18,#T_452087e6_8e2e_11eb_abfb_0242ac1c0002row7_col18,#T_452087e6_8e2e_11eb_abfb_0242ac1c0002row10_col14,#T_452087e6_8e2e_11eb_abfb_0242ac1c0002row19_col14,#T_452087e6_8e2e_11eb_abfb_0242ac1c0002row22_col20{\n",
              "            background-color:  #c5cce3;\n",
              "            color:  #000000;\n",
              "        }#T_452087e6_8e2e_11eb_abfb_0242ac1c0002row1_col19,#T_452087e6_8e2e_11eb_abfb_0242ac1c0002row4_col17,#T_452087e6_8e2e_11eb_abfb_0242ac1c0002row12_col11,#T_452087e6_8e2e_11eb_abfb_0242ac1c0002row12_col14,#T_452087e6_8e2e_11eb_abfb_0242ac1c0002row20_col13,#T_452087e6_8e2e_11eb_abfb_0242ac1c0002row20_col16{\n",
              "            background-color:  #c0c9e2;\n",
              "            color:  #000000;\n",
              "        }#T_452087e6_8e2e_11eb_abfb_0242ac1c0002row1_col20,#T_452087e6_8e2e_11eb_abfb_0242ac1c0002row6_col13,#T_452087e6_8e2e_11eb_abfb_0242ac1c0002row6_col22,#T_452087e6_8e2e_11eb_abfb_0242ac1c0002row13_col0,#T_452087e6_8e2e_11eb_abfb_0242ac1c0002row13_col3,#T_452087e6_8e2e_11eb_abfb_0242ac1c0002row13_col4,#T_452087e6_8e2e_11eb_abfb_0242ac1c0002row13_col15,#T_452087e6_8e2e_11eb_abfb_0242ac1c0002row18_col3,#T_452087e6_8e2e_11eb_abfb_0242ac1c0002row20_col3{\n",
              "            background-color:  #e1dfed;\n",
              "            color:  #000000;\n",
              "        }#T_452087e6_8e2e_11eb_abfb_0242ac1c0002row1_col21,#T_452087e6_8e2e_11eb_abfb_0242ac1c0002row3_col15,#T_452087e6_8e2e_11eb_abfb_0242ac1c0002row7_col0,#T_452087e6_8e2e_11eb_abfb_0242ac1c0002row7_col2{\n",
              "            background-color:  #bbc7e0;\n",
              "            color:  #000000;\n",
              "        }#T_452087e6_8e2e_11eb_abfb_0242ac1c0002row1_col22,#T_452087e6_8e2e_11eb_abfb_0242ac1c0002row6_col16{\n",
              "            background-color:  #acc0dd;\n",
              "            color:  #000000;\n",
              "        }#T_452087e6_8e2e_11eb_abfb_0242ac1c0002row2_col1,#T_452087e6_8e2e_11eb_abfb_0242ac1c0002row15_col22,#T_452087e6_8e2e_11eb_abfb_0242ac1c0002row21_col9{\n",
              "            background-color:  #79abd0;\n",
              "            color:  #000000;\n",
              "        }#T_452087e6_8e2e_11eb_abfb_0242ac1c0002row2_col3,#T_452087e6_8e2e_11eb_abfb_0242ac1c0002row5_col3,#T_452087e6_8e2e_11eb_abfb_0242ac1c0002row6_col15,#T_452087e6_8e2e_11eb_abfb_0242ac1c0002row8_col19,#T_452087e6_8e2e_11eb_abfb_0242ac1c0002row12_col4,#T_452087e6_8e2e_11eb_abfb_0242ac1c0002row12_col6,#T_452087e6_8e2e_11eb_abfb_0242ac1c0002row12_col10,#T_452087e6_8e2e_11eb_abfb_0242ac1c0002row16_col1,#T_452087e6_8e2e_11eb_abfb_0242ac1c0002row20_col4,#T_452087e6_8e2e_11eb_abfb_0242ac1c0002row21_col0{\n",
              "            background-color:  #f7f0f7;\n",
              "            color:  #000000;\n",
              "        }#T_452087e6_8e2e_11eb_abfb_0242ac1c0002row2_col4,#T_452087e6_8e2e_11eb_abfb_0242ac1c0002row6_col1,#T_452087e6_8e2e_11eb_abfb_0242ac1c0002row11_col20,#T_452087e6_8e2e_11eb_abfb_0242ac1c0002row13_col7,#T_452087e6_8e2e_11eb_abfb_0242ac1c0002row16_col3,#T_452087e6_8e2e_11eb_abfb_0242ac1c0002row18_col11,#T_452087e6_8e2e_11eb_abfb_0242ac1c0002row20_col1,#T_452087e6_8e2e_11eb_abfb_0242ac1c0002row20_col18{\n",
              "            background-color:  #e8e4f0;\n",
              "            color:  #000000;\n",
              "        }#T_452087e6_8e2e_11eb_abfb_0242ac1c0002row2_col5{\n",
              "            background-color:  #afc1dd;\n",
              "            color:  #000000;\n",
              "        }#T_452087e6_8e2e_11eb_abfb_0242ac1c0002row2_col6,#T_452087e6_8e2e_11eb_abfb_0242ac1c0002row11_col2,#T_452087e6_8e2e_11eb_abfb_0242ac1c0002row11_col7,#T_452087e6_8e2e_11eb_abfb_0242ac1c0002row14_col15,#T_452087e6_8e2e_11eb_abfb_0242ac1c0002row15_col14{\n",
              "            background-color:  #b7c5df;\n",
              "            color:  #000000;\n",
              "        }#T_452087e6_8e2e_11eb_abfb_0242ac1c0002row2_col7,#T_452087e6_8e2e_11eb_abfb_0242ac1c0002row7_col5,#T_452087e6_8e2e_11eb_abfb_0242ac1c0002row13_col9,#T_452087e6_8e2e_11eb_abfb_0242ac1c0002row13_col22{\n",
              "            background-color:  #abbfdc;\n",
              "            color:  #000000;\n",
              "        }#T_452087e6_8e2e_11eb_abfb_0242ac1c0002row2_col10,#T_452087e6_8e2e_11eb_abfb_0242ac1c0002row2_col20,#T_452087e6_8e2e_11eb_abfb_0242ac1c0002row8_col2,#T_452087e6_8e2e_11eb_abfb_0242ac1c0002row9_col6,#T_452087e6_8e2e_11eb_abfb_0242ac1c0002row11_col1,#T_452087e6_8e2e_11eb_abfb_0242ac1c0002row17_col18,#T_452087e6_8e2e_11eb_abfb_0242ac1c0002row18_col17{\n",
              "            background-color:  #efe9f3;\n",
              "            color:  #000000;\n",
              "        }#T_452087e6_8e2e_11eb_abfb_0242ac1c0002row2_col11,#T_452087e6_8e2e_11eb_abfb_0242ac1c0002row14_col5,#T_452087e6_8e2e_11eb_abfb_0242ac1c0002row15_col11{\n",
              "            background-color:  #b5c4df;\n",
              "            color:  #000000;\n",
              "        }#T_452087e6_8e2e_11eb_abfb_0242ac1c0002row2_col12,#T_452087e6_8e2e_11eb_abfb_0242ac1c0002row12_col16,#T_452087e6_8e2e_11eb_abfb_0242ac1c0002row20_col19{\n",
              "            background-color:  #b3c3de;\n",
              "            color:  #000000;\n",
              "        }#T_452087e6_8e2e_11eb_abfb_0242ac1c0002row2_col14,#T_452087e6_8e2e_11eb_abfb_0242ac1c0002row2_col15,#T_452087e6_8e2e_11eb_abfb_0242ac1c0002row7_col21,#T_452087e6_8e2e_11eb_abfb_0242ac1c0002row9_col1{\n",
              "            background-color:  #c8cde4;\n",
              "            color:  #000000;\n",
              "        }#T_452087e6_8e2e_11eb_abfb_0242ac1c0002row2_col17,#T_452087e6_8e2e_11eb_abfb_0242ac1c0002row6_col9,#T_452087e6_8e2e_11eb_abfb_0242ac1c0002row10_col7,#T_452087e6_8e2e_11eb_abfb_0242ac1c0002row11_col13,#T_452087e6_8e2e_11eb_abfb_0242ac1c0002row16_col15,#T_452087e6_8e2e_11eb_abfb_0242ac1c0002row18_col5,#T_452087e6_8e2e_11eb_abfb_0242ac1c0002row18_col14,#T_452087e6_8e2e_11eb_abfb_0242ac1c0002row19_col5{\n",
              "            background-color:  #e0dded;\n",
              "            color:  #000000;\n",
              "        }#T_452087e6_8e2e_11eb_abfb_0242ac1c0002row2_col18,#T_452087e6_8e2e_11eb_abfb_0242ac1c0002row3_col1,#T_452087e6_8e2e_11eb_abfb_0242ac1c0002row7_col13,#T_452087e6_8e2e_11eb_abfb_0242ac1c0002row7_col20,#T_452087e6_8e2e_11eb_abfb_0242ac1c0002row14_col0,#T_452087e6_8e2e_11eb_abfb_0242ac1c0002row17_col19,#T_452087e6_8e2e_11eb_abfb_0242ac1c0002row21_col13{\n",
              "            background-color:  #ede8f3;\n",
              "            color:  #000000;\n",
              "        }#T_452087e6_8e2e_11eb_abfb_0242ac1c0002row2_col19,#T_452087e6_8e2e_11eb_abfb_0242ac1c0002row3_col11,#T_452087e6_8e2e_11eb_abfb_0242ac1c0002row8_col13,#T_452087e6_8e2e_11eb_abfb_0242ac1c0002row15_col16,#T_452087e6_8e2e_11eb_abfb_0242ac1c0002row19_col17{\n",
              "            background-color:  #dad9ea;\n",
              "            color:  #000000;\n",
              "        }#T_452087e6_8e2e_11eb_abfb_0242ac1c0002row2_col22,#T_452087e6_8e2e_11eb_abfb_0242ac1c0002row3_col9,#T_452087e6_8e2e_11eb_abfb_0242ac1c0002row16_col12,#T_452087e6_8e2e_11eb_abfb_0242ac1c0002row17_col5{\n",
              "            background-color:  #9ab8d8;\n",
              "            color:  #000000;\n",
              "        }#T_452087e6_8e2e_11eb_abfb_0242ac1c0002row3_col0,#T_452087e6_8e2e_11eb_abfb_0242ac1c0002row5_col18,#T_452087e6_8e2e_11eb_abfb_0242ac1c0002row6_col20,#T_452087e6_8e2e_11eb_abfb_0242ac1c0002row8_col10,#T_452087e6_8e2e_11eb_abfb_0242ac1c0002row11_col4,#T_452087e6_8e2e_11eb_abfb_0242ac1c0002row15_col10,#T_452087e6_8e2e_11eb_abfb_0242ac1c0002row21_col10{\n",
              "            background-color:  #f0eaf4;\n",
              "            color:  #000000;\n",
              "        }#T_452087e6_8e2e_11eb_abfb_0242ac1c0002row3_col2,#T_452087e6_8e2e_11eb_abfb_0242ac1c0002row5_col13,#T_452087e6_8e2e_11eb_abfb_0242ac1c0002row7_col8,#T_452087e6_8e2e_11eb_abfb_0242ac1c0002row9_col8,#T_452087e6_8e2e_11eb_abfb_0242ac1c0002row17_col2,#T_452087e6_8e2e_11eb_abfb_0242ac1c0002row17_col10,#T_452087e6_8e2e_11eb_abfb_0242ac1c0002row20_col10{\n",
              "            background-color:  #f4eef6;\n",
              "            color:  #000000;\n",
              "        }#T_452087e6_8e2e_11eb_abfb_0242ac1c0002row3_col4,#T_452087e6_8e2e_11eb_abfb_0242ac1c0002row4_col0,#T_452087e6_8e2e_11eb_abfb_0242ac1c0002row14_col1,#T_452087e6_8e2e_11eb_abfb_0242ac1c0002row14_col4,#T_452087e6_8e2e_11eb_abfb_0242ac1c0002row21_col16{\n",
              "            background-color:  #f4edf6;\n",
              "            color:  #000000;\n",
              "        }#T_452087e6_8e2e_11eb_abfb_0242ac1c0002row3_col5,#T_452087e6_8e2e_11eb_abfb_0242ac1c0002row5_col7,#T_452087e6_8e2e_11eb_abfb_0242ac1c0002row10_col17,#T_452087e6_8e2e_11eb_abfb_0242ac1c0002row19_col21{\n",
              "            background-color:  #ced0e6;\n",
              "            color:  #000000;\n",
              "        }#T_452087e6_8e2e_11eb_abfb_0242ac1c0002row3_col6,#T_452087e6_8e2e_11eb_abfb_0242ac1c0002row10_col4,#T_452087e6_8e2e_11eb_abfb_0242ac1c0002row13_col11,#T_452087e6_8e2e_11eb_abfb_0242ac1c0002row14_col10,#T_452087e6_8e2e_11eb_abfb_0242ac1c0002row15_col5,#T_452087e6_8e2e_11eb_abfb_0242ac1c0002row18_col19{\n",
              "            background-color:  #e7e3f0;\n",
              "            color:  #000000;\n",
              "        }#T_452087e6_8e2e_11eb_abfb_0242ac1c0002row3_col7,#T_452087e6_8e2e_11eb_abfb_0242ac1c0002row19_col18,#T_452087e6_8e2e_11eb_abfb_0242ac1c0002row22_col3{\n",
              "            background-color:  #d4d4e8;\n",
              "            color:  #000000;\n",
              "        }#T_452087e6_8e2e_11eb_abfb_0242ac1c0002row3_col8,#T_452087e6_8e2e_11eb_abfb_0242ac1c0002row3_col13,#T_452087e6_8e2e_11eb_abfb_0242ac1c0002row4_col16,#T_452087e6_8e2e_11eb_abfb_0242ac1c0002row5_col16,#T_452087e6_8e2e_11eb_abfb_0242ac1c0002row12_col21,#T_452087e6_8e2e_11eb_abfb_0242ac1c0002row20_col5,#T_452087e6_8e2e_11eb_abfb_0242ac1c0002row22_col5{\n",
              "            background-color:  #d7d6e9;\n",
              "            color:  #000000;\n",
              "        }#T_452087e6_8e2e_11eb_abfb_0242ac1c0002row3_col10,#T_452087e6_8e2e_11eb_abfb_0242ac1c0002row7_col17,#T_452087e6_8e2e_11eb_abfb_0242ac1c0002row21_col20{\n",
              "            background-color:  #f6eff7;\n",
              "            color:  #000000;\n",
              "        }#T_452087e6_8e2e_11eb_abfb_0242ac1c0002row3_col12{\n",
              "            background-color:  #91b5d6;\n",
              "            color:  #000000;\n",
              "        }#T_452087e6_8e2e_11eb_abfb_0242ac1c0002row3_col14,#T_452087e6_8e2e_11eb_abfb_0242ac1c0002row7_col11,#T_452087e6_8e2e_11eb_abfb_0242ac1c0002row10_col5,#T_452087e6_8e2e_11eb_abfb_0242ac1c0002row11_col19,#T_452087e6_8e2e_11eb_abfb_0242ac1c0002row20_col14{\n",
              "            background-color:  #c6cce3;\n",
              "            color:  #000000;\n",
              "        }#T_452087e6_8e2e_11eb_abfb_0242ac1c0002row3_col21,#T_452087e6_8e2e_11eb_abfb_0242ac1c0002row4_col13,#T_452087e6_8e2e_11eb_abfb_0242ac1c0002row10_col22,#T_452087e6_8e2e_11eb_abfb_0242ac1c0002row13_col8,#T_452087e6_8e2e_11eb_abfb_0242ac1c0002row16_col8,#T_452087e6_8e2e_11eb_abfb_0242ac1c0002row16_col14{\n",
              "            background-color:  #c4cbe3;\n",
              "            color:  #000000;\n",
              "        }#T_452087e6_8e2e_11eb_abfb_0242ac1c0002row3_col22,#T_452087e6_8e2e_11eb_abfb_0242ac1c0002row5_col17,#T_452087e6_8e2e_11eb_abfb_0242ac1c0002row7_col12,#T_452087e6_8e2e_11eb_abfb_0242ac1c0002row15_col7,#T_452087e6_8e2e_11eb_abfb_0242ac1c0002row22_col11{\n",
              "            background-color:  #b0c2de;\n",
              "            color:  #000000;\n",
              "        }#T_452087e6_8e2e_11eb_abfb_0242ac1c0002row4_col1,#T_452087e6_8e2e_11eb_abfb_0242ac1c0002row4_col3,#T_452087e6_8e2e_11eb_abfb_0242ac1c0002row4_col19,#T_452087e6_8e2e_11eb_abfb_0242ac1c0002row6_col7,#T_452087e6_8e2e_11eb_abfb_0242ac1c0002row6_col14,#T_452087e6_8e2e_11eb_abfb_0242ac1c0002row13_col1,#T_452087e6_8e2e_11eb_abfb_0242ac1c0002row13_col21,#T_452087e6_8e2e_11eb_abfb_0242ac1c0002row20_col21{\n",
              "            background-color:  #e6e2ef;\n",
              "            color:  #000000;\n",
              "        }#T_452087e6_8e2e_11eb_abfb_0242ac1c0002row4_col5,#T_452087e6_8e2e_11eb_abfb_0242ac1c0002row15_col19{\n",
              "            background-color:  #a7bddb;\n",
              "            color:  #000000;\n",
              "        }#T_452087e6_8e2e_11eb_abfb_0242ac1c0002row4_col6{\n",
              "            background-color:  #93b5d6;\n",
              "            color:  #000000;\n",
              "        }#T_452087e6_8e2e_11eb_abfb_0242ac1c0002row4_col8,#T_452087e6_8e2e_11eb_abfb_0242ac1c0002row6_col4,#T_452087e6_8e2e_11eb_abfb_0242ac1c0002row7_col19,#T_452087e6_8e2e_11eb_abfb_0242ac1c0002row10_col9,#T_452087e6_8e2e_11eb_abfb_0242ac1c0002row12_col3,#T_452087e6_8e2e_11eb_abfb_0242ac1c0002row16_col22{\n",
              "            background-color:  #c9cee4;\n",
              "            color:  #000000;\n",
              "        }#T_452087e6_8e2e_11eb_abfb_0242ac1c0002row4_col10,#T_452087e6_8e2e_11eb_abfb_0242ac1c0002row7_col3,#T_452087e6_8e2e_11eb_abfb_0242ac1c0002row19_col8{\n",
              "            background-color:  #e4e1ef;\n",
              "            color:  #000000;\n",
              "        }#T_452087e6_8e2e_11eb_abfb_0242ac1c0002row4_col20{\n",
              "            background-color:  #ece7f2;\n",
              "            color:  #000000;\n",
              "        }#T_452087e6_8e2e_11eb_abfb_0242ac1c0002row4_col22,#T_452087e6_8e2e_11eb_abfb_0242ac1c0002row8_col6,#T_452087e6_8e2e_11eb_abfb_0242ac1c0002row10_col18,#T_452087e6_8e2e_11eb_abfb_0242ac1c0002row11_col21,#T_452087e6_8e2e_11eb_abfb_0242ac1c0002row19_col16,#T_452087e6_8e2e_11eb_abfb_0242ac1c0002row21_col22,#T_452087e6_8e2e_11eb_abfb_0242ac1c0002row22_col0{\n",
              "            background-color:  #c1cae2;\n",
              "            color:  #000000;\n",
              "        }#T_452087e6_8e2e_11eb_abfb_0242ac1c0002row5_col0,#T_452087e6_8e2e_11eb_abfb_0242ac1c0002row8_col3,#T_452087e6_8e2e_11eb_abfb_0242ac1c0002row8_col14,#T_452087e6_8e2e_11eb_abfb_0242ac1c0002row13_col18,#T_452087e6_8e2e_11eb_abfb_0242ac1c0002row17_col20{\n",
              "            background-color:  #f2ecf5;\n",
              "            color:  #000000;\n",
              "        }#T_452087e6_8e2e_11eb_abfb_0242ac1c0002row5_col2,#T_452087e6_8e2e_11eb_abfb_0242ac1c0002row9_col11,#T_452087e6_8e2e_11eb_abfb_0242ac1c0002row11_col3,#T_452087e6_8e2e_11eb_abfb_0242ac1c0002row12_col0,#T_452087e6_8e2e_11eb_abfb_0242ac1c0002row14_col13{\n",
              "            background-color:  #dedcec;\n",
              "            color:  #000000;\n",
              "        }#T_452087e6_8e2e_11eb_abfb_0242ac1c0002row5_col4,#T_452087e6_8e2e_11eb_abfb_0242ac1c0002row9_col14,#T_452087e6_8e2e_11eb_abfb_0242ac1c0002row10_col3,#T_452087e6_8e2e_11eb_abfb_0242ac1c0002row10_col20,#T_452087e6_8e2e_11eb_abfb_0242ac1c0002row20_col2{\n",
              "            background-color:  #ebe6f2;\n",
              "            color:  #000000;\n",
              "        }#T_452087e6_8e2e_11eb_abfb_0242ac1c0002row5_col6{\n",
              "            background-color:  #3b92c1;\n",
              "            color:  #000000;\n",
              "        }#T_452087e6_8e2e_11eb_abfb_0242ac1c0002row5_col10,#T_452087e6_8e2e_11eb_abfb_0242ac1c0002row9_col10,#T_452087e6_8e2e_11eb_abfb_0242ac1c0002row21_col4{\n",
              "            background-color:  #fef6fa;\n",
              "            color:  #000000;\n",
              "        }#T_452087e6_8e2e_11eb_abfb_0242ac1c0002row5_col15,#T_452087e6_8e2e_11eb_abfb_0242ac1c0002row17_col0,#T_452087e6_8e2e_11eb_abfb_0242ac1c0002row17_col11,#T_452087e6_8e2e_11eb_abfb_0242ac1c0002row17_col22{\n",
              "            background-color:  #fcf4fa;\n",
              "            color:  #000000;\n",
              "        }#T_452087e6_8e2e_11eb_abfb_0242ac1c0002row5_col21,#T_452087e6_8e2e_11eb_abfb_0242ac1c0002row7_col1,#T_452087e6_8e2e_11eb_abfb_0242ac1c0002row15_col4,#T_452087e6_8e2e_11eb_abfb_0242ac1c0002row21_col17{\n",
              "            background-color:  #f3edf5;\n",
              "            color:  #000000;\n",
              "        }#T_452087e6_8e2e_11eb_abfb_0242ac1c0002row6_col3,#T_452087e6_8e2e_11eb_abfb_0242ac1c0002row16_col18,#T_452087e6_8e2e_11eb_abfb_0242ac1c0002row18_col0{\n",
              "            background-color:  #fdf5fa;\n",
              "            color:  #000000;\n",
              "        }#T_452087e6_8e2e_11eb_abfb_0242ac1c0002row6_col5{\n",
              "            background-color:  #2c89bd;\n",
              "            color:  #000000;\n",
              "        }#T_452087e6_8e2e_11eb_abfb_0242ac1c0002row6_col12,#T_452087e6_8e2e_11eb_abfb_0242ac1c0002row11_col8,#T_452087e6_8e2e_11eb_abfb_0242ac1c0002row14_col8,#T_452087e6_8e2e_11eb_abfb_0242ac1c0002row15_col13,#T_452087e6_8e2e_11eb_abfb_0242ac1c0002row16_col11,#T_452087e6_8e2e_11eb_abfb_0242ac1c0002row17_col12,#T_452087e6_8e2e_11eb_abfb_0242ac1c0002row21_col2{\n",
              "            background-color:  #e9e5f1;\n",
              "            color:  #000000;\n",
              "        }#T_452087e6_8e2e_11eb_abfb_0242ac1c0002row6_col17,#T_452087e6_8e2e_11eb_abfb_0242ac1c0002row12_col22,#T_452087e6_8e2e_11eb_abfb_0242ac1c0002row17_col6{\n",
              "            background-color:  #589ec8;\n",
              "            color:  #000000;\n",
              "        }#T_452087e6_8e2e_11eb_abfb_0242ac1c0002row6_col19,#T_452087e6_8e2e_11eb_abfb_0242ac1c0002row10_col1,#T_452087e6_8e2e_11eb_abfb_0242ac1c0002row18_col10{\n",
              "            background-color:  #ede7f2;\n",
              "            color:  #000000;\n",
              "        }#T_452087e6_8e2e_11eb_abfb_0242ac1c0002row7_col10,#T_452087e6_8e2e_11eb_abfb_0242ac1c0002row13_col10,#T_452087e6_8e2e_11eb_abfb_0242ac1c0002row19_col4{\n",
              "            background-color:  #faf2f8;\n",
              "            color:  #000000;\n",
              "        }#T_452087e6_8e2e_11eb_abfb_0242ac1c0002row7_col14,#T_452087e6_8e2e_11eb_abfb_0242ac1c0002row20_col9{\n",
              "            background-color:  #a5bddb;\n",
              "            color:  #000000;\n",
              "        }#T_452087e6_8e2e_11eb_abfb_0242ac1c0002row7_col15{\n",
              "            background-color:  #adc1dd;\n",
              "            color:  #000000;\n",
              "        }#T_452087e6_8e2e_11eb_abfb_0242ac1c0002row7_col22{\n",
              "            background-color:  #5c9fc9;\n",
              "            color:  #000000;\n",
              "        }#T_452087e6_8e2e_11eb_abfb_0242ac1c0002row8_col4,#T_452087e6_8e2e_11eb_abfb_0242ac1c0002row17_col1{\n",
              "            background-color:  #f5eff6;\n",
              "            color:  #000000;\n",
              "        }#T_452087e6_8e2e_11eb_abfb_0242ac1c0002row8_col5{\n",
              "            background-color:  #a8bedc;\n",
              "            color:  #000000;\n",
              "        }#T_452087e6_8e2e_11eb_abfb_0242ac1c0002row8_col11,#T_452087e6_8e2e_11eb_abfb_0242ac1c0002row9_col5,#T_452087e6_8e2e_11eb_abfb_0242ac1c0002row17_col7,#T_452087e6_8e2e_11eb_abfb_0242ac1c0002row18_col20{\n",
              "            background-color:  #fef6fb;\n",
              "            color:  #000000;\n",
              "        }#T_452087e6_8e2e_11eb_abfb_0242ac1c0002row8_col15,#T_452087e6_8e2e_11eb_abfb_0242ac1c0002row16_col10{\n",
              "            background-color:  #faf3f9;\n",
              "            color:  #000000;\n",
              "        }#T_452087e6_8e2e_11eb_abfb_0242ac1c0002row8_col16,#T_452087e6_8e2e_11eb_abfb_0242ac1c0002row13_col17,#T_452087e6_8e2e_11eb_abfb_0242ac1c0002row16_col2,#T_452087e6_8e2e_11eb_abfb_0242ac1c0002row19_col11{\n",
              "            background-color:  #cccfe5;\n",
              "            color:  #000000;\n",
              "        }#T_452087e6_8e2e_11eb_abfb_0242ac1c0002row8_col17{\n",
              "            background-color:  #84b0d3;\n",
              "            color:  #000000;\n",
              "        }#T_452087e6_8e2e_11eb_abfb_0242ac1c0002row8_col18,#T_452087e6_8e2e_11eb_abfb_0242ac1c0002row11_col5,#T_452087e6_8e2e_11eb_abfb_0242ac1c0002row14_col20,#T_452087e6_8e2e_11eb_abfb_0242ac1c0002row16_col0,#T_452087e6_8e2e_11eb_abfb_0242ac1c0002row17_col13,#T_452087e6_8e2e_11eb_abfb_0242ac1c0002row20_col7{\n",
              "            background-color:  #dcdaeb;\n",
              "            color:  #000000;\n",
              "        }#T_452087e6_8e2e_11eb_abfb_0242ac1c0002row8_col20{\n",
              "            background-color:  #eee9f3;\n",
              "            color:  #000000;\n",
              "        }#T_452087e6_8e2e_11eb_abfb_0242ac1c0002row9_col12,#T_452087e6_8e2e_11eb_abfb_0242ac1c0002row12_col9{\n",
              "            background-color:  #308cbe;\n",
              "            color:  #000000;\n",
              "        }#T_452087e6_8e2e_11eb_abfb_0242ac1c0002row9_col13,#T_452087e6_8e2e_11eb_abfb_0242ac1c0002row11_col10,#T_452087e6_8e2e_11eb_abfb_0242ac1c0002row11_col18,#T_452087e6_8e2e_11eb_abfb_0242ac1c0002row14_col9,#T_452087e6_8e2e_11eb_abfb_0242ac1c0002row14_col19,#T_452087e6_8e2e_11eb_abfb_0242ac1c0002row16_col13,#T_452087e6_8e2e_11eb_abfb_0242ac1c0002row21_col11{\n",
              "            background-color:  #d2d3e7;\n",
              "            color:  #000000;\n",
              "        }#T_452087e6_8e2e_11eb_abfb_0242ac1c0002row9_col15,#T_452087e6_8e2e_11eb_abfb_0242ac1c0002row12_col13,#T_452087e6_8e2e_11eb_abfb_0242ac1c0002row18_col15{\n",
              "            background-color:  #89b1d4;\n",
              "            color:  #000000;\n",
              "        }#T_452087e6_8e2e_11eb_abfb_0242ac1c0002row9_col18{\n",
              "            background-color:  #67a4cc;\n",
              "            color:  #000000;\n",
              "        }#T_452087e6_8e2e_11eb_abfb_0242ac1c0002row9_col21,#T_452087e6_8e2e_11eb_abfb_0242ac1c0002row22_col14{\n",
              "            background-color:  #96b6d7;\n",
              "            color:  #000000;\n",
              "        }#T_452087e6_8e2e_11eb_abfb_0242ac1c0002row9_col22,#T_452087e6_8e2e_11eb_abfb_0242ac1c0002row11_col14,#T_452087e6_8e2e_11eb_abfb_0242ac1c0002row20_col12,#T_452087e6_8e2e_11eb_abfb_0242ac1c0002row22_col15{\n",
              "            background-color:  #86b0d3;\n",
              "            color:  #000000;\n",
              "        }#T_452087e6_8e2e_11eb_abfb_0242ac1c0002row10_col11,#T_452087e6_8e2e_11eb_abfb_0242ac1c0002row10_col12,#T_452087e6_8e2e_11eb_abfb_0242ac1c0002row14_col16,#T_452087e6_8e2e_11eb_abfb_0242ac1c0002row22_col2{\n",
              "            background-color:  #bcc7e1;\n",
              "            color:  #000000;\n",
              "        }#T_452087e6_8e2e_11eb_abfb_0242ac1c0002row11_col12{\n",
              "            background-color:  #8eb3d5;\n",
              "            color:  #000000;\n",
              "        }#T_452087e6_8e2e_11eb_abfb_0242ac1c0002row11_col15{\n",
              "            background-color:  #a4bcda;\n",
              "            color:  #000000;\n",
              "        }#T_452087e6_8e2e_11eb_abfb_0242ac1c0002row11_col22{\n",
              "            background-color:  #8fb4d6;\n",
              "            color:  #000000;\n",
              "        }#T_452087e6_8e2e_11eb_abfb_0242ac1c0002row12_col1{\n",
              "            background-color:  #b4c4df;\n",
              "            color:  #000000;\n",
              "        }#T_452087e6_8e2e_11eb_abfb_0242ac1c0002row12_col15{\n",
              "            background-color:  #81aed2;\n",
              "            color:  #000000;\n",
              "        }#T_452087e6_8e2e_11eb_abfb_0242ac1c0002row12_col19,#T_452087e6_8e2e_11eb_abfb_0242ac1c0002row22_col9{\n",
              "            background-color:  #78abd0;\n",
              "            color:  #000000;\n",
              "        }#T_452087e6_8e2e_11eb_abfb_0242ac1c0002row12_col20,#T_452087e6_8e2e_11eb_abfb_0242ac1c0002row16_col5,#T_452087e6_8e2e_11eb_abfb_0242ac1c0002row19_col20{\n",
              "            background-color:  #bfc9e1;\n",
              "            color:  #000000;\n",
              "        }#T_452087e6_8e2e_11eb_abfb_0242ac1c0002row13_col12,#T_452087e6_8e2e_11eb_abfb_0242ac1c0002row15_col12{\n",
              "            background-color:  #62a2cb;\n",
              "            color:  #000000;\n",
              "        }#T_452087e6_8e2e_11eb_abfb_0242ac1c0002row13_col19,#T_452087e6_8e2e_11eb_abfb_0242ac1c0002row13_col20,#T_452087e6_8e2e_11eb_abfb_0242ac1c0002row14_col21,#T_452087e6_8e2e_11eb_abfb_0242ac1c0002row21_col14{\n",
              "            background-color:  #d0d1e6;\n",
              "            color:  #000000;\n",
              "        }#T_452087e6_8e2e_11eb_abfb_0242ac1c0002row14_col11,#T_452087e6_8e2e_11eb_abfb_0242ac1c0002row19_col15{\n",
              "            background-color:  #99b8d8;\n",
              "            color:  #000000;\n",
              "        }#T_452087e6_8e2e_11eb_abfb_0242ac1c0002row14_col12{\n",
              "            background-color:  #a1bbda;\n",
              "            color:  #000000;\n",
              "        }#T_452087e6_8e2e_11eb_abfb_0242ac1c0002row15_col1,#T_452087e6_8e2e_11eb_abfb_0242ac1c0002row19_col13,#T_452087e6_8e2e_11eb_abfb_0242ac1c0002row21_col7{\n",
              "            background-color:  #cacee5;\n",
              "            color:  #000000;\n",
              "        }#T_452087e6_8e2e_11eb_abfb_0242ac1c0002row15_col8,#T_452087e6_8e2e_11eb_abfb_0242ac1c0002row19_col10,#T_452087e6_8e2e_11eb_abfb_0242ac1c0002row22_col4{\n",
              "            background-color:  #f1ebf5;\n",
              "            color:  #000000;\n",
              "        }#T_452087e6_8e2e_11eb_abfb_0242ac1c0002row15_col18,#T_452087e6_8e2e_11eb_abfb_0242ac1c0002row17_col8{\n",
              "            background-color:  #80aed2;\n",
              "            color:  #000000;\n",
              "        }#T_452087e6_8e2e_11eb_abfb_0242ac1c0002row15_col21,#T_452087e6_8e2e_11eb_abfb_0242ac1c0002row21_col15{\n",
              "            background-color:  #7dacd1;\n",
              "            color:  #000000;\n",
              "        }#T_452087e6_8e2e_11eb_abfb_0242ac1c0002row16_col4{\n",
              "            background-color:  #fbf3f9;\n",
              "            color:  #000000;\n",
              "        }#T_452087e6_8e2e_11eb_abfb_0242ac1c0002row16_col7,#T_452087e6_8e2e_11eb_abfb_0242ac1c0002row16_col9{\n",
              "            background-color:  #d8d7e9;\n",
              "            color:  #000000;\n",
              "        }#T_452087e6_8e2e_11eb_abfb_0242ac1c0002row18_col9{\n",
              "            background-color:  #549cc7;\n",
              "            color:  #000000;\n",
              "        }#T_452087e6_8e2e_11eb_abfb_0242ac1c0002row18_col21{\n",
              "            background-color:  #0c74b2;\n",
              "            color:  #f1f1f1;\n",
              "        }#T_452087e6_8e2e_11eb_abfb_0242ac1c0002row19_col9{\n",
              "            background-color:  #69a5cc;\n",
              "            color:  #000000;\n",
              "        }#T_452087e6_8e2e_11eb_abfb_0242ac1c0002row19_col12{\n",
              "            background-color:  #4a98c5;\n",
              "            color:  #000000;\n",
              "        }#T_452087e6_8e2e_11eb_abfb_0242ac1c0002row19_col22{\n",
              "            background-color:  #2a88bc;\n",
              "            color:  #000000;\n",
              "        }#T_452087e6_8e2e_11eb_abfb_0242ac1c0002row20_col22{\n",
              "            background-color:  #9ebad9;\n",
              "            color:  #000000;\n",
              "        }#T_452087e6_8e2e_11eb_abfb_0242ac1c0002row21_col12{\n",
              "            background-color:  #b8c6e0;\n",
              "            color:  #000000;\n",
              "        }#T_452087e6_8e2e_11eb_abfb_0242ac1c0002row21_col18{\n",
              "            background-color:  #0771b1;\n",
              "            color:  #f1f1f1;\n",
              "        }#T_452087e6_8e2e_11eb_abfb_0242ac1c0002row22_col7{\n",
              "            background-color:  #6da6cd;\n",
              "            color:  #000000;\n",
              "        }#T_452087e6_8e2e_11eb_abfb_0242ac1c0002row22_col12{\n",
              "            background-color:  #4697c4;\n",
              "            color:  #000000;\n",
              "        }#T_452087e6_8e2e_11eb_abfb_0242ac1c0002row22_col19{\n",
              "            background-color:  #3f93c2;\n",
              "            color:  #000000;\n",
              "        }</style><table id=\"T_452087e6_8e2e_11eb_abfb_0242ac1c0002\" ><thead>    <tr>        <th class=\"blank level0\" ></th>        <th class=\"col_heading level0 col0\" >Whats in the box</th>        <th class=\"col_heading level0 col1\" >Item model number</th>        <th class=\"col_heading level0 col2\" >Name</th>        <th class=\"col_heading level0 col3\" >Colour</th>        <th class=\"col_heading level0 col4\" >Resolution</th>        <th class=\"col_heading level0 col5\" >Display technology</th>        <th class=\"col_heading level0 col6\" >Other display features</th>        <th class=\"col_heading level0 col7\" >Operating system</th>        <th class=\"col_heading level0 col8\" >Processor brand</th>        <th class=\"col_heading level0 col9\" >Expandable storage (in GB)</th>        <th class=\"col_heading level0 col10\" >Audio jack</th>        <th class=\"col_heading level0 col11\" >Gps</th>        <th class=\"col_heading level0 col12\" >Battery power (in mah)</th>        <th class=\"col_heading level0 col13\" >Item weight (in gms)</th>        <th class=\"col_heading level0 col14\" >Warranty details</th>        <th class=\"col_heading level0 col15\" >Rating</th>        <th class=\"col_heading level0 col16\" >Battery type</th>        <th class=\"col_heading level0 col17\" >Other camera features</th>        <th class=\"col_heading level0 col18\" >OEM</th>        <th class=\"col_heading level0 col19\" >Inbuilt storage (in GB)</th>        <th class=\"col_heading level0 col20\" >RAM (in GB)</th>        <th class=\"col_heading level0 col21\" >sentiments</th>        <th class=\"col_heading level0 col22\" >Price (₹)</th>    </tr></thead><tbody>\n",
              "                <tr>\n",
              "                        <th id=\"T_452087e6_8e2e_11eb_abfb_0242ac1c0002level0_row0\" class=\"row_heading level0 row0\" >Whats in the box</th>\n",
              "                        <td id=\"T_452087e6_8e2e_11eb_abfb_0242ac1c0002row0_col0\" class=\"data row0 col0\" >1.000000</td>\n",
              "                        <td id=\"T_452087e6_8e2e_11eb_abfb_0242ac1c0002row0_col1\" class=\"data row0 col1\" >-0.060177</td>\n",
              "                        <td id=\"T_452087e6_8e2e_11eb_abfb_0242ac1c0002row0_col2\" class=\"data row0 col2\" >0.115240</td>\n",
              "                        <td id=\"T_452087e6_8e2e_11eb_abfb_0242ac1c0002row0_col3\" class=\"data row0 col3\" >0.000404</td>\n",
              "                        <td id=\"T_452087e6_8e2e_11eb_abfb_0242ac1c0002row0_col4\" class=\"data row0 col4\" >-0.029974</td>\n",
              "                        <td id=\"T_452087e6_8e2e_11eb_abfb_0242ac1c0002row0_col5\" class=\"data row0 col5\" >-0.017235</td>\n",
              "                        <td id=\"T_452087e6_8e2e_11eb_abfb_0242ac1c0002row0_col6\" class=\"data row0 col6\" >0.123205</td>\n",
              "                        <td id=\"T_452087e6_8e2e_11eb_abfb_0242ac1c0002row0_col7\" class=\"data row0 col7\" >0.234137</td>\n",
              "                        <td id=\"T_452087e6_8e2e_11eb_abfb_0242ac1c0002row0_col8\" class=\"data row0 col8\" >-0.115975</td>\n",
              "                        <td id=\"T_452087e6_8e2e_11eb_abfb_0242ac1c0002row0_col9\" class=\"data row0 col9\" >0.106459</td>\n",
              "                        <td id=\"T_452087e6_8e2e_11eb_abfb_0242ac1c0002row0_col10\" class=\"data row0 col10\" >-0.070234</td>\n",
              "                        <td id=\"T_452087e6_8e2e_11eb_abfb_0242ac1c0002row0_col11\" class=\"data row0 col11\" >0.074385</td>\n",
              "                        <td id=\"T_452087e6_8e2e_11eb_abfb_0242ac1c0002row0_col12\" class=\"data row0 col12\" >0.096260</td>\n",
              "                        <td id=\"T_452087e6_8e2e_11eb_abfb_0242ac1c0002row0_col13\" class=\"data row0 col13\" >0.077022</td>\n",
              "                        <td id=\"T_452087e6_8e2e_11eb_abfb_0242ac1c0002row0_col14\" class=\"data row0 col14\" >0.015066</td>\n",
              "                        <td id=\"T_452087e6_8e2e_11eb_abfb_0242ac1c0002row0_col15\" class=\"data row0 col15\" >0.010772</td>\n",
              "                        <td id=\"T_452087e6_8e2e_11eb_abfb_0242ac1c0002row0_col16\" class=\"data row0 col16\" >0.103074</td>\n",
              "                        <td id=\"T_452087e6_8e2e_11eb_abfb_0242ac1c0002row0_col17\" class=\"data row0 col17\" >-0.092091</td>\n",
              "                        <td id=\"T_452087e6_8e2e_11eb_abfb_0242ac1c0002row0_col18\" class=\"data row0 col18\" >-0.095693</td>\n",
              "                        <td id=\"T_452087e6_8e2e_11eb_abfb_0242ac1c0002row0_col19\" class=\"data row0 col19\" >0.110177</td>\n",
              "                        <td id=\"T_452087e6_8e2e_11eb_abfb_0242ac1c0002row0_col20\" class=\"data row0 col20\" >0.034333</td>\n",
              "                        <td id=\"T_452087e6_8e2e_11eb_abfb_0242ac1c0002row0_col21\" class=\"data row0 col21\" >-0.057858</td>\n",
              "                        <td id=\"T_452087e6_8e2e_11eb_abfb_0242ac1c0002row0_col22\" class=\"data row0 col22\" >0.211745</td>\n",
              "            </tr>\n",
              "            <tr>\n",
              "                        <th id=\"T_452087e6_8e2e_11eb_abfb_0242ac1c0002level0_row1\" class=\"row_heading level0 row1\" >Item model number</th>\n",
              "                        <td id=\"T_452087e6_8e2e_11eb_abfb_0242ac1c0002row1_col0\" class=\"data row1 col0\" >-0.060177</td>\n",
              "                        <td id=\"T_452087e6_8e2e_11eb_abfb_0242ac1c0002row1_col1\" class=\"data row1 col1\" >1.000000</td>\n",
              "                        <td id=\"T_452087e6_8e2e_11eb_abfb_0242ac1c0002row1_col2\" class=\"data row1 col2\" >0.434873</td>\n",
              "                        <td id=\"T_452087e6_8e2e_11eb_abfb_0242ac1c0002row1_col3\" class=\"data row1 col3\" >0.027189</td>\n",
              "                        <td id=\"T_452087e6_8e2e_11eb_abfb_0242ac1c0002row1_col4\" class=\"data row1 col4\" >0.065937</td>\n",
              "                        <td id=\"T_452087e6_8e2e_11eb_abfb_0242ac1c0002row1_col5\" class=\"data row1 col5\" >-0.099896</td>\n",
              "                        <td id=\"T_452087e6_8e2e_11eb_abfb_0242ac1c0002row1_col6\" class=\"data row1 col6\" >0.055060</td>\n",
              "                        <td id=\"T_452087e6_8e2e_11eb_abfb_0242ac1c0002row1_col7\" class=\"data row1 col7\" >-0.013739</td>\n",
              "                        <td id=\"T_452087e6_8e2e_11eb_abfb_0242ac1c0002row1_col8\" class=\"data row1 col8\" >-0.103402</td>\n",
              "                        <td id=\"T_452087e6_8e2e_11eb_abfb_0242ac1c0002row1_col9\" class=\"data row1 col9\" >0.201246</td>\n",
              "                        <td id=\"T_452087e6_8e2e_11eb_abfb_0242ac1c0002row1_col10\" class=\"data row1 col10\" >0.030349</td>\n",
              "                        <td id=\"T_452087e6_8e2e_11eb_abfb_0242ac1c0002row1_col11\" class=\"data row1 col11\" >0.016642</td>\n",
              "                        <td id=\"T_452087e6_8e2e_11eb_abfb_0242ac1c0002row1_col12\" class=\"data row1 col12\" >0.264049</td>\n",
              "                        <td id=\"T_452087e6_8e2e_11eb_abfb_0242ac1c0002row1_col13\" class=\"data row1 col13\" >0.065594</td>\n",
              "                        <td id=\"T_452087e6_8e2e_11eb_abfb_0242ac1c0002row1_col14\" class=\"data row1 col14\" >-0.020240</td>\n",
              "                        <td id=\"T_452087e6_8e2e_11eb_abfb_0242ac1c0002row1_col15\" class=\"data row1 col15\" >0.192784</td>\n",
              "                        <td id=\"T_452087e6_8e2e_11eb_abfb_0242ac1c0002row1_col16\" class=\"data row1 col16\" >-0.039404</td>\n",
              "                        <td id=\"T_452087e6_8e2e_11eb_abfb_0242ac1c0002row1_col17\" class=\"data row1 col17\" >-0.032919</td>\n",
              "                        <td id=\"T_452087e6_8e2e_11eb_abfb_0242ac1c0002row1_col18\" class=\"data row1 col18\" >0.044619</td>\n",
              "                        <td id=\"T_452087e6_8e2e_11eb_abfb_0242ac1c0002row1_col19\" class=\"data row1 col19\" >0.157598</td>\n",
              "                        <td id=\"T_452087e6_8e2e_11eb_abfb_0242ac1c0002row1_col20\" class=\"data row1 col20\" >0.055129</td>\n",
              "                        <td id=\"T_452087e6_8e2e_11eb_abfb_0242ac1c0002row1_col21\" class=\"data row1 col21\" >0.125358</td>\n",
              "                        <td id=\"T_452087e6_8e2e_11eb_abfb_0242ac1c0002row1_col22\" class=\"data row1 col22\" >0.125815</td>\n",
              "            </tr>\n",
              "            <tr>\n",
              "                        <th id=\"T_452087e6_8e2e_11eb_abfb_0242ac1c0002level0_row2\" class=\"row_heading level0 row2\" >Name</th>\n",
              "                        <td id=\"T_452087e6_8e2e_11eb_abfb_0242ac1c0002row2_col0\" class=\"data row2 col0\" >0.115240</td>\n",
              "                        <td id=\"T_452087e6_8e2e_11eb_abfb_0242ac1c0002row2_col1\" class=\"data row2 col1\" >0.434873</td>\n",
              "                        <td id=\"T_452087e6_8e2e_11eb_abfb_0242ac1c0002row2_col2\" class=\"data row2 col2\" >1.000000</td>\n",
              "                        <td id=\"T_452087e6_8e2e_11eb_abfb_0242ac1c0002row2_col3\" class=\"data row2 col3\" >-0.090001</td>\n",
              "                        <td id=\"T_452087e6_8e2e_11eb_abfb_0242ac1c0002row2_col4\" class=\"data row2 col4\" >0.092715</td>\n",
              "                        <td id=\"T_452087e6_8e2e_11eb_abfb_0242ac1c0002row2_col5\" class=\"data row2 col5\" >0.048158</td>\n",
              "                        <td id=\"T_452087e6_8e2e_11eb_abfb_0242ac1c0002row2_col6\" class=\"data row2 col6\" >0.103216</td>\n",
              "                        <td id=\"T_452087e6_8e2e_11eb_abfb_0242ac1c0002row2_col7\" class=\"data row2 col7\" >0.195082</td>\n",
              "                        <td id=\"T_452087e6_8e2e_11eb_abfb_0242ac1c0002row2_col8\" class=\"data row2 col8\" >-0.047312</td>\n",
              "                        <td id=\"T_452087e6_8e2e_11eb_abfb_0242ac1c0002row2_col9\" class=\"data row2 col9\" >-0.142847</td>\n",
              "                        <td id=\"T_452087e6_8e2e_11eb_abfb_0242ac1c0002row2_col10\" class=\"data row2 col10\" >0.043381</td>\n",
              "                        <td id=\"T_452087e6_8e2e_11eb_abfb_0242ac1c0002row2_col11\" class=\"data row2 col11\" >0.209348</td>\n",
              "                        <td id=\"T_452087e6_8e2e_11eb_abfb_0242ac1c0002row2_col12\" class=\"data row2 col12\" >0.028322</td>\n",
              "                        <td id=\"T_452087e6_8e2e_11eb_abfb_0242ac1c0002row2_col13\" class=\"data row2 col13\" >0.022934</td>\n",
              "                        <td id=\"T_452087e6_8e2e_11eb_abfb_0242ac1c0002row2_col14\" class=\"data row2 col14\" >0.077730</td>\n",
              "                        <td id=\"T_452087e6_8e2e_11eb_abfb_0242ac1c0002row2_col15\" class=\"data row2 col15\" >0.076785</td>\n",
              "                        <td id=\"T_452087e6_8e2e_11eb_abfb_0242ac1c0002row2_col16\" class=\"data row2 col16\" >0.134980</td>\n",
              "                        <td id=\"T_452087e6_8e2e_11eb_abfb_0242ac1c0002row2_col17\" class=\"data row2 col17\" >-0.089967</td>\n",
              "                        <td id=\"T_452087e6_8e2e_11eb_abfb_0242ac1c0002row2_col18\" class=\"data row2 col18\" >-0.172580</td>\n",
              "                        <td id=\"T_452087e6_8e2e_11eb_abfb_0242ac1c0002row2_col19\" class=\"data row2 col19\" >0.043465</td>\n",
              "                        <td id=\"T_452087e6_8e2e_11eb_abfb_0242ac1c0002row2_col20\" class=\"data row2 col20\" >-0.021323</td>\n",
              "                        <td id=\"T_452087e6_8e2e_11eb_abfb_0242ac1c0002row2_col21\" class=\"data row2 col21\" >-0.009807</td>\n",
              "                        <td id=\"T_452087e6_8e2e_11eb_abfb_0242ac1c0002row2_col22\" class=\"data row2 col22\" >0.191381</td>\n",
              "            </tr>\n",
              "            <tr>\n",
              "                        <th id=\"T_452087e6_8e2e_11eb_abfb_0242ac1c0002level0_row3\" class=\"row_heading level0 row3\" >Colour</th>\n",
              "                        <td id=\"T_452087e6_8e2e_11eb_abfb_0242ac1c0002row3_col0\" class=\"data row3 col0\" >0.000404</td>\n",
              "                        <td id=\"T_452087e6_8e2e_11eb_abfb_0242ac1c0002row3_col1\" class=\"data row3 col1\" >0.027189</td>\n",
              "                        <td id=\"T_452087e6_8e2e_11eb_abfb_0242ac1c0002row3_col2\" class=\"data row3 col2\" >-0.090001</td>\n",
              "                        <td id=\"T_452087e6_8e2e_11eb_abfb_0242ac1c0002row3_col3\" class=\"data row3 col3\" >1.000000</td>\n",
              "                        <td id=\"T_452087e6_8e2e_11eb_abfb_0242ac1c0002row3_col4\" class=\"data row3 col4\" >0.023490</td>\n",
              "                        <td id=\"T_452087e6_8e2e_11eb_abfb_0242ac1c0002row3_col5\" class=\"data row3 col5\" >-0.091732</td>\n",
              "                        <td id=\"T_452087e6_8e2e_11eb_abfb_0242ac1c0002row3_col6\" class=\"data row3 col6\" >-0.135044</td>\n",
              "                        <td id=\"T_452087e6_8e2e_11eb_abfb_0242ac1c0002row3_col7\" class=\"data row3 col7\" >0.033857</td>\n",
              "                        <td id=\"T_452087e6_8e2e_11eb_abfb_0242ac1c0002row3_col8\" class=\"data row3 col8\" >-0.058032</td>\n",
              "                        <td id=\"T_452087e6_8e2e_11eb_abfb_0242ac1c0002row3_col9\" class=\"data row3 col9\" >0.130808</td>\n",
              "                        <td id=\"T_452087e6_8e2e_11eb_abfb_0242ac1c0002row3_col10\" class=\"data row3 col10\" >-0.004158</td>\n",
              "                        <td id=\"T_452087e6_8e2e_11eb_abfb_0242ac1c0002row3_col11\" class=\"data row3 col11\" >0.064787</td>\n",
              "                        <td id=\"T_452087e6_8e2e_11eb_abfb_0242ac1c0002row3_col12\" class=\"data row3 col12\" >0.158069</td>\n",
              "                        <td id=\"T_452087e6_8e2e_11eb_abfb_0242ac1c0002row3_col13\" class=\"data row3 col13\" >0.047922</td>\n",
              "                        <td id=\"T_452087e6_8e2e_11eb_abfb_0242ac1c0002row3_col14\" class=\"data row3 col14\" >0.080143</td>\n",
              "                        <td id=\"T_452087e6_8e2e_11eb_abfb_0242ac1c0002row3_col15\" class=\"data row3 col15\" >0.126098</td>\n",
              "                        <td id=\"T_452087e6_8e2e_11eb_abfb_0242ac1c0002row3_col16\" class=\"data row3 col16\" >0.011371</td>\n",
              "                        <td id=\"T_452087e6_8e2e_11eb_abfb_0242ac1c0002row3_col17\" class=\"data row3 col17\" >-0.153407</td>\n",
              "                        <td id=\"T_452087e6_8e2e_11eb_abfb_0242ac1c0002row3_col18\" class=\"data row3 col18\" >0.046336</td>\n",
              "                        <td id=\"T_452087e6_8e2e_11eb_abfb_0242ac1c0002row3_col19\" class=\"data row3 col19\" >0.080572</td>\n",
              "                        <td id=\"T_452087e6_8e2e_11eb_abfb_0242ac1c0002row3_col20\" class=\"data row3 col20\" >0.044854</td>\n",
              "                        <td id=\"T_452087e6_8e2e_11eb_abfb_0242ac1c0002row3_col21\" class=\"data row3 col21\" >0.090091</td>\n",
              "                        <td id=\"T_452087e6_8e2e_11eb_abfb_0242ac1c0002row3_col22\" class=\"data row3 col22\" >0.112988</td>\n",
              "            </tr>\n",
              "            <tr>\n",
              "                        <th id=\"T_452087e6_8e2e_11eb_abfb_0242ac1c0002level0_row4\" class=\"row_heading level0 row4\" >Resolution</th>\n",
              "                        <td id=\"T_452087e6_8e2e_11eb_abfb_0242ac1c0002row4_col0\" class=\"data row4 col0\" >-0.029974</td>\n",
              "                        <td id=\"T_452087e6_8e2e_11eb_abfb_0242ac1c0002row4_col1\" class=\"data row4 col1\" >0.065937</td>\n",
              "                        <td id=\"T_452087e6_8e2e_11eb_abfb_0242ac1c0002row4_col2\" class=\"data row4 col2\" >0.092715</td>\n",
              "                        <td id=\"T_452087e6_8e2e_11eb_abfb_0242ac1c0002row4_col3\" class=\"data row4 col3\" >0.023490</td>\n",
              "                        <td id=\"T_452087e6_8e2e_11eb_abfb_0242ac1c0002row4_col4\" class=\"data row4 col4\" >1.000000</td>\n",
              "                        <td id=\"T_452087e6_8e2e_11eb_abfb_0242ac1c0002row4_col5\" class=\"data row4 col5\" >0.081706</td>\n",
              "                        <td id=\"T_452087e6_8e2e_11eb_abfb_0242ac1c0002row4_col6\" class=\"data row4 col6\" >0.230204</td>\n",
              "                        <td id=\"T_452087e6_8e2e_11eb_abfb_0242ac1c0002row4_col7\" class=\"data row4 col7\" >0.046481</td>\n",
              "                        <td id=\"T_452087e6_8e2e_11eb_abfb_0242ac1c0002row4_col8\" class=\"data row4 col8\" >0.011885</td>\n",
              "                        <td id=\"T_452087e6_8e2e_11eb_abfb_0242ac1c0002row4_col9\" class=\"data row4 col9\" >-0.029137</td>\n",
              "                        <td id=\"T_452087e6_8e2e_11eb_abfb_0242ac1c0002row4_col10\" class=\"data row4 col10\" >0.105052</td>\n",
              "                        <td id=\"T_452087e6_8e2e_11eb_abfb_0242ac1c0002row4_col11\" class=\"data row4 col11\" >0.047852</td>\n",
              "                        <td id=\"T_452087e6_8e2e_11eb_abfb_0242ac1c0002row4_col12\" class=\"data row4 col12\" >0.001540</td>\n",
              "                        <td id=\"T_452087e6_8e2e_11eb_abfb_0242ac1c0002row4_col13\" class=\"data row4 col13\" >0.126788</td>\n",
              "                        <td id=\"T_452087e6_8e2e_11eb_abfb_0242ac1c0002row4_col14\" class=\"data row4 col14\" >0.025640</td>\n",
              "                        <td id=\"T_452087e6_8e2e_11eb_abfb_0242ac1c0002row4_col15\" class=\"data row4 col15\" >0.028080</td>\n",
              "                        <td id=\"T_452087e6_8e2e_11eb_abfb_0242ac1c0002row4_col16\" class=\"data row4 col16\" >-0.024241</td>\n",
              "                        <td id=\"T_452087e6_8e2e_11eb_abfb_0242ac1c0002row4_col17\" class=\"data row4 col17\" >0.066324</td>\n",
              "                        <td id=\"T_452087e6_8e2e_11eb_abfb_0242ac1c0002row4_col18\" class=\"data row4 col18\" >-0.055750</td>\n",
              "                        <td id=\"T_452087e6_8e2e_11eb_abfb_0242ac1c0002row4_col19\" class=\"data row4 col19\" >-0.017283</td>\n",
              "                        <td id=\"T_452087e6_8e2e_11eb_abfb_0242ac1c0002row4_col20\" class=\"data row4 col20\" >-0.000299</td>\n",
              "                        <td id=\"T_452087e6_8e2e_11eb_abfb_0242ac1c0002row4_col21\" class=\"data row4 col21\" >-0.046935</td>\n",
              "                        <td id=\"T_452087e6_8e2e_11eb_abfb_0242ac1c0002row4_col22\" class=\"data row4 col22\" >0.040852</td>\n",
              "            </tr>\n",
              "            <tr>\n",
              "                        <th id=\"T_452087e6_8e2e_11eb_abfb_0242ac1c0002level0_row5\" class=\"row_heading level0 row5\" >Display technology</th>\n",
              "                        <td id=\"T_452087e6_8e2e_11eb_abfb_0242ac1c0002row5_col0\" class=\"data row5 col0\" >-0.017235</td>\n",
              "                        <td id=\"T_452087e6_8e2e_11eb_abfb_0242ac1c0002row5_col1\" class=\"data row5 col1\" >-0.099896</td>\n",
              "                        <td id=\"T_452087e6_8e2e_11eb_abfb_0242ac1c0002row5_col2\" class=\"data row5 col2\" >0.048158</td>\n",
              "                        <td id=\"T_452087e6_8e2e_11eb_abfb_0242ac1c0002row5_col3\" class=\"data row5 col3\" >-0.091732</td>\n",
              "                        <td id=\"T_452087e6_8e2e_11eb_abfb_0242ac1c0002row5_col4\" class=\"data row5 col4\" >0.081706</td>\n",
              "                        <td id=\"T_452087e6_8e2e_11eb_abfb_0242ac1c0002row5_col5\" class=\"data row5 col5\" >1.000000</td>\n",
              "                        <td id=\"T_452087e6_8e2e_11eb_abfb_0242ac1c0002row5_col6\" class=\"data row5 col6\" >0.489507</td>\n",
              "                        <td id=\"T_452087e6_8e2e_11eb_abfb_0242ac1c0002row5_col7\" class=\"data row5 col7\" >0.061805</td>\n",
              "                        <td id=\"T_452087e6_8e2e_11eb_abfb_0242ac1c0002row5_col8\" class=\"data row5 col8\" >0.072093</td>\n",
              "                        <td id=\"T_452087e6_8e2e_11eb_abfb_0242ac1c0002row5_col9\" class=\"data row5 col9\" >-0.455329</td>\n",
              "                        <td id=\"T_452087e6_8e2e_11eb_abfb_0242ac1c0002row5_col10\" class=\"data row5 col10\" >-0.058737</td>\n",
              "                        <td id=\"T_452087e6_8e2e_11eb_abfb_0242ac1c0002row5_col11\" class=\"data row5 col11\" >-0.175338</td>\n",
              "                        <td id=\"T_452087e6_8e2e_11eb_abfb_0242ac1c0002row5_col12\" class=\"data row5 col12\" >-0.466427</td>\n",
              "                        <td id=\"T_452087e6_8e2e_11eb_abfb_0242ac1c0002row5_col13\" class=\"data row5 col13\" >-0.135876</td>\n",
              "                        <td id=\"T_452087e6_8e2e_11eb_abfb_0242ac1c0002row5_col14\" class=\"data row5 col14\" >0.017647</td>\n",
              "                        <td id=\"T_452087e6_8e2e_11eb_abfb_0242ac1c0002row5_col15\" class=\"data row5 col15\" >-0.244663</td>\n",
              "                        <td id=\"T_452087e6_8e2e_11eb_abfb_0242ac1c0002row5_col16\" class=\"data row5 col16\" >-0.024420</td>\n",
              "                        <td id=\"T_452087e6_8e2e_11eb_abfb_0242ac1c0002row5_col17\" class=\"data row5 col17\" >0.127802</td>\n",
              "                        <td id=\"T_452087e6_8e2e_11eb_abfb_0242ac1c0002row5_col18\" class=\"data row5 col18\" >-0.198214</td>\n",
              "                        <td id=\"T_452087e6_8e2e_11eb_abfb_0242ac1c0002row5_col19\" class=\"data row5 col19\" >-0.201701</td>\n",
              "                        <td id=\"T_452087e6_8e2e_11eb_abfb_0242ac1c0002row5_col20\" class=\"data row5 col20\" >-0.145633</td>\n",
              "                        <td id=\"T_452087e6_8e2e_11eb_abfb_0242ac1c0002row5_col21\" class=\"data row5 col21\" >-0.170970</td>\n",
              "                        <td id=\"T_452087e6_8e2e_11eb_abfb_0242ac1c0002row5_col22\" class=\"data row5 col22\" >-0.145031</td>\n",
              "            </tr>\n",
              "            <tr>\n",
              "                        <th id=\"T_452087e6_8e2e_11eb_abfb_0242ac1c0002level0_row6\" class=\"row_heading level0 row6\" >Other display features</th>\n",
              "                        <td id=\"T_452087e6_8e2e_11eb_abfb_0242ac1c0002row6_col0\" class=\"data row6 col0\" >0.123205</td>\n",
              "                        <td id=\"T_452087e6_8e2e_11eb_abfb_0242ac1c0002row6_col1\" class=\"data row6 col1\" >0.055060</td>\n",
              "                        <td id=\"T_452087e6_8e2e_11eb_abfb_0242ac1c0002row6_col2\" class=\"data row6 col2\" >0.103216</td>\n",
              "                        <td id=\"T_452087e6_8e2e_11eb_abfb_0242ac1c0002row6_col3\" class=\"data row6 col3\" >-0.135044</td>\n",
              "                        <td id=\"T_452087e6_8e2e_11eb_abfb_0242ac1c0002row6_col4\" class=\"data row6 col4\" >0.230204</td>\n",
              "                        <td id=\"T_452087e6_8e2e_11eb_abfb_0242ac1c0002row6_col5\" class=\"data row6 col5\" >0.489507</td>\n",
              "                        <td id=\"T_452087e6_8e2e_11eb_abfb_0242ac1c0002row6_col6\" class=\"data row6 col6\" >1.000000</td>\n",
              "                        <td id=\"T_452087e6_8e2e_11eb_abfb_0242ac1c0002row6_col7\" class=\"data row6 col7\" >-0.066394</td>\n",
              "                        <td id=\"T_452087e6_8e2e_11eb_abfb_0242ac1c0002row6_col8\" class=\"data row6 col8\" >0.058764</td>\n",
              "                        <td id=\"T_452087e6_8e2e_11eb_abfb_0242ac1c0002row6_col9\" class=\"data row6 col9\" >-0.188889</td>\n",
              "                        <td id=\"T_452087e6_8e2e_11eb_abfb_0242ac1c0002row6_col10\" class=\"data row6 col10\" >-0.016670</td>\n",
              "                        <td id=\"T_452087e6_8e2e_11eb_abfb_0242ac1c0002row6_col11\" class=\"data row6 col11\" >-0.177670</td>\n",
              "                        <td id=\"T_452087e6_8e2e_11eb_abfb_0242ac1c0002row6_col12\" class=\"data row6 col12\" >-0.260937</td>\n",
              "                        <td id=\"T_452087e6_8e2e_11eb_abfb_0242ac1c0002row6_col13\" class=\"data row6 col13\" >-0.007863</td>\n",
              "                        <td id=\"T_452087e6_8e2e_11eb_abfb_0242ac1c0002row6_col14\" class=\"data row6 col14\" >-0.076744</td>\n",
              "                        <td id=\"T_452087e6_8e2e_11eb_abfb_0242ac1c0002row6_col15\" class=\"data row6 col15\" >-0.204739</td>\n",
              "                        <td id=\"T_452087e6_8e2e_11eb_abfb_0242ac1c0002row6_col16\" class=\"data row6 col16\" >0.154208</td>\n",
              "                        <td id=\"T_452087e6_8e2e_11eb_abfb_0242ac1c0002row6_col17\" class=\"data row6 col17\" >0.407734</td>\n",
              "                        <td id=\"T_452087e6_8e2e_11eb_abfb_0242ac1c0002row6_col18\" class=\"data row6 col18\" >-0.331925</td>\n",
              "                        <td id=\"T_452087e6_8e2e_11eb_abfb_0242ac1c0002row6_col19\" class=\"data row6 col19\" >-0.052833</td>\n",
              "                        <td id=\"T_452087e6_8e2e_11eb_abfb_0242ac1c0002row6_col20\" class=\"data row6 col20\" >-0.025774</td>\n",
              "                        <td id=\"T_452087e6_8e2e_11eb_abfb_0242ac1c0002row6_col21\" class=\"data row6 col21\" >-0.275166</td>\n",
              "                        <td id=\"T_452087e6_8e2e_11eb_abfb_0242ac1c0002row6_col22\" class=\"data row6 col22\" >-0.119541</td>\n",
              "            </tr>\n",
              "            <tr>\n",
              "                        <th id=\"T_452087e6_8e2e_11eb_abfb_0242ac1c0002level0_row7\" class=\"row_heading level0 row7\" >Operating system</th>\n",
              "                        <td id=\"T_452087e6_8e2e_11eb_abfb_0242ac1c0002row7_col0\" class=\"data row7 col0\" >0.234137</td>\n",
              "                        <td id=\"T_452087e6_8e2e_11eb_abfb_0242ac1c0002row7_col1\" class=\"data row7 col1\" >-0.013739</td>\n",
              "                        <td id=\"T_452087e6_8e2e_11eb_abfb_0242ac1c0002row7_col2\" class=\"data row7 col2\" >0.195082</td>\n",
              "                        <td id=\"T_452087e6_8e2e_11eb_abfb_0242ac1c0002row7_col3\" class=\"data row7 col3\" >0.033857</td>\n",
              "                        <td id=\"T_452087e6_8e2e_11eb_abfb_0242ac1c0002row7_col4\" class=\"data row7 col4\" >0.046481</td>\n",
              "                        <td id=\"T_452087e6_8e2e_11eb_abfb_0242ac1c0002row7_col5\" class=\"data row7 col5\" >0.061805</td>\n",
              "                        <td id=\"T_452087e6_8e2e_11eb_abfb_0242ac1c0002row7_col6\" class=\"data row7 col6\" >-0.066394</td>\n",
              "                        <td id=\"T_452087e6_8e2e_11eb_abfb_0242ac1c0002row7_col7\" class=\"data row7 col7\" >1.000000</td>\n",
              "                        <td id=\"T_452087e6_8e2e_11eb_abfb_0242ac1c0002row7_col8\" class=\"data row7 col8\" >-0.258843</td>\n",
              "                        <td id=\"T_452087e6_8e2e_11eb_abfb_0242ac1c0002row7_col9\" class=\"data row7 col9\" >0.008319</td>\n",
              "                        <td id=\"T_452087e6_8e2e_11eb_abfb_0242ac1c0002row7_col10\" class=\"data row7 col10\" >-0.032444</td>\n",
              "                        <td id=\"T_452087e6_8e2e_11eb_abfb_0242ac1c0002row7_col11\" class=\"data row7 col11\" >0.152627</td>\n",
              "                        <td id=\"T_452087e6_8e2e_11eb_abfb_0242ac1c0002row7_col12\" class=\"data row7 col12\" >0.037892</td>\n",
              "                        <td id=\"T_452087e6_8e2e_11eb_abfb_0242ac1c0002row7_col13\" class=\"data row7 col13\" >-0.077737</td>\n",
              "                        <td id=\"T_452087e6_8e2e_11eb_abfb_0242ac1c0002row7_col14\" class=\"data row7 col14\" >0.203225</td>\n",
              "                        <td id=\"T_452087e6_8e2e_11eb_abfb_0242ac1c0002row7_col15\" class=\"data row7 col15\" >0.174332</td>\n",
              "                        <td id=\"T_452087e6_8e2e_11eb_abfb_0242ac1c0002row7_col16\" class=\"data row7 col16\" >0.013051</td>\n",
              "                        <td id=\"T_452087e6_8e2e_11eb_abfb_0242ac1c0002row7_col17\" class=\"data row7 col17\" >-0.251442</td>\n",
              "                        <td id=\"T_452087e6_8e2e_11eb_abfb_0242ac1c0002row7_col18\" class=\"data row7 col18\" >0.047733</td>\n",
              "                        <td id=\"T_452087e6_8e2e_11eb_abfb_0242ac1c0002row7_col19\" class=\"data row7 col19\" >0.125210</td>\n",
              "                        <td id=\"T_452087e6_8e2e_11eb_abfb_0242ac1c0002row7_col20\" class=\"data row7 col20\" >-0.008308</td>\n",
              "                        <td id=\"T_452087e6_8e2e_11eb_abfb_0242ac1c0002row7_col21\" class=\"data row7 col21\" >0.076469</td>\n",
              "                        <td id=\"T_452087e6_8e2e_11eb_abfb_0242ac1c0002row7_col22\" class=\"data row7 col22\" >0.386173</td>\n",
              "            </tr>\n",
              "            <tr>\n",
              "                        <th id=\"T_452087e6_8e2e_11eb_abfb_0242ac1c0002level0_row8\" class=\"row_heading level0 row8\" >Processor brand</th>\n",
              "                        <td id=\"T_452087e6_8e2e_11eb_abfb_0242ac1c0002row8_col0\" class=\"data row8 col0\" >-0.115975</td>\n",
              "                        <td id=\"T_452087e6_8e2e_11eb_abfb_0242ac1c0002row8_col1\" class=\"data row8 col1\" >-0.103402</td>\n",
              "                        <td id=\"T_452087e6_8e2e_11eb_abfb_0242ac1c0002row8_col2\" class=\"data row8 col2\" >-0.047312</td>\n",
              "                        <td id=\"T_452087e6_8e2e_11eb_abfb_0242ac1c0002row8_col3\" class=\"data row8 col3\" >-0.058032</td>\n",
              "                        <td id=\"T_452087e6_8e2e_11eb_abfb_0242ac1c0002row8_col4\" class=\"data row8 col4\" >0.011885</td>\n",
              "                        <td id=\"T_452087e6_8e2e_11eb_abfb_0242ac1c0002row8_col5\" class=\"data row8 col5\" >0.072093</td>\n",
              "                        <td id=\"T_452087e6_8e2e_11eb_abfb_0242ac1c0002row8_col6\" class=\"data row8 col6\" >0.058764</td>\n",
              "                        <td id=\"T_452087e6_8e2e_11eb_abfb_0242ac1c0002row8_col7\" class=\"data row8 col7\" >-0.258843</td>\n",
              "                        <td id=\"T_452087e6_8e2e_11eb_abfb_0242ac1c0002row8_col8\" class=\"data row8 col8\" >1.000000</td>\n",
              "                        <td id=\"T_452087e6_8e2e_11eb_abfb_0242ac1c0002row8_col9\" class=\"data row8 col9\" >-0.257576</td>\n",
              "                        <td id=\"T_452087e6_8e2e_11eb_abfb_0242ac1c0002row8_col10\" class=\"data row8 col10\" >0.038440</td>\n",
              "                        <td id=\"T_452087e6_8e2e_11eb_abfb_0242ac1c0002row8_col11\" class=\"data row8 col11\" >-0.171951</td>\n",
              "                        <td id=\"T_452087e6_8e2e_11eb_abfb_0242ac1c0002row8_col12\" class=\"data row8 col12\" >-0.299323</td>\n",
              "                        <td id=\"T_452087e6_8e2e_11eb_abfb_0242ac1c0002row8_col13\" class=\"data row8 col13\" >0.030015</td>\n",
              "                        <td id=\"T_452087e6_8e2e_11eb_abfb_0242ac1c0002row8_col14\" class=\"data row8 col14\" >-0.168577</td>\n",
              "                        <td id=\"T_452087e6_8e2e_11eb_abfb_0242ac1c0002row8_col15\" class=\"data row8 col15\" >-0.231989</td>\n",
              "                        <td id=\"T_452087e6_8e2e_11eb_abfb_0242ac1c0002row8_col16\" class=\"data row8 col16\" >0.031538</td>\n",
              "                        <td id=\"T_452087e6_8e2e_11eb_abfb_0242ac1c0002row8_col17\" class=\"data row8 col17\" >0.280920</td>\n",
              "                        <td id=\"T_452087e6_8e2e_11eb_abfb_0242ac1c0002row8_col18\" class=\"data row8 col18\" >-0.070257</td>\n",
              "                        <td id=\"T_452087e6_8e2e_11eb_abfb_0242ac1c0002row8_col19\" class=\"data row8 col19\" >-0.136364</td>\n",
              "                        <td id=\"T_452087e6_8e2e_11eb_abfb_0242ac1c0002row8_col20\" class=\"data row8 col20\" >-0.020177</td>\n",
              "                        <td id=\"T_452087e6_8e2e_11eb_abfb_0242ac1c0002row8_col21\" class=\"data row8 col21\" >-0.128748</td>\n",
              "                        <td id=\"T_452087e6_8e2e_11eb_abfb_0242ac1c0002row8_col22\" class=\"data row8 col22\" >-0.357712</td>\n",
              "            </tr>\n",
              "            <tr>\n",
              "                        <th id=\"T_452087e6_8e2e_11eb_abfb_0242ac1c0002level0_row9\" class=\"row_heading level0 row9\" >Expandable storage (in GB)</th>\n",
              "                        <td id=\"T_452087e6_8e2e_11eb_abfb_0242ac1c0002row9_col0\" class=\"data row9 col0\" >0.106459</td>\n",
              "                        <td id=\"T_452087e6_8e2e_11eb_abfb_0242ac1c0002row9_col1\" class=\"data row9 col1\" >0.201246</td>\n",
              "                        <td id=\"T_452087e6_8e2e_11eb_abfb_0242ac1c0002row9_col2\" class=\"data row9 col2\" >-0.142847</td>\n",
              "                        <td id=\"T_452087e6_8e2e_11eb_abfb_0242ac1c0002row9_col3\" class=\"data row9 col3\" >0.130808</td>\n",
              "                        <td id=\"T_452087e6_8e2e_11eb_abfb_0242ac1c0002row9_col4\" class=\"data row9 col4\" >-0.029137</td>\n",
              "                        <td id=\"T_452087e6_8e2e_11eb_abfb_0242ac1c0002row9_col5\" class=\"data row9 col5\" >-0.455329</td>\n",
              "                        <td id=\"T_452087e6_8e2e_11eb_abfb_0242ac1c0002row9_col6\" class=\"data row9 col6\" >-0.188889</td>\n",
              "                        <td id=\"T_452087e6_8e2e_11eb_abfb_0242ac1c0002row9_col7\" class=\"data row9 col7\" >0.008319</td>\n",
              "                        <td id=\"T_452087e6_8e2e_11eb_abfb_0242ac1c0002row9_col8\" class=\"data row9 col8\" >-0.257576</td>\n",
              "                        <td id=\"T_452087e6_8e2e_11eb_abfb_0242ac1c0002row9_col9\" class=\"data row9 col9\" >1.000000</td>\n",
              "                        <td id=\"T_452087e6_8e2e_11eb_abfb_0242ac1c0002row9_col10\" class=\"data row9 col10\" >-0.060718</td>\n",
              "                        <td id=\"T_452087e6_8e2e_11eb_abfb_0242ac1c0002row9_col11\" class=\"data row9 col11\" >0.044022</td>\n",
              "                        <td id=\"T_452087e6_8e2e_11eb_abfb_0242ac1c0002row9_col12\" class=\"data row9 col12\" >0.472742</td>\n",
              "                        <td id=\"T_452087e6_8e2e_11eb_abfb_0242ac1c0002row9_col13\" class=\"data row9 col13\" >0.071219</td>\n",
              "                        <td id=\"T_452087e6_8e2e_11eb_abfb_0242ac1c0002row9_col14\" class=\"data row9 col14\" >-0.106138</td>\n",
              "                        <td id=\"T_452087e6_8e2e_11eb_abfb_0242ac1c0002row9_col15\" class=\"data row9 col15\" >0.297705</td>\n",
              "                        <td id=\"T_452087e6_8e2e_11eb_abfb_0242ac1c0002row9_col16\" class=\"data row9 col16\" >-0.137450</td>\n",
              "                        <td id=\"T_452087e6_8e2e_11eb_abfb_0242ac1c0002row9_col17\" class=\"data row9 col17\" >-0.109965</td>\n",
              "                        <td id=\"T_452087e6_8e2e_11eb_abfb_0242ac1c0002row9_col18\" class=\"data row9 col18\" >0.368506</td>\n",
              "                        <td id=\"T_452087e6_8e2e_11eb_abfb_0242ac1c0002row9_col19\" class=\"data row9 col19\" >0.302308</td>\n",
              "                        <td id=\"T_452087e6_8e2e_11eb_abfb_0242ac1c0002row9_col20\" class=\"data row9 col20\" >0.095227</td>\n",
              "                        <td id=\"T_452087e6_8e2e_11eb_abfb_0242ac1c0002row9_col21\" class=\"data row9 col21\" >0.253066</td>\n",
              "                        <td id=\"T_452087e6_8e2e_11eb_abfb_0242ac1c0002row9_col22\" class=\"data row9 col22\" >0.260030</td>\n",
              "            </tr>\n",
              "            <tr>\n",
              "                        <th id=\"T_452087e6_8e2e_11eb_abfb_0242ac1c0002level0_row10\" class=\"row_heading level0 row10\" >Audio jack</th>\n",
              "                        <td id=\"T_452087e6_8e2e_11eb_abfb_0242ac1c0002row10_col0\" class=\"data row10 col0\" >-0.070234</td>\n",
              "                        <td id=\"T_452087e6_8e2e_11eb_abfb_0242ac1c0002row10_col1\" class=\"data row10 col1\" >0.030349</td>\n",
              "                        <td id=\"T_452087e6_8e2e_11eb_abfb_0242ac1c0002row10_col2\" class=\"data row10 col2\" >0.043381</td>\n",
              "                        <td id=\"T_452087e6_8e2e_11eb_abfb_0242ac1c0002row10_col3\" class=\"data row10 col3\" >-0.004158</td>\n",
              "                        <td id=\"T_452087e6_8e2e_11eb_abfb_0242ac1c0002row10_col4\" class=\"data row10 col4\" >0.105052</td>\n",
              "                        <td id=\"T_452087e6_8e2e_11eb_abfb_0242ac1c0002row10_col5\" class=\"data row10 col5\" >-0.058737</td>\n",
              "                        <td id=\"T_452087e6_8e2e_11eb_abfb_0242ac1c0002row10_col6\" class=\"data row10 col6\" >-0.016670</td>\n",
              "                        <td id=\"T_452087e6_8e2e_11eb_abfb_0242ac1c0002row10_col7\" class=\"data row10 col7\" >-0.032444</td>\n",
              "                        <td id=\"T_452087e6_8e2e_11eb_abfb_0242ac1c0002row10_col8\" class=\"data row10 col8\" >0.038440</td>\n",
              "                        <td id=\"T_452087e6_8e2e_11eb_abfb_0242ac1c0002row10_col9\" class=\"data row10 col9\" >-0.060718</td>\n",
              "                        <td id=\"T_452087e6_8e2e_11eb_abfb_0242ac1c0002row10_col10\" class=\"data row10 col10\" >1.000000</td>\n",
              "                        <td id=\"T_452087e6_8e2e_11eb_abfb_0242ac1c0002row10_col11\" class=\"data row10 col11\" >0.186136</td>\n",
              "                        <td id=\"T_452087e6_8e2e_11eb_abfb_0242ac1c0002row10_col12\" class=\"data row10 col12\" >-0.011587</td>\n",
              "                        <td id=\"T_452087e6_8e2e_11eb_abfb_0242ac1c0002row10_col13\" class=\"data row10 col13\" >-0.029608</td>\n",
              "                        <td id=\"T_452087e6_8e2e_11eb_abfb_0242ac1c0002row10_col14\" class=\"data row10 col14\" >0.084617</td>\n",
              "                        <td id=\"T_452087e6_8e2e_11eb_abfb_0242ac1c0002row10_col15\" class=\"data row10 col15\" >0.039003</td>\n",
              "                        <td id=\"T_452087e6_8e2e_11eb_abfb_0242ac1c0002row10_col16\" class=\"data row10 col16\" >-0.035247</td>\n",
              "                        <td id=\"T_452087e6_8e2e_11eb_abfb_0242ac1c0002row10_col17\" class=\"data row10 col17\" >0.008723</td>\n",
              "                        <td id=\"T_452087e6_8e2e_11eb_abfb_0242ac1c0002row10_col18\" class=\"data row10 col18\" >0.061252</td>\n",
              "                        <td id=\"T_452087e6_8e2e_11eb_abfb_0242ac1c0002row10_col19\" class=\"data row10 col19\" >0.029257</td>\n",
              "                        <td id=\"T_452087e6_8e2e_11eb_abfb_0242ac1c0002row10_col20\" class=\"data row10 col20\" >0.005452</td>\n",
              "                        <td id=\"T_452087e6_8e2e_11eb_abfb_0242ac1c0002row10_col21\" class=\"data row10 col21\" >0.035145</td>\n",
              "                        <td id=\"T_452087e6_8e2e_11eb_abfb_0242ac1c0002row10_col22\" class=\"data row10 col22\" >0.030603</td>\n",
              "            </tr>\n",
              "            <tr>\n",
              "                        <th id=\"T_452087e6_8e2e_11eb_abfb_0242ac1c0002level0_row11\" class=\"row_heading level0 row11\" >Gps</th>\n",
              "                        <td id=\"T_452087e6_8e2e_11eb_abfb_0242ac1c0002row11_col0\" class=\"data row11 col0\" >0.074385</td>\n",
              "                        <td id=\"T_452087e6_8e2e_11eb_abfb_0242ac1c0002row11_col1\" class=\"data row11 col1\" >0.016642</td>\n",
              "                        <td id=\"T_452087e6_8e2e_11eb_abfb_0242ac1c0002row11_col2\" class=\"data row11 col2\" >0.209348</td>\n",
              "                        <td id=\"T_452087e6_8e2e_11eb_abfb_0242ac1c0002row11_col3\" class=\"data row11 col3\" >0.064787</td>\n",
              "                        <td id=\"T_452087e6_8e2e_11eb_abfb_0242ac1c0002row11_col4\" class=\"data row11 col4\" >0.047852</td>\n",
              "                        <td id=\"T_452087e6_8e2e_11eb_abfb_0242ac1c0002row11_col5\" class=\"data row11 col5\" >-0.175338</td>\n",
              "                        <td id=\"T_452087e6_8e2e_11eb_abfb_0242ac1c0002row11_col6\" class=\"data row11 col6\" >-0.177670</td>\n",
              "                        <td id=\"T_452087e6_8e2e_11eb_abfb_0242ac1c0002row11_col7\" class=\"data row11 col7\" >0.152627</td>\n",
              "                        <td id=\"T_452087e6_8e2e_11eb_abfb_0242ac1c0002row11_col8\" class=\"data row11 col8\" >-0.171951</td>\n",
              "                        <td id=\"T_452087e6_8e2e_11eb_abfb_0242ac1c0002row11_col9\" class=\"data row11 col9\" >0.044022</td>\n",
              "                        <td id=\"T_452087e6_8e2e_11eb_abfb_0242ac1c0002row11_col10\" class=\"data row11 col10\" >0.186136</td>\n",
              "                        <td id=\"T_452087e6_8e2e_11eb_abfb_0242ac1c0002row11_col11\" class=\"data row11 col11\" >1.000000</td>\n",
              "                        <td id=\"T_452087e6_8e2e_11eb_abfb_0242ac1c0002row11_col12\" class=\"data row11 col12\" >0.172234</td>\n",
              "                        <td id=\"T_452087e6_8e2e_11eb_abfb_0242ac1c0002row11_col13\" class=\"data row11 col13\" >0.000222</td>\n",
              "                        <td id=\"T_452087e6_8e2e_11eb_abfb_0242ac1c0002row11_col14\" class=\"data row11 col14\" >0.304740</td>\n",
              "                        <td id=\"T_452087e6_8e2e_11eb_abfb_0242ac1c0002row11_col15\" class=\"data row11 col15\" >0.210752</td>\n",
              "                        <td id=\"T_452087e6_8e2e_11eb_abfb_0242ac1c0002row11_col16\" class=\"data row11 col16\" >-0.013854</td>\n",
              "                        <td id=\"T_452087e6_8e2e_11eb_abfb_0242ac1c0002row11_col17\" class=\"data row11 col17\" >-0.152711</td>\n",
              "                        <td id=\"T_452087e6_8e2e_11eb_abfb_0242ac1c0002row11_col18\" class=\"data row11 col18\" >-0.010232</td>\n",
              "                        <td id=\"T_452087e6_8e2e_11eb_abfb_0242ac1c0002row11_col19\" class=\"data row11 col19\" >0.134483</td>\n",
              "                        <td id=\"T_452087e6_8e2e_11eb_abfb_0242ac1c0002row11_col20\" class=\"data row11 col20\" >0.016557</td>\n",
              "                        <td id=\"T_452087e6_8e2e_11eb_abfb_0242ac1c0002row11_col21\" class=\"data row11 col21\" >0.103168</td>\n",
              "                        <td id=\"T_452087e6_8e2e_11eb_abfb_0242ac1c0002row11_col22\" class=\"data row11 col22\" >0.228008</td>\n",
              "            </tr>\n",
              "            <tr>\n",
              "                        <th id=\"T_452087e6_8e2e_11eb_abfb_0242ac1c0002level0_row12\" class=\"row_heading level0 row12\" >Battery power (in mah)</th>\n",
              "                        <td id=\"T_452087e6_8e2e_11eb_abfb_0242ac1c0002row12_col0\" class=\"data row12 col0\" >0.096260</td>\n",
              "                        <td id=\"T_452087e6_8e2e_11eb_abfb_0242ac1c0002row12_col1\" class=\"data row12 col1\" >0.264049</td>\n",
              "                        <td id=\"T_452087e6_8e2e_11eb_abfb_0242ac1c0002row12_col2\" class=\"data row12 col2\" >0.028322</td>\n",
              "                        <td id=\"T_452087e6_8e2e_11eb_abfb_0242ac1c0002row12_col3\" class=\"data row12 col3\" >0.158069</td>\n",
              "                        <td id=\"T_452087e6_8e2e_11eb_abfb_0242ac1c0002row12_col4\" class=\"data row12 col4\" >0.001540</td>\n",
              "                        <td id=\"T_452087e6_8e2e_11eb_abfb_0242ac1c0002row12_col5\" class=\"data row12 col5\" >-0.466427</td>\n",
              "                        <td id=\"T_452087e6_8e2e_11eb_abfb_0242ac1c0002row12_col6\" class=\"data row12 col6\" >-0.260937</td>\n",
              "                        <td id=\"T_452087e6_8e2e_11eb_abfb_0242ac1c0002row12_col7\" class=\"data row12 col7\" >0.037892</td>\n",
              "                        <td id=\"T_452087e6_8e2e_11eb_abfb_0242ac1c0002row12_col8\" class=\"data row12 col8\" >-0.299323</td>\n",
              "                        <td id=\"T_452087e6_8e2e_11eb_abfb_0242ac1c0002row12_col9\" class=\"data row12 col9\" >0.472742</td>\n",
              "                        <td id=\"T_452087e6_8e2e_11eb_abfb_0242ac1c0002row12_col10\" class=\"data row12 col10\" >-0.011587</td>\n",
              "                        <td id=\"T_452087e6_8e2e_11eb_abfb_0242ac1c0002row12_col11\" class=\"data row12 col11\" >0.172234</td>\n",
              "                        <td id=\"T_452087e6_8e2e_11eb_abfb_0242ac1c0002row12_col12\" class=\"data row12 col12\" >1.000000</td>\n",
              "                        <td id=\"T_452087e6_8e2e_11eb_abfb_0242ac1c0002row12_col13\" class=\"data row12 col13\" >0.322298</td>\n",
              "                        <td id=\"T_452087e6_8e2e_11eb_abfb_0242ac1c0002row12_col14\" class=\"data row12 col14\" >0.104708</td>\n",
              "                        <td id=\"T_452087e6_8e2e_11eb_abfb_0242ac1c0002row12_col15\" class=\"data row12 col15\" >0.320952</td>\n",
              "                        <td id=\"T_452087e6_8e2e_11eb_abfb_0242ac1c0002row12_col16\" class=\"data row12 col16\" >0.126814</td>\n",
              "                        <td id=\"T_452087e6_8e2e_11eb_abfb_0242ac1c0002row12_col17\" class=\"data row12 col17\" >-0.264560</td>\n",
              "                        <td id=\"T_452087e6_8e2e_11eb_abfb_0242ac1c0002row12_col18\" class=\"data row12 col18\" >-0.107208</td>\n",
              "                        <td id=\"T_452087e6_8e2e_11eb_abfb_0242ac1c0002row12_col19\" class=\"data row12 col19\" >0.387615</td>\n",
              "                        <td id=\"T_452087e6_8e2e_11eb_abfb_0242ac1c0002row12_col20\" class=\"data row12 col20\" >0.199151</td>\n",
              "                        <td id=\"T_452087e6_8e2e_11eb_abfb_0242ac1c0002row12_col21\" class=\"data row12 col21\" >0.004753</td>\n",
              "                        <td id=\"T_452087e6_8e2e_11eb_abfb_0242ac1c0002row12_col22\" class=\"data row12 col22\" >0.399253</td>\n",
              "            </tr>\n",
              "            <tr>\n",
              "                        <th id=\"T_452087e6_8e2e_11eb_abfb_0242ac1c0002level0_row13\" class=\"row_heading level0 row13\" >Item weight (in gms)</th>\n",
              "                        <td id=\"T_452087e6_8e2e_11eb_abfb_0242ac1c0002row13_col0\" class=\"data row13 col0\" >0.077022</td>\n",
              "                        <td id=\"T_452087e6_8e2e_11eb_abfb_0242ac1c0002row13_col1\" class=\"data row13 col1\" >0.065594</td>\n",
              "                        <td id=\"T_452087e6_8e2e_11eb_abfb_0242ac1c0002row13_col2\" class=\"data row13 col2\" >0.022934</td>\n",
              "                        <td id=\"T_452087e6_8e2e_11eb_abfb_0242ac1c0002row13_col3\" class=\"data row13 col3\" >0.047922</td>\n",
              "                        <td id=\"T_452087e6_8e2e_11eb_abfb_0242ac1c0002row13_col4\" class=\"data row13 col4\" >0.126788</td>\n",
              "                        <td id=\"T_452087e6_8e2e_11eb_abfb_0242ac1c0002row13_col5\" class=\"data row13 col5\" >-0.135876</td>\n",
              "                        <td id=\"T_452087e6_8e2e_11eb_abfb_0242ac1c0002row13_col6\" class=\"data row13 col6\" >-0.007863</td>\n",
              "                        <td id=\"T_452087e6_8e2e_11eb_abfb_0242ac1c0002row13_col7\" class=\"data row13 col7\" >-0.077737</td>\n",
              "                        <td id=\"T_452087e6_8e2e_11eb_abfb_0242ac1c0002row13_col8\" class=\"data row13 col8\" >0.030015</td>\n",
              "                        <td id=\"T_452087e6_8e2e_11eb_abfb_0242ac1c0002row13_col9\" class=\"data row13 col9\" >0.071219</td>\n",
              "                        <td id=\"T_452087e6_8e2e_11eb_abfb_0242ac1c0002row13_col10\" class=\"data row13 col10\" >-0.029608</td>\n",
              "                        <td id=\"T_452087e6_8e2e_11eb_abfb_0242ac1c0002row13_col11\" class=\"data row13 col11\" >0.000222</td>\n",
              "                        <td id=\"T_452087e6_8e2e_11eb_abfb_0242ac1c0002row13_col12\" class=\"data row13 col12\" >0.322298</td>\n",
              "                        <td id=\"T_452087e6_8e2e_11eb_abfb_0242ac1c0002row13_col13\" class=\"data row13 col13\" >1.000000</td>\n",
              "                        <td id=\"T_452087e6_8e2e_11eb_abfb_0242ac1c0002row13_col14\" class=\"data row13 col14\" >0.009612</td>\n",
              "                        <td id=\"T_452087e6_8e2e_11eb_abfb_0242ac1c0002row13_col15\" class=\"data row13 col15\" >-0.053238</td>\n",
              "                        <td id=\"T_452087e6_8e2e_11eb_abfb_0242ac1c0002row13_col16\" class=\"data row13 col16\" >0.069326</td>\n",
              "                        <td id=\"T_452087e6_8e2e_11eb_abfb_0242ac1c0002row13_col17\" class=\"data row13 col17\" >0.017826</td>\n",
              "                        <td id=\"T_452087e6_8e2e_11eb_abfb_0242ac1c0002row13_col18\" class=\"data row13 col18\" >-0.221973</td>\n",
              "                        <td id=\"T_452087e6_8e2e_11eb_abfb_0242ac1c0002row13_col19\" class=\"data row13 col19\" >0.103061</td>\n",
              "                        <td id=\"T_452087e6_8e2e_11eb_abfb_0242ac1c0002row13_col20\" class=\"data row13 col20\" >0.141229</td>\n",
              "                        <td id=\"T_452087e6_8e2e_11eb_abfb_0242ac1c0002row13_col21\" class=\"data row13 col21\" >-0.076295</td>\n",
              "                        <td id=\"T_452087e6_8e2e_11eb_abfb_0242ac1c0002row13_col22\" class=\"data row13 col22\" >0.131485</td>\n",
              "            </tr>\n",
              "            <tr>\n",
              "                        <th id=\"T_452087e6_8e2e_11eb_abfb_0242ac1c0002level0_row14\" class=\"row_heading level0 row14\" >Warranty details</th>\n",
              "                        <td id=\"T_452087e6_8e2e_11eb_abfb_0242ac1c0002row14_col0\" class=\"data row14 col0\" >0.015066</td>\n",
              "                        <td id=\"T_452087e6_8e2e_11eb_abfb_0242ac1c0002row14_col1\" class=\"data row14 col1\" >-0.020240</td>\n",
              "                        <td id=\"T_452087e6_8e2e_11eb_abfb_0242ac1c0002row14_col2\" class=\"data row14 col2\" >0.077730</td>\n",
              "                        <td id=\"T_452087e6_8e2e_11eb_abfb_0242ac1c0002row14_col3\" class=\"data row14 col3\" >0.080143</td>\n",
              "                        <td id=\"T_452087e6_8e2e_11eb_abfb_0242ac1c0002row14_col4\" class=\"data row14 col4\" >0.025640</td>\n",
              "                        <td id=\"T_452087e6_8e2e_11eb_abfb_0242ac1c0002row14_col5\" class=\"data row14 col5\" >0.017647</td>\n",
              "                        <td id=\"T_452087e6_8e2e_11eb_abfb_0242ac1c0002row14_col6\" class=\"data row14 col6\" >-0.076744</td>\n",
              "                        <td id=\"T_452087e6_8e2e_11eb_abfb_0242ac1c0002row14_col7\" class=\"data row14 col7\" >0.203225</td>\n",
              "                        <td id=\"T_452087e6_8e2e_11eb_abfb_0242ac1c0002row14_col8\" class=\"data row14 col8\" >-0.168577</td>\n",
              "                        <td id=\"T_452087e6_8e2e_11eb_abfb_0242ac1c0002row14_col9\" class=\"data row14 col9\" >-0.106138</td>\n",
              "                        <td id=\"T_452087e6_8e2e_11eb_abfb_0242ac1c0002row14_col10\" class=\"data row14 col10\" >0.084617</td>\n",
              "                        <td id=\"T_452087e6_8e2e_11eb_abfb_0242ac1c0002row14_col11\" class=\"data row14 col11\" >0.304740</td>\n",
              "                        <td id=\"T_452087e6_8e2e_11eb_abfb_0242ac1c0002row14_col12\" class=\"data row14 col12\" >0.104708</td>\n",
              "                        <td id=\"T_452087e6_8e2e_11eb_abfb_0242ac1c0002row14_col13\" class=\"data row14 col13\" >0.009612</td>\n",
              "                        <td id=\"T_452087e6_8e2e_11eb_abfb_0242ac1c0002row14_col14\" class=\"data row14 col14\" >1.000000</td>\n",
              "                        <td id=\"T_452087e6_8e2e_11eb_abfb_0242ac1c0002row14_col15\" class=\"data row14 col15\" >0.141509</td>\n",
              "                        <td id=\"T_452087e6_8e2e_11eb_abfb_0242ac1c0002row14_col16\" class=\"data row14 col16\" >0.091577</td>\n",
              "                        <td id=\"T_452087e6_8e2e_11eb_abfb_0242ac1c0002row14_col17\" class=\"data row14 col17\" >-0.275350</td>\n",
              "                        <td id=\"T_452087e6_8e2e_11eb_abfb_0242ac1c0002row14_col18\" class=\"data row14 col18\" >-0.045933</td>\n",
              "                        <td id=\"T_452087e6_8e2e_11eb_abfb_0242ac1c0002row14_col19\" class=\"data row14 col19\" >0.087834</td>\n",
              "                        <td id=\"T_452087e6_8e2e_11eb_abfb_0242ac1c0002row14_col20\" class=\"data row14 col20\" >0.079476</td>\n",
              "                        <td id=\"T_452087e6_8e2e_11eb_abfb_0242ac1c0002row14_col21\" class=\"data row14 col21\" >0.044796</td>\n",
              "                        <td id=\"T_452087e6_8e2e_11eb_abfb_0242ac1c0002row14_col22\" class=\"data row14 col22\" >0.254551</td>\n",
              "            </tr>\n",
              "            <tr>\n",
              "                        <th id=\"T_452087e6_8e2e_11eb_abfb_0242ac1c0002level0_row15\" class=\"row_heading level0 row15\" >Rating</th>\n",
              "                        <td id=\"T_452087e6_8e2e_11eb_abfb_0242ac1c0002row15_col0\" class=\"data row15 col0\" >0.010772</td>\n",
              "                        <td id=\"T_452087e6_8e2e_11eb_abfb_0242ac1c0002row15_col1\" class=\"data row15 col1\" >0.192784</td>\n",
              "                        <td id=\"T_452087e6_8e2e_11eb_abfb_0242ac1c0002row15_col2\" class=\"data row15 col2\" >0.076785</td>\n",
              "                        <td id=\"T_452087e6_8e2e_11eb_abfb_0242ac1c0002row15_col3\" class=\"data row15 col3\" >0.126098</td>\n",
              "                        <td id=\"T_452087e6_8e2e_11eb_abfb_0242ac1c0002row15_col4\" class=\"data row15 col4\" >0.028080</td>\n",
              "                        <td id=\"T_452087e6_8e2e_11eb_abfb_0242ac1c0002row15_col5\" class=\"data row15 col5\" >-0.244663</td>\n",
              "                        <td id=\"T_452087e6_8e2e_11eb_abfb_0242ac1c0002row15_col6\" class=\"data row15 col6\" >-0.204739</td>\n",
              "                        <td id=\"T_452087e6_8e2e_11eb_abfb_0242ac1c0002row15_col7\" class=\"data row15 col7\" >0.174332</td>\n",
              "                        <td id=\"T_452087e6_8e2e_11eb_abfb_0242ac1c0002row15_col8\" class=\"data row15 col8\" >-0.231989</td>\n",
              "                        <td id=\"T_452087e6_8e2e_11eb_abfb_0242ac1c0002row15_col9\" class=\"data row15 col9\" >0.297705</td>\n",
              "                        <td id=\"T_452087e6_8e2e_11eb_abfb_0242ac1c0002row15_col10\" class=\"data row15 col10\" >0.039003</td>\n",
              "                        <td id=\"T_452087e6_8e2e_11eb_abfb_0242ac1c0002row15_col11\" class=\"data row15 col11\" >0.210752</td>\n",
              "                        <td id=\"T_452087e6_8e2e_11eb_abfb_0242ac1c0002row15_col12\" class=\"data row15 col12\" >0.320952</td>\n",
              "                        <td id=\"T_452087e6_8e2e_11eb_abfb_0242ac1c0002row15_col13\" class=\"data row15 col13\" >-0.053238</td>\n",
              "                        <td id=\"T_452087e6_8e2e_11eb_abfb_0242ac1c0002row15_col14\" class=\"data row15 col14\" >0.141509</td>\n",
              "                        <td id=\"T_452087e6_8e2e_11eb_abfb_0242ac1c0002row15_col15\" class=\"data row15 col15\" >1.000000</td>\n",
              "                        <td id=\"T_452087e6_8e2e_11eb_abfb_0242ac1c0002row15_col16\" class=\"data row15 col16\" >-0.044594</td>\n",
              "                        <td id=\"T_452087e6_8e2e_11eb_abfb_0242ac1c0002row15_col17\" class=\"data row15 col17\" >-0.274385</td>\n",
              "                        <td id=\"T_452087e6_8e2e_11eb_abfb_0242ac1c0002row15_col18\" class=\"data row15 col18\" >0.294454</td>\n",
              "                        <td id=\"T_452087e6_8e2e_11eb_abfb_0242ac1c0002row15_col19\" class=\"data row15 col19\" >0.246095</td>\n",
              "                        <td id=\"T_452087e6_8e2e_11eb_abfb_0242ac1c0002row15_col20\" class=\"data row15 col20\" >-0.015730</td>\n",
              "                        <td id=\"T_452087e6_8e2e_11eb_abfb_0242ac1c0002row15_col21\" class=\"data row15 col21\" >0.334642</td>\n",
              "                        <td id=\"T_452087e6_8e2e_11eb_abfb_0242ac1c0002row15_col22\" class=\"data row15 col22\" >0.303924</td>\n",
              "            </tr>\n",
              "            <tr>\n",
              "                        <th id=\"T_452087e6_8e2e_11eb_abfb_0242ac1c0002level0_row16\" class=\"row_heading level0 row16\" >Battery type</th>\n",
              "                        <td id=\"T_452087e6_8e2e_11eb_abfb_0242ac1c0002row16_col0\" class=\"data row16 col0\" >0.103074</td>\n",
              "                        <td id=\"T_452087e6_8e2e_11eb_abfb_0242ac1c0002row16_col1\" class=\"data row16 col1\" >-0.039404</td>\n",
              "                        <td id=\"T_452087e6_8e2e_11eb_abfb_0242ac1c0002row16_col2\" class=\"data row16 col2\" >0.134980</td>\n",
              "                        <td id=\"T_452087e6_8e2e_11eb_abfb_0242ac1c0002row16_col3\" class=\"data row16 col3\" >0.011371</td>\n",
              "                        <td id=\"T_452087e6_8e2e_11eb_abfb_0242ac1c0002row16_col4\" class=\"data row16 col4\" >-0.024241</td>\n",
              "                        <td id=\"T_452087e6_8e2e_11eb_abfb_0242ac1c0002row16_col5\" class=\"data row16 col5\" >-0.024420</td>\n",
              "                        <td id=\"T_452087e6_8e2e_11eb_abfb_0242ac1c0002row16_col6\" class=\"data row16 col6\" >0.154208</td>\n",
              "                        <td id=\"T_452087e6_8e2e_11eb_abfb_0242ac1c0002row16_col7\" class=\"data row16 col7\" >0.013051</td>\n",
              "                        <td id=\"T_452087e6_8e2e_11eb_abfb_0242ac1c0002row16_col8\" class=\"data row16 col8\" >0.031538</td>\n",
              "                        <td id=\"T_452087e6_8e2e_11eb_abfb_0242ac1c0002row16_col9\" class=\"data row16 col9\" >-0.137450</td>\n",
              "                        <td id=\"T_452087e6_8e2e_11eb_abfb_0242ac1c0002row16_col10\" class=\"data row16 col10\" >-0.035247</td>\n",
              "                        <td id=\"T_452087e6_8e2e_11eb_abfb_0242ac1c0002row16_col11\" class=\"data row16 col11\" >-0.013854</td>\n",
              "                        <td id=\"T_452087e6_8e2e_11eb_abfb_0242ac1c0002row16_col12\" class=\"data row16 col12\" >0.126814</td>\n",
              "                        <td id=\"T_452087e6_8e2e_11eb_abfb_0242ac1c0002row16_col13\" class=\"data row16 col13\" >0.069326</td>\n",
              "                        <td id=\"T_452087e6_8e2e_11eb_abfb_0242ac1c0002row16_col14\" class=\"data row16 col14\" >0.091577</td>\n",
              "                        <td id=\"T_452087e6_8e2e_11eb_abfb_0242ac1c0002row16_col15\" class=\"data row16 col15\" >-0.044594</td>\n",
              "                        <td id=\"T_452087e6_8e2e_11eb_abfb_0242ac1c0002row16_col16\" class=\"data row16 col16\" >1.000000</td>\n",
              "                        <td id=\"T_452087e6_8e2e_11eb_abfb_0242ac1c0002row16_col17\" class=\"data row16 col17\" >-0.016136</td>\n",
              "                        <td id=\"T_452087e6_8e2e_11eb_abfb_0242ac1c0002row16_col18\" class=\"data row16 col18\" >-0.315329</td>\n",
              "                        <td id=\"T_452087e6_8e2e_11eb_abfb_0242ac1c0002row16_col19\" class=\"data row16 col19\" >0.072495</td>\n",
              "                        <td id=\"T_452087e6_8e2e_11eb_abfb_0242ac1c0002row16_col20\" class=\"data row16 col20\" >0.078027</td>\n",
              "                        <td id=\"T_452087e6_8e2e_11eb_abfb_0242ac1c0002row16_col21\" class=\"data row16 col21\" >-0.214969</td>\n",
              "                        <td id=\"T_452087e6_8e2e_11eb_abfb_0242ac1c0002row16_col22\" class=\"data row16 col22\" >0.010458</td>\n",
              "            </tr>\n",
              "            <tr>\n",
              "                        <th id=\"T_452087e6_8e2e_11eb_abfb_0242ac1c0002level0_row17\" class=\"row_heading level0 row17\" >Other camera features</th>\n",
              "                        <td id=\"T_452087e6_8e2e_11eb_abfb_0242ac1c0002row17_col0\" class=\"data row17 col0\" >-0.092091</td>\n",
              "                        <td id=\"T_452087e6_8e2e_11eb_abfb_0242ac1c0002row17_col1\" class=\"data row17 col1\" >-0.032919</td>\n",
              "                        <td id=\"T_452087e6_8e2e_11eb_abfb_0242ac1c0002row17_col2\" class=\"data row17 col2\" >-0.089967</td>\n",
              "                        <td id=\"T_452087e6_8e2e_11eb_abfb_0242ac1c0002row17_col3\" class=\"data row17 col3\" >-0.153407</td>\n",
              "                        <td id=\"T_452087e6_8e2e_11eb_abfb_0242ac1c0002row17_col4\" class=\"data row17 col4\" >0.066324</td>\n",
              "                        <td id=\"T_452087e6_8e2e_11eb_abfb_0242ac1c0002row17_col5\" class=\"data row17 col5\" >0.127802</td>\n",
              "                        <td id=\"T_452087e6_8e2e_11eb_abfb_0242ac1c0002row17_col6\" class=\"data row17 col6\" >0.407734</td>\n",
              "                        <td id=\"T_452087e6_8e2e_11eb_abfb_0242ac1c0002row17_col7\" class=\"data row17 col7\" >-0.251442</td>\n",
              "                        <td id=\"T_452087e6_8e2e_11eb_abfb_0242ac1c0002row17_col8\" class=\"data row17 col8\" >0.280920</td>\n",
              "                        <td id=\"T_452087e6_8e2e_11eb_abfb_0242ac1c0002row17_col9\" class=\"data row17 col9\" >-0.109965</td>\n",
              "                        <td id=\"T_452087e6_8e2e_11eb_abfb_0242ac1c0002row17_col10\" class=\"data row17 col10\" >0.008723</td>\n",
              "                        <td id=\"T_452087e6_8e2e_11eb_abfb_0242ac1c0002row17_col11\" class=\"data row17 col11\" >-0.152711</td>\n",
              "                        <td id=\"T_452087e6_8e2e_11eb_abfb_0242ac1c0002row17_col12\" class=\"data row17 col12\" >-0.264560</td>\n",
              "                        <td id=\"T_452087e6_8e2e_11eb_abfb_0242ac1c0002row17_col13\" class=\"data row17 col13\" >0.017826</td>\n",
              "                        <td id=\"T_452087e6_8e2e_11eb_abfb_0242ac1c0002row17_col14\" class=\"data row17 col14\" >-0.275350</td>\n",
              "                        <td id=\"T_452087e6_8e2e_11eb_abfb_0242ac1c0002row17_col15\" class=\"data row17 col15\" >-0.274385</td>\n",
              "                        <td id=\"T_452087e6_8e2e_11eb_abfb_0242ac1c0002row17_col16\" class=\"data row17 col16\" >-0.016136</td>\n",
              "                        <td id=\"T_452087e6_8e2e_11eb_abfb_0242ac1c0002row17_col17\" class=\"data row17 col17\" >1.000000</td>\n",
              "                        <td id=\"T_452087e6_8e2e_11eb_abfb_0242ac1c0002row17_col18\" class=\"data row17 col18\" >-0.189302</td>\n",
              "                        <td id=\"T_452087e6_8e2e_11eb_abfb_0242ac1c0002row17_col19\" class=\"data row17 col19\" >-0.058007</td>\n",
              "                        <td id=\"T_452087e6_8e2e_11eb_abfb_0242ac1c0002row17_col20\" class=\"data row17 col20\" >-0.050733</td>\n",
              "                        <td id=\"T_452087e6_8e2e_11eb_abfb_0242ac1c0002row17_col21\" class=\"data row17 col21\" >-0.221456</td>\n",
              "                        <td id=\"T_452087e6_8e2e_11eb_abfb_0242ac1c0002row17_col22\" class=\"data row17 col22\" >-0.330495</td>\n",
              "            </tr>\n",
              "            <tr>\n",
              "                        <th id=\"T_452087e6_8e2e_11eb_abfb_0242ac1c0002level0_row18\" class=\"row_heading level0 row18\" >OEM</th>\n",
              "                        <td id=\"T_452087e6_8e2e_11eb_abfb_0242ac1c0002row18_col0\" class=\"data row18 col0\" >-0.095693</td>\n",
              "                        <td id=\"T_452087e6_8e2e_11eb_abfb_0242ac1c0002row18_col1\" class=\"data row18 col1\" >0.044619</td>\n",
              "                        <td id=\"T_452087e6_8e2e_11eb_abfb_0242ac1c0002row18_col2\" class=\"data row18 col2\" >-0.172580</td>\n",
              "                        <td id=\"T_452087e6_8e2e_11eb_abfb_0242ac1c0002row18_col3\" class=\"data row18 col3\" >0.046336</td>\n",
              "                        <td id=\"T_452087e6_8e2e_11eb_abfb_0242ac1c0002row18_col4\" class=\"data row18 col4\" >-0.055750</td>\n",
              "                        <td id=\"T_452087e6_8e2e_11eb_abfb_0242ac1c0002row18_col5\" class=\"data row18 col5\" >-0.198214</td>\n",
              "                        <td id=\"T_452087e6_8e2e_11eb_abfb_0242ac1c0002row18_col6\" class=\"data row18 col6\" >-0.331925</td>\n",
              "                        <td id=\"T_452087e6_8e2e_11eb_abfb_0242ac1c0002row18_col7\" class=\"data row18 col7\" >0.047733</td>\n",
              "                        <td id=\"T_452087e6_8e2e_11eb_abfb_0242ac1c0002row18_col8\" class=\"data row18 col8\" >-0.070257</td>\n",
              "                        <td id=\"T_452087e6_8e2e_11eb_abfb_0242ac1c0002row18_col9\" class=\"data row18 col9\" >0.368506</td>\n",
              "                        <td id=\"T_452087e6_8e2e_11eb_abfb_0242ac1c0002row18_col10\" class=\"data row18 col10\" >0.061252</td>\n",
              "                        <td id=\"T_452087e6_8e2e_11eb_abfb_0242ac1c0002row18_col11\" class=\"data row18 col11\" >-0.010232</td>\n",
              "                        <td id=\"T_452087e6_8e2e_11eb_abfb_0242ac1c0002row18_col12\" class=\"data row18 col12\" >-0.107208</td>\n",
              "                        <td id=\"T_452087e6_8e2e_11eb_abfb_0242ac1c0002row18_col13\" class=\"data row18 col13\" >-0.221973</td>\n",
              "                        <td id=\"T_452087e6_8e2e_11eb_abfb_0242ac1c0002row18_col14\" class=\"data row18 col14\" >-0.045933</td>\n",
              "                        <td id=\"T_452087e6_8e2e_11eb_abfb_0242ac1c0002row18_col15\" class=\"data row18 col15\" >0.294454</td>\n",
              "                        <td id=\"T_452087e6_8e2e_11eb_abfb_0242ac1c0002row18_col16\" class=\"data row18 col16\" >-0.315329</td>\n",
              "                        <td id=\"T_452087e6_8e2e_11eb_abfb_0242ac1c0002row18_col17\" class=\"data row18 col17\" >-0.189302</td>\n",
              "                        <td id=\"T_452087e6_8e2e_11eb_abfb_0242ac1c0002row18_col18\" class=\"data row18 col18\" >1.000000</td>\n",
              "                        <td id=\"T_452087e6_8e2e_11eb_abfb_0242ac1c0002row18_col19\" class=\"data row18 col19\" >-0.021147</td>\n",
              "                        <td id=\"T_452087e6_8e2e_11eb_abfb_0242ac1c0002row18_col20\" class=\"data row18 col20\" >-0.139880</td>\n",
              "                        <td id=\"T_452087e6_8e2e_11eb_abfb_0242ac1c0002row18_col21\" class=\"data row18 col21\" >0.660615</td>\n",
              "                        <td id=\"T_452087e6_8e2e_11eb_abfb_0242ac1c0002row18_col22\" class=\"data row18 col22\" >-0.054885</td>\n",
              "            </tr>\n",
              "            <tr>\n",
              "                        <th id=\"T_452087e6_8e2e_11eb_abfb_0242ac1c0002level0_row19\" class=\"row_heading level0 row19\" >Inbuilt storage (in GB)</th>\n",
              "                        <td id=\"T_452087e6_8e2e_11eb_abfb_0242ac1c0002row19_col0\" class=\"data row19 col0\" >0.110177</td>\n",
              "                        <td id=\"T_452087e6_8e2e_11eb_abfb_0242ac1c0002row19_col1\" class=\"data row19 col1\" >0.157598</td>\n",
              "                        <td id=\"T_452087e6_8e2e_11eb_abfb_0242ac1c0002row19_col2\" class=\"data row19 col2\" >0.043465</td>\n",
              "                        <td id=\"T_452087e6_8e2e_11eb_abfb_0242ac1c0002row19_col3\" class=\"data row19 col3\" >0.080572</td>\n",
              "                        <td id=\"T_452087e6_8e2e_11eb_abfb_0242ac1c0002row19_col4\" class=\"data row19 col4\" >-0.017283</td>\n",
              "                        <td id=\"T_452087e6_8e2e_11eb_abfb_0242ac1c0002row19_col5\" class=\"data row19 col5\" >-0.201701</td>\n",
              "                        <td id=\"T_452087e6_8e2e_11eb_abfb_0242ac1c0002row19_col6\" class=\"data row19 col6\" >-0.052833</td>\n",
              "                        <td id=\"T_452087e6_8e2e_11eb_abfb_0242ac1c0002row19_col7\" class=\"data row19 col7\" >0.125210</td>\n",
              "                        <td id=\"T_452087e6_8e2e_11eb_abfb_0242ac1c0002row19_col8\" class=\"data row19 col8\" >-0.136364</td>\n",
              "                        <td id=\"T_452087e6_8e2e_11eb_abfb_0242ac1c0002row19_col9\" class=\"data row19 col9\" >0.302308</td>\n",
              "                        <td id=\"T_452087e6_8e2e_11eb_abfb_0242ac1c0002row19_col10\" class=\"data row19 col10\" >0.029257</td>\n",
              "                        <td id=\"T_452087e6_8e2e_11eb_abfb_0242ac1c0002row19_col11\" class=\"data row19 col11\" >0.134483</td>\n",
              "                        <td id=\"T_452087e6_8e2e_11eb_abfb_0242ac1c0002row19_col12\" class=\"data row19 col12\" >0.387615</td>\n",
              "                        <td id=\"T_452087e6_8e2e_11eb_abfb_0242ac1c0002row19_col13\" class=\"data row19 col13\" >0.103061</td>\n",
              "                        <td id=\"T_452087e6_8e2e_11eb_abfb_0242ac1c0002row19_col14\" class=\"data row19 col14\" >0.087834</td>\n",
              "                        <td id=\"T_452087e6_8e2e_11eb_abfb_0242ac1c0002row19_col15\" class=\"data row19 col15\" >0.246095</td>\n",
              "                        <td id=\"T_452087e6_8e2e_11eb_abfb_0242ac1c0002row19_col16\" class=\"data row19 col16\" >0.072495</td>\n",
              "                        <td id=\"T_452087e6_8e2e_11eb_abfb_0242ac1c0002row19_col17\" class=\"data row19 col17\" >-0.058007</td>\n",
              "                        <td id=\"T_452087e6_8e2e_11eb_abfb_0242ac1c0002row19_col18\" class=\"data row19 col18\" >-0.021147</td>\n",
              "                        <td id=\"T_452087e6_8e2e_11eb_abfb_0242ac1c0002row19_col19\" class=\"data row19 col19\" >1.000000</td>\n",
              "                        <td id=\"T_452087e6_8e2e_11eb_abfb_0242ac1c0002row19_col20\" class=\"data row19 col20\" >0.203123</td>\n",
              "                        <td id=\"T_452087e6_8e2e_11eb_abfb_0242ac1c0002row19_col21\" class=\"data row19 col21\" >0.051335</td>\n",
              "                        <td id=\"T_452087e6_8e2e_11eb_abfb_0242ac1c0002row19_col22\" class=\"data row19 col22\" >0.528230</td>\n",
              "            </tr>\n",
              "            <tr>\n",
              "                        <th id=\"T_452087e6_8e2e_11eb_abfb_0242ac1c0002level0_row20\" class=\"row_heading level0 row20\" >RAM (in GB)</th>\n",
              "                        <td id=\"T_452087e6_8e2e_11eb_abfb_0242ac1c0002row20_col0\" class=\"data row20 col0\" >0.034333</td>\n",
              "                        <td id=\"T_452087e6_8e2e_11eb_abfb_0242ac1c0002row20_col1\" class=\"data row20 col1\" >0.055129</td>\n",
              "                        <td id=\"T_452087e6_8e2e_11eb_abfb_0242ac1c0002row20_col2\" class=\"data row20 col2\" >-0.021323</td>\n",
              "                        <td id=\"T_452087e6_8e2e_11eb_abfb_0242ac1c0002row20_col3\" class=\"data row20 col3\" >0.044854</td>\n",
              "                        <td id=\"T_452087e6_8e2e_11eb_abfb_0242ac1c0002row20_col4\" class=\"data row20 col4\" >-0.000299</td>\n",
              "                        <td id=\"T_452087e6_8e2e_11eb_abfb_0242ac1c0002row20_col5\" class=\"data row20 col5\" >-0.145633</td>\n",
              "                        <td id=\"T_452087e6_8e2e_11eb_abfb_0242ac1c0002row20_col6\" class=\"data row20 col6\" >-0.025774</td>\n",
              "                        <td id=\"T_452087e6_8e2e_11eb_abfb_0242ac1c0002row20_col7\" class=\"data row20 col7\" >-0.008308</td>\n",
              "                        <td id=\"T_452087e6_8e2e_11eb_abfb_0242ac1c0002row20_col8\" class=\"data row20 col8\" >-0.020177</td>\n",
              "                        <td id=\"T_452087e6_8e2e_11eb_abfb_0242ac1c0002row20_col9\" class=\"data row20 col9\" >0.095227</td>\n",
              "                        <td id=\"T_452087e6_8e2e_11eb_abfb_0242ac1c0002row20_col10\" class=\"data row20 col10\" >0.005452</td>\n",
              "                        <td id=\"T_452087e6_8e2e_11eb_abfb_0242ac1c0002row20_col11\" class=\"data row20 col11\" >0.016557</td>\n",
              "                        <td id=\"T_452087e6_8e2e_11eb_abfb_0242ac1c0002row20_col12\" class=\"data row20 col12\" >0.199151</td>\n",
              "                        <td id=\"T_452087e6_8e2e_11eb_abfb_0242ac1c0002row20_col13\" class=\"data row20 col13\" >0.141229</td>\n",
              "                        <td id=\"T_452087e6_8e2e_11eb_abfb_0242ac1c0002row20_col14\" class=\"data row20 col14\" >0.079476</td>\n",
              "                        <td id=\"T_452087e6_8e2e_11eb_abfb_0242ac1c0002row20_col15\" class=\"data row20 col15\" >-0.015730</td>\n",
              "                        <td id=\"T_452087e6_8e2e_11eb_abfb_0242ac1c0002row20_col16\" class=\"data row20 col16\" >0.078027</td>\n",
              "                        <td id=\"T_452087e6_8e2e_11eb_abfb_0242ac1c0002row20_col17\" class=\"data row20 col17\" >-0.050733</td>\n",
              "                        <td id=\"T_452087e6_8e2e_11eb_abfb_0242ac1c0002row20_col18\" class=\"data row20 col18\" >-0.139880</td>\n",
              "                        <td id=\"T_452087e6_8e2e_11eb_abfb_0242ac1c0002row20_col19\" class=\"data row20 col19\" >0.203123</td>\n",
              "                        <td id=\"T_452087e6_8e2e_11eb_abfb_0242ac1c0002row20_col20\" class=\"data row20 col20\" >1.000000</td>\n",
              "                        <td id=\"T_452087e6_8e2e_11eb_abfb_0242ac1c0002row20_col21\" class=\"data row20 col21\" >-0.076447</td>\n",
              "                        <td id=\"T_452087e6_8e2e_11eb_abfb_0242ac1c0002row20_col22\" class=\"data row20 col22\" >0.180089</td>\n",
              "            </tr>\n",
              "            <tr>\n",
              "                        <th id=\"T_452087e6_8e2e_11eb_abfb_0242ac1c0002level0_row21\" class=\"row_heading level0 row21\" >sentiments</th>\n",
              "                        <td id=\"T_452087e6_8e2e_11eb_abfb_0242ac1c0002row21_col0\" class=\"data row21 col0\" >-0.057858</td>\n",
              "                        <td id=\"T_452087e6_8e2e_11eb_abfb_0242ac1c0002row21_col1\" class=\"data row21 col1\" >0.125358</td>\n",
              "                        <td id=\"T_452087e6_8e2e_11eb_abfb_0242ac1c0002row21_col2\" class=\"data row21 col2\" >-0.009807</td>\n",
              "                        <td id=\"T_452087e6_8e2e_11eb_abfb_0242ac1c0002row21_col3\" class=\"data row21 col3\" >0.090091</td>\n",
              "                        <td id=\"T_452087e6_8e2e_11eb_abfb_0242ac1c0002row21_col4\" class=\"data row21 col4\" >-0.046935</td>\n",
              "                        <td id=\"T_452087e6_8e2e_11eb_abfb_0242ac1c0002row21_col5\" class=\"data row21 col5\" >-0.170970</td>\n",
              "                        <td id=\"T_452087e6_8e2e_11eb_abfb_0242ac1c0002row21_col6\" class=\"data row21 col6\" >-0.275166</td>\n",
              "                        <td id=\"T_452087e6_8e2e_11eb_abfb_0242ac1c0002row21_col7\" class=\"data row21 col7\" >0.076469</td>\n",
              "                        <td id=\"T_452087e6_8e2e_11eb_abfb_0242ac1c0002row21_col8\" class=\"data row21 col8\" >-0.128748</td>\n",
              "                        <td id=\"T_452087e6_8e2e_11eb_abfb_0242ac1c0002row21_col9\" class=\"data row21 col9\" >0.253066</td>\n",
              "                        <td id=\"T_452087e6_8e2e_11eb_abfb_0242ac1c0002row21_col10\" class=\"data row21 col10\" >0.035145</td>\n",
              "                        <td id=\"T_452087e6_8e2e_11eb_abfb_0242ac1c0002row21_col11\" class=\"data row21 col11\" >0.103168</td>\n",
              "                        <td id=\"T_452087e6_8e2e_11eb_abfb_0242ac1c0002row21_col12\" class=\"data row21 col12\" >0.004753</td>\n",
              "                        <td id=\"T_452087e6_8e2e_11eb_abfb_0242ac1c0002row21_col13\" class=\"data row21 col13\" >-0.076295</td>\n",
              "                        <td id=\"T_452087e6_8e2e_11eb_abfb_0242ac1c0002row21_col14\" class=\"data row21 col14\" >0.044796</td>\n",
              "                        <td id=\"T_452087e6_8e2e_11eb_abfb_0242ac1c0002row21_col15\" class=\"data row21 col15\" >0.334642</td>\n",
              "                        <td id=\"T_452087e6_8e2e_11eb_abfb_0242ac1c0002row21_col16\" class=\"data row21 col16\" >-0.214969</td>\n",
              "                        <td id=\"T_452087e6_8e2e_11eb_abfb_0242ac1c0002row21_col17\" class=\"data row21 col17\" >-0.221456</td>\n",
              "                        <td id=\"T_452087e6_8e2e_11eb_abfb_0242ac1c0002row21_col18\" class=\"data row21 col18\" >0.660615</td>\n",
              "                        <td id=\"T_452087e6_8e2e_11eb_abfb_0242ac1c0002row21_col19\" class=\"data row21 col19\" >0.051335</td>\n",
              "                        <td id=\"T_452087e6_8e2e_11eb_abfb_0242ac1c0002row21_col20\" class=\"data row21 col20\" >-0.076447</td>\n",
              "                        <td id=\"T_452087e6_8e2e_11eb_abfb_0242ac1c0002row21_col21\" class=\"data row21 col21\" >1.000000</td>\n",
              "                        <td id=\"T_452087e6_8e2e_11eb_abfb_0242ac1c0002row21_col22\" class=\"data row21 col22\" >0.043075</td>\n",
              "            </tr>\n",
              "            <tr>\n",
              "                        <th id=\"T_452087e6_8e2e_11eb_abfb_0242ac1c0002level0_row22\" class=\"row_heading level0 row22\" >Price (₹)</th>\n",
              "                        <td id=\"T_452087e6_8e2e_11eb_abfb_0242ac1c0002row22_col0\" class=\"data row22 col0\" >0.211745</td>\n",
              "                        <td id=\"T_452087e6_8e2e_11eb_abfb_0242ac1c0002row22_col1\" class=\"data row22 col1\" >0.125815</td>\n",
              "                        <td id=\"T_452087e6_8e2e_11eb_abfb_0242ac1c0002row22_col2\" class=\"data row22 col2\" >0.191381</td>\n",
              "                        <td id=\"T_452087e6_8e2e_11eb_abfb_0242ac1c0002row22_col3\" class=\"data row22 col3\" >0.112988</td>\n",
              "                        <td id=\"T_452087e6_8e2e_11eb_abfb_0242ac1c0002row22_col4\" class=\"data row22 col4\" >0.040852</td>\n",
              "                        <td id=\"T_452087e6_8e2e_11eb_abfb_0242ac1c0002row22_col5\" class=\"data row22 col5\" >-0.145031</td>\n",
              "                        <td id=\"T_452087e6_8e2e_11eb_abfb_0242ac1c0002row22_col6\" class=\"data row22 col6\" >-0.119541</td>\n",
              "                        <td id=\"T_452087e6_8e2e_11eb_abfb_0242ac1c0002row22_col7\" class=\"data row22 col7\" >0.386173</td>\n",
              "                        <td id=\"T_452087e6_8e2e_11eb_abfb_0242ac1c0002row22_col8\" class=\"data row22 col8\" >-0.357712</td>\n",
              "                        <td id=\"T_452087e6_8e2e_11eb_abfb_0242ac1c0002row22_col9\" class=\"data row22 col9\" >0.260030</td>\n",
              "                        <td id=\"T_452087e6_8e2e_11eb_abfb_0242ac1c0002row22_col10\" class=\"data row22 col10\" >0.030603</td>\n",
              "                        <td id=\"T_452087e6_8e2e_11eb_abfb_0242ac1c0002row22_col11\" class=\"data row22 col11\" >0.228008</td>\n",
              "                        <td id=\"T_452087e6_8e2e_11eb_abfb_0242ac1c0002row22_col12\" class=\"data row22 col12\" >0.399253</td>\n",
              "                        <td id=\"T_452087e6_8e2e_11eb_abfb_0242ac1c0002row22_col13\" class=\"data row22 col13\" >0.131485</td>\n",
              "                        <td id=\"T_452087e6_8e2e_11eb_abfb_0242ac1c0002row22_col14\" class=\"data row22 col14\" >0.254551</td>\n",
              "                        <td id=\"T_452087e6_8e2e_11eb_abfb_0242ac1c0002row22_col15\" class=\"data row22 col15\" >0.303924</td>\n",
              "                        <td id=\"T_452087e6_8e2e_11eb_abfb_0242ac1c0002row22_col16\" class=\"data row22 col16\" >0.010458</td>\n",
              "                        <td id=\"T_452087e6_8e2e_11eb_abfb_0242ac1c0002row22_col17\" class=\"data row22 col17\" >-0.330495</td>\n",
              "                        <td id=\"T_452087e6_8e2e_11eb_abfb_0242ac1c0002row22_col18\" class=\"data row22 col18\" >-0.054885</td>\n",
              "                        <td id=\"T_452087e6_8e2e_11eb_abfb_0242ac1c0002row22_col19\" class=\"data row22 col19\" >0.528230</td>\n",
              "                        <td id=\"T_452087e6_8e2e_11eb_abfb_0242ac1c0002row22_col20\" class=\"data row22 col20\" >0.180089</td>\n",
              "                        <td id=\"T_452087e6_8e2e_11eb_abfb_0242ac1c0002row22_col21\" class=\"data row22 col21\" >0.043075</td>\n",
              "                        <td id=\"T_452087e6_8e2e_11eb_abfb_0242ac1c0002row22_col22\" class=\"data row22 col22\" >1.000000</td>\n",
              "            </tr>\n",
              "    </tbody></table>"
            ],
            "text/plain": [
              "<pandas.io.formats.style.Styler at 0x7f5d11b4b950>"
            ]
          },
          "metadata": {
            "tags": []
          },
          "execution_count": 65
        }
      ]
    },
    {
      "cell_type": "code",
      "metadata": {
        "id": "eIbjSMBsBmQz"
      },
      "source": [
        "from scipy import stats"
      ],
      "execution_count": null,
      "outputs": []
    },
    {
      "cell_type": "code",
      "metadata": {
        "id": "rNBOyQHqDAPE"
      },
      "source": [
        "d=[]\n",
        "for i in df.columns:\n",
        "  if i=='Price (₹)':\n",
        "    continue\n",
        "  pearson_coef,p_value=stats.pearsonr(df[i],df['Price (₹)'])\n",
        "  d.append({'Column Name':i,'Pearson_coef':pearson_coef,'P-Value':p_value})"
      ],
      "execution_count": null,
      "outputs": []
    },
    {
      "cell_type": "code",
      "metadata": {
        "id": "zFbOBShpDaxX"
      },
      "source": [
        "chart=pd.DataFrame(d)"
      ],
      "execution_count": null,
      "outputs": []
    },
    {
      "cell_type": "code",
      "metadata": {
        "colab": {
          "base_uri": "https://localhost:8080/",
          "height": 692
        },
        "id": "ssZaDmGZDbd4",
        "outputId": "c99f605a-948c-4f05-c8f0-0b0ab93c8bc8"
      },
      "source": [
        "chart"
      ],
      "execution_count": null,
      "outputs": [
        {
          "output_type": "execute_result",
          "data": {
            "text/html": [
              "<div>\n",
              "<style scoped>\n",
              "    .dataframe tbody tr th:only-of-type {\n",
              "        vertical-align: middle;\n",
              "    }\n",
              "\n",
              "    .dataframe tbody tr th {\n",
              "        vertical-align: top;\n",
              "    }\n",
              "\n",
              "    .dataframe thead th {\n",
              "        text-align: right;\n",
              "    }\n",
              "</style>\n",
              "<table border=\"1\" class=\"dataframe\">\n",
              "  <thead>\n",
              "    <tr style=\"text-align: right;\">\n",
              "      <th></th>\n",
              "      <th>Column Name</th>\n",
              "      <th>Pearson_coef</th>\n",
              "      <th>P-Value</th>\n",
              "    </tr>\n",
              "  </thead>\n",
              "  <tbody>\n",
              "    <tr>\n",
              "      <th>0</th>\n",
              "      <td>Whats in the box</td>\n",
              "      <td>0.211745</td>\n",
              "      <td>1.045165e-12</td>\n",
              "    </tr>\n",
              "    <tr>\n",
              "      <th>1</th>\n",
              "      <td>Item model number</td>\n",
              "      <td>0.125815</td>\n",
              "      <td>2.647780e-05</td>\n",
              "    </tr>\n",
              "    <tr>\n",
              "      <th>2</th>\n",
              "      <td>Name</td>\n",
              "      <td>0.191381</td>\n",
              "      <td>1.313507e-10</td>\n",
              "    </tr>\n",
              "    <tr>\n",
              "      <th>3</th>\n",
              "      <td>Colour</td>\n",
              "      <td>0.112988</td>\n",
              "      <td>1.628986e-04</td>\n",
              "    </tr>\n",
              "    <tr>\n",
              "      <th>4</th>\n",
              "      <td>Resolution</td>\n",
              "      <td>0.040852</td>\n",
              "      <td>1.739991e-01</td>\n",
              "    </tr>\n",
              "    <tr>\n",
              "      <th>5</th>\n",
              "      <td>Display technology</td>\n",
              "      <td>-0.145031</td>\n",
              "      <td>1.234677e-06</td>\n",
              "    </tr>\n",
              "    <tr>\n",
              "      <th>6</th>\n",
              "      <td>Other display features</td>\n",
              "      <td>-0.119541</td>\n",
              "      <td>6.587003e-05</td>\n",
              "    </tr>\n",
              "    <tr>\n",
              "      <th>7</th>\n",
              "      <td>Operating system</td>\n",
              "      <td>0.386173</td>\n",
              "      <td>9.335745e-41</td>\n",
              "    </tr>\n",
              "    <tr>\n",
              "      <th>8</th>\n",
              "      <td>Processor brand</td>\n",
              "      <td>-0.357712</td>\n",
              "      <td>8.146991e-35</td>\n",
              "    </tr>\n",
              "    <tr>\n",
              "      <th>9</th>\n",
              "      <td>Expandable storage (in GB)</td>\n",
              "      <td>0.260030</td>\n",
              "      <td>1.349879e-18</td>\n",
              "    </tr>\n",
              "    <tr>\n",
              "      <th>10</th>\n",
              "      <td>Audio jack</td>\n",
              "      <td>0.030603</td>\n",
              "      <td>3.085736e-01</td>\n",
              "    </tr>\n",
              "    <tr>\n",
              "      <th>11</th>\n",
              "      <td>Gps</td>\n",
              "      <td>0.228008</td>\n",
              "      <td>1.518590e-14</td>\n",
              "    </tr>\n",
              "    <tr>\n",
              "      <th>12</th>\n",
              "      <td>Battery power (in mah)</td>\n",
              "      <td>0.399253</td>\n",
              "      <td>1.085833e-43</td>\n",
              "    </tr>\n",
              "    <tr>\n",
              "      <th>13</th>\n",
              "      <td>Item weight (in gms)</td>\n",
              "      <td>0.131485</td>\n",
              "      <td>1.118936e-05</td>\n",
              "    </tr>\n",
              "    <tr>\n",
              "      <th>14</th>\n",
              "      <td>Warranty details</td>\n",
              "      <td>0.254551</td>\n",
              "      <td>7.330156e-18</td>\n",
              "    </tr>\n",
              "    <tr>\n",
              "      <th>15</th>\n",
              "      <td>Rating</td>\n",
              "      <td>0.303924</td>\n",
              "      <td>3.943504e-25</td>\n",
              "    </tr>\n",
              "    <tr>\n",
              "      <th>16</th>\n",
              "      <td>Battery type</td>\n",
              "      <td>0.010458</td>\n",
              "      <td>7.279164e-01</td>\n",
              "    </tr>\n",
              "    <tr>\n",
              "      <th>17</th>\n",
              "      <td>Other camera features</td>\n",
              "      <td>-0.330495</td>\n",
              "      <td>1.131336e-29</td>\n",
              "    </tr>\n",
              "    <tr>\n",
              "      <th>18</th>\n",
              "      <td>OEM</td>\n",
              "      <td>-0.054885</td>\n",
              "      <td>6.768877e-02</td>\n",
              "    </tr>\n",
              "    <tr>\n",
              "      <th>19</th>\n",
              "      <td>Inbuilt storage (in GB)</td>\n",
              "      <td>0.528230</td>\n",
              "      <td>1.033186e-80</td>\n",
              "    </tr>\n",
              "    <tr>\n",
              "      <th>20</th>\n",
              "      <td>RAM (in GB)</td>\n",
              "      <td>0.180089</td>\n",
              "      <td>1.541582e-09</td>\n",
              "    </tr>\n",
              "    <tr>\n",
              "      <th>21</th>\n",
              "      <td>sentiments</td>\n",
              "      <td>0.043075</td>\n",
              "      <td>1.517143e-01</td>\n",
              "    </tr>\n",
              "  </tbody>\n",
              "</table>\n",
              "</div>"
            ],
            "text/plain": [
              "                   Column Name  Pearson_coef       P-Value\n",
              "0             Whats in the box      0.211745  1.045165e-12\n",
              "1            Item model number      0.125815  2.647780e-05\n",
              "2                         Name      0.191381  1.313507e-10\n",
              "3                       Colour      0.112988  1.628986e-04\n",
              "4                   Resolution      0.040852  1.739991e-01\n",
              "5           Display technology     -0.145031  1.234677e-06\n",
              "6       Other display features     -0.119541  6.587003e-05\n",
              "7             Operating system      0.386173  9.335745e-41\n",
              "8              Processor brand     -0.357712  8.146991e-35\n",
              "9   Expandable storage (in GB)      0.260030  1.349879e-18\n",
              "10                  Audio jack      0.030603  3.085736e-01\n",
              "11                         Gps      0.228008  1.518590e-14\n",
              "12      Battery power (in mah)      0.399253  1.085833e-43\n",
              "13        Item weight (in gms)      0.131485  1.118936e-05\n",
              "14            Warranty details      0.254551  7.330156e-18\n",
              "15                      Rating      0.303924  3.943504e-25\n",
              "16                Battery type      0.010458  7.279164e-01\n",
              "17       Other camera features     -0.330495  1.131336e-29\n",
              "18                         OEM     -0.054885  6.768877e-02\n",
              "19     Inbuilt storage (in GB)      0.528230  1.033186e-80\n",
              "20                 RAM (in GB)      0.180089  1.541582e-09\n",
              "21                  sentiments      0.043075  1.517143e-01"
            ]
          },
          "metadata": {
            "tags": []
          },
          "execution_count": 69
        }
      ]
    },
    {
      "cell_type": "code",
      "metadata": {
        "id": "N93CpMMtJJ6J"
      },
      "source": [
        "chart.to_excel('chart.xlsx')"
      ],
      "execution_count": null,
      "outputs": []
    },
    {
      "cell_type": "code",
      "metadata": {
        "id": "rKvxxTRsFv1l"
      },
      "source": [
        "def absolute(a):\n",
        "  return abs(a)\n",
        "chart['Pearson_coef']=chart['Pearson_coef'].apply(absolute)"
      ],
      "execution_count": null,
      "outputs": []
    },
    {
      "cell_type": "code",
      "metadata": {
        "id": "uaFMGqbfEwYc"
      },
      "source": [
        "p_val=chart[chart['P-Value']<0.001]"
      ],
      "execution_count": null,
      "outputs": []
    },
    {
      "cell_type": "code",
      "metadata": {
        "colab": {
          "base_uri": "https://localhost:8080/",
          "height": 223
        },
        "id": "ClzK3mxsE_r2",
        "outputId": "313dc170-02ce-4fc5-aa69-5b58afb60737"
      },
      "source": [
        "most_corr=p_val[p_val['Pearson_coef']>0.3]\n",
        "most_corr"
      ],
      "execution_count": null,
      "outputs": [
        {
          "output_type": "execute_result",
          "data": {
            "text/html": [
              "<div>\n",
              "<style scoped>\n",
              "    .dataframe tbody tr th:only-of-type {\n",
              "        vertical-align: middle;\n",
              "    }\n",
              "\n",
              "    .dataframe tbody tr th {\n",
              "        vertical-align: top;\n",
              "    }\n",
              "\n",
              "    .dataframe thead th {\n",
              "        text-align: right;\n",
              "    }\n",
              "</style>\n",
              "<table border=\"1\" class=\"dataframe\">\n",
              "  <thead>\n",
              "    <tr style=\"text-align: right;\">\n",
              "      <th></th>\n",
              "      <th>Column Name</th>\n",
              "      <th>Pearson_coef</th>\n",
              "      <th>P-Value</th>\n",
              "    </tr>\n",
              "  </thead>\n",
              "  <tbody>\n",
              "    <tr>\n",
              "      <th>7</th>\n",
              "      <td>Operating system</td>\n",
              "      <td>0.386173</td>\n",
              "      <td>9.335745e-41</td>\n",
              "    </tr>\n",
              "    <tr>\n",
              "      <th>8</th>\n",
              "      <td>Processor brand</td>\n",
              "      <td>0.357712</td>\n",
              "      <td>8.146991e-35</td>\n",
              "    </tr>\n",
              "    <tr>\n",
              "      <th>12</th>\n",
              "      <td>Battery power (in mah)</td>\n",
              "      <td>0.399253</td>\n",
              "      <td>1.085833e-43</td>\n",
              "    </tr>\n",
              "    <tr>\n",
              "      <th>15</th>\n",
              "      <td>Rating</td>\n",
              "      <td>0.303924</td>\n",
              "      <td>3.943504e-25</td>\n",
              "    </tr>\n",
              "    <tr>\n",
              "      <th>17</th>\n",
              "      <td>Other camera features</td>\n",
              "      <td>0.330495</td>\n",
              "      <td>1.131336e-29</td>\n",
              "    </tr>\n",
              "    <tr>\n",
              "      <th>19</th>\n",
              "      <td>Inbuilt storage (in GB)</td>\n",
              "      <td>0.528230</td>\n",
              "      <td>1.033186e-80</td>\n",
              "    </tr>\n",
              "  </tbody>\n",
              "</table>\n",
              "</div>"
            ],
            "text/plain": [
              "                Column Name  Pearson_coef       P-Value\n",
              "7          Operating system      0.386173  9.335745e-41\n",
              "8           Processor brand      0.357712  8.146991e-35\n",
              "12   Battery power (in mah)      0.399253  1.085833e-43\n",
              "15                   Rating      0.303924  3.943504e-25\n",
              "17    Other camera features      0.330495  1.131336e-29\n",
              "19  Inbuilt storage (in GB)      0.528230  1.033186e-80"
            ]
          },
          "metadata": {
            "tags": []
          },
          "execution_count": 73
        }
      ]
    },
    {
      "cell_type": "code",
      "metadata": {
        "id": "pfWmB8WjftBs"
      },
      "source": [
        "most_corr.to_excel('best_features.xlsx')"
      ],
      "execution_count": null,
      "outputs": []
    },
    {
      "cell_type": "code",
      "metadata": {
        "id": "ZJf1RXBlG5KA"
      },
      "source": [
        "col_name=most_corr['Column Name'].unique()"
      ],
      "execution_count": null,
      "outputs": []
    },
    {
      "cell_type": "code",
      "metadata": {
        "id": "gVajYpsWGlXB"
      },
      "source": [
        "#col_name=['Operating system','Battery power (in mah)','Rating','Inbuilt storage (in GB)']"
      ],
      "execution_count": null,
      "outputs": []
    },
    {
      "cell_type": "code",
      "metadata": {
        "colab": {
          "base_uri": "https://localhost:8080/"
        },
        "id": "XvE1xqsMGRfB",
        "outputId": "1a5e477a-d528-4026-8699-956d0a3609b2"
      },
      "source": [
        "for i in col_name:\n",
        " print(df.columns.get_loc(i))"
      ],
      "execution_count": null,
      "outputs": [
        {
          "output_type": "stream",
          "text": [
            "7\n",
            "8\n",
            "12\n",
            "15\n",
            "19\n"
          ],
          "name": "stdout"
        }
      ]
    },
    {
      "cell_type": "code",
      "metadata": {
        "colab": {
          "base_uri": "https://localhost:8080/"
        },
        "id": "j10I_0HdHiHH",
        "outputId": "254d8c33-a5dd-4ef6-944d-be21e56feb02"
      },
      "source": [
        "df.info()"
      ],
      "execution_count": null,
      "outputs": [
        {
          "output_type": "stream",
          "text": [
            "<class 'pandas.core.frame.DataFrame'>\n",
            "Int64Index: 1109 entries, 0 to 1109\n",
            "Data columns (total 23 columns):\n",
            " #   Column                      Non-Null Count  Dtype  \n",
            "---  ------                      --------------  -----  \n",
            " 0   Whats in the box            1109 non-null   int64  \n",
            " 1   Item model number           1109 non-null   int64  \n",
            " 2   Name                        1109 non-null   int64  \n",
            " 3   Colour                      1109 non-null   int64  \n",
            " 4   Resolution                  1109 non-null   int64  \n",
            " 5   Display technology          1109 non-null   int64  \n",
            " 6   Other display features      1109 non-null   int64  \n",
            " 7   Operating system            1109 non-null   int64  \n",
            " 8   Processor brand             1109 non-null   int64  \n",
            " 9   Expandable storage (in GB)  1109 non-null   float64\n",
            " 10  Audio jack                  1109 non-null   int64  \n",
            " 11  Gps                         1109 non-null   int64  \n",
            " 12  Battery power (in mah)      1109 non-null   float64\n",
            " 13  Item weight (in gms)        1109 non-null   float64\n",
            " 14  Warranty details            1109 non-null   int64  \n",
            " 15  Rating                      1109 non-null   float64\n",
            " 16  Battery type                1109 non-null   int64  \n",
            " 17  Other camera features       1109 non-null   int64  \n",
            " 18  OEM                         1109 non-null   int64  \n",
            " 19  Inbuilt storage (in GB)     1109 non-null   float64\n",
            " 20  RAM (in GB)                 1109 non-null   float64\n",
            " 21  sentiments                  1109 non-null   float64\n",
            " 22  Price (₹)                   1109 non-null   float64\n",
            "dtypes: float64(8), int64(15)\n",
            "memory usage: 207.9 KB\n"
          ],
          "name": "stdout"
        }
      ]
    },
    {
      "cell_type": "code",
      "metadata": {
        "id": "1fV4MWk7HYGB"
      },
      "source": [
        "X=df.iloc[:,[7,8,12,15,17,19]]\n",
        "y=df.iloc[:,-1]"
      ],
      "execution_count": null,
      "outputs": []
    },
    {
      "cell_type": "code",
      "metadata": {
        "id": "EpkInArnHf81"
      },
      "source": [
        "scaler=StandardScaler()\n",
        "x=scaler.fit_transform(X)"
      ],
      "execution_count": null,
      "outputs": []
    },
    {
      "cell_type": "code",
      "metadata": {
        "colab": {
          "base_uri": "https://localhost:8080/"
        },
        "id": "x0nCN7lKp_oA",
        "outputId": "ab8ffbcf-5a44-44ae-a606-637e8d02f2c6"
      },
      "source": [
        "scaler."
      ],
      "execution_count": null,
      "outputs": [
        {
          "output_type": "execute_result",
          "data": {
            "text/plain": [
              "array([1.95834249e+02, 9.56469655e+02, 3.31353144e+06, 2.06707054e-01,\n",
              "       1.78065517e+03, 3.46777020e+03])"
            ]
          },
          "metadata": {
            "tags": []
          },
          "execution_count": 89
        }
      ]
    },
    {
      "cell_type": "code",
      "metadata": {
        "colab": {
          "base_uri": "https://localhost:8080/"
        },
        "id": "zIoYklO3HrKp",
        "outputId": "34ff99b8-7ac2-40ec-abd9-acb4f59b4698"
      },
      "source": [
        "print(X.shape, x.shape)"
      ],
      "execution_count": null,
      "outputs": [
        {
          "output_type": "stream",
          "text": [
            "(1109, 6) (1109, 6)\n"
          ],
          "name": "stdout"
        }
      ]
    },
    {
      "cell_type": "code",
      "metadata": {
        "colab": {
          "base_uri": "https://localhost:8080/"
        },
        "id": "wLPSQvLxHr9S",
        "outputId": "3a32c8ed-5012-44d3-cf2d-00cfcfee7284"
      },
      "source": [
        "y"
      ],
      "execution_count": null,
      "outputs": [
        {
          "output_type": "execute_result",
          "data": {
            "text/plain": [
              "0       10999.0\n",
              "1        8499.0\n",
              "2       15990.0\n",
              "3       10999.0\n",
              "4       19999.0\n",
              "         ...   \n",
              "1105     7499.0\n",
              "1106      649.0\n",
              "1107      944.0\n",
              "1108    36999.0\n",
              "1109    23999.0\n",
              "Name: Price (₹), Length: 1109, dtype: float64"
            ]
          },
          "metadata": {
            "tags": []
          },
          "execution_count": 66
        }
      ]
    },
    {
      "cell_type": "code",
      "metadata": {
        "id": "PoXLfrxJHxJ6"
      },
      "source": [
        "#from sklearn.model_selection import train_test_split"
      ],
      "execution_count": null,
      "outputs": []
    },
    {
      "cell_type": "code",
      "metadata": {
        "id": "jC-R63QcH6O2"
      },
      "source": [
        "#Xtrain,Xtest,Ytrain,Ytest=train_test_split(X,Y,test_size=0.2,random_state=0)"
      ],
      "execution_count": null,
      "outputs": []
    },
    {
      "cell_type": "code",
      "metadata": {
        "id": "aFITtsS4H8BW"
      },
      "source": [
        "#from sklearn.linear_model import LinearRegression\n",
        "#from sklearn.tree import DecisionTreeRegressor\n",
        "#from sklearn.ensemble import RandomForestRegressor"
      ],
      "execution_count": null,
      "outputs": []
    },
    {
      "cell_type": "markdown",
      "metadata": {
        "id": "LlhBdhHQI1uS"
      },
      "source": [
        "#Linear Regression"
      ]
    },
    {
      "cell_type": "code",
      "metadata": {
        "colab": {
          "base_uri": "https://localhost:8080/"
        },
        "id": "DkaZMwvtIDhA",
        "outputId": "7e3916c3-2db9-4337-de76-575ad6830519"
      },
      "source": [
        "linreg=LinearRegression()\n",
        "linreg.fit(Xtrain,Ytrain)\n",
        "linreg.score(Xtest,Ytest)*100"
      ],
      "execution_count": null,
      "outputs": [
        {
          "output_type": "execute_result",
          "data": {
            "text/plain": [
              "43.07050181861902"
            ]
          },
          "metadata": {
            "tags": []
          },
          "execution_count": 63
        }
      ]
    },
    {
      "cell_type": "code",
      "metadata": {
        "colab": {
          "base_uri": "https://localhost:8080/",
          "height": 391
        },
        "id": "MH4bsB3qIFzq",
        "outputId": "4315d6bc-b3a2-488b-cc76-36e17e60ac59"
      },
      "source": [
        "yhat=linreg.predict(Xtest)\n",
        "ax=sns.distplot(Ytest,hist=False,label=\"original production\")\n",
        "sns.distplot(yhat,hist=False,label=\"predicted production\",ax=ax)"
      ],
      "execution_count": null,
      "outputs": [
        {
          "output_type": "stream",
          "text": [
            "/usr/local/lib/python3.7/dist-packages/seaborn/distributions.py:2557: FutureWarning: `distplot` is a deprecated function and will be removed in a future version. Please adapt your code to use either `displot` (a figure-level function with similar flexibility) or `kdeplot` (an axes-level function for kernel density plots).\n",
            "  warnings.warn(msg, FutureWarning)\n",
            "/usr/local/lib/python3.7/dist-packages/seaborn/distributions.py:2557: FutureWarning: `distplot` is a deprecated function and will be removed in a future version. Please adapt your code to use either `displot` (a figure-level function with similar flexibility) or `kdeplot` (an axes-level function for kernel density plots).\n",
            "  warnings.warn(msg, FutureWarning)\n"
          ],
          "name": "stderr"
        },
        {
          "output_type": "execute_result",
          "data": {
            "text/plain": [
              "<matplotlib.axes._subplots.AxesSubplot at 0x7f76e3580150>"
            ]
          },
          "metadata": {
            "tags": []
          },
          "execution_count": 64
        },
        {
          "output_type": "display_data",
          "data": {
            "image/png": "[encoded data removed]",
            "text/plain": [
              "<Figure size 432x288 with 1 Axes>"
            ]
          },
          "metadata": {
            "tags": [],
            "needs_background": "light"
          }
        }
      ]
    },
    {
      "cell_type": "markdown",
      "metadata": {
        "id": "wGo2JoNQIyac"
      },
      "source": [
        "#Decision Tree"
      ]
    },
    {
      "cell_type": "code",
      "metadata": {
        "colab": {
          "base_uri": "https://localhost:8080/"
        },
        "id": "MjHp5yPyIRZ0",
        "outputId": "41ce5cab-c5bd-4e54-a5e1-17017d750cd0"
      },
      "source": [
        "dectree=DecisionTreeRegressor(max_depth=50)\n",
        "dectree.fit(Xtrain,Ytrain)\n",
        "dectree.score(Xtest,Ytest)*100"
      ],
      "execution_count": null,
      "outputs": [
        {
          "output_type": "execute_result",
          "data": {
            "text/plain": [
              "44.13413058224324"
            ]
          },
          "metadata": {
            "tags": []
          },
          "execution_count": 65
        }
      ]
    },
    {
      "cell_type": "code",
      "metadata": {
        "colab": {
          "base_uri": "https://localhost:8080/",
          "height": 388
        },
        "id": "wWkF2RtWIxo6",
        "outputId": "291ba6d2-66f5-4a1c-f5e6-47bf648c496d"
      },
      "source": [
        "yhat=dectree.predict(Xtest)\n",
        "ax=sns.distplot(Ytest,hist=False,label=\"original production\")\n",
        "sns.distplot(yhat,hist=False,label=\"predicted production\",ax=ax)"
      ],
      "execution_count": null,
      "outputs": [
        {
          "output_type": "stream",
          "text": [
            "/usr/local/lib/python3.7/dist-packages/seaborn/distributions.py:2557: FutureWarning: `distplot` is a deprecated function and will be removed in a future version. Please adapt your code to use either `displot` (a figure-level function with similar flexibility) or `kdeplot` (an axes-level function for kernel density plots).\n",
            "  warnings.warn(msg, FutureWarning)\n",
            "/usr/local/lib/python3.7/dist-packages/seaborn/distributions.py:2557: FutureWarning: `distplot` is a deprecated function and will be removed in a future version. Please adapt your code to use either `displot` (a figure-level function with similar flexibility) or `kdeplot` (an axes-level function for kernel density plots).\n",
            "  warnings.warn(msg, FutureWarning)\n"
          ],
          "name": "stderr"
        },
        {
          "output_type": "execute_result",
          "data": {
            "text/plain": [
              "<matplotlib.axes._subplots.AxesSubplot at 0x7f76e3518690>"
            ]
          },
          "metadata": {
            "tags": []
          },
          "execution_count": 66
        },
        {
          "output_type": "display_data",
          "data": {
            "image/png": "[encoded data removed]",
            "text/plain": [
              "<Figure size 432x288 with 1 Axes>"
            ]
          },
          "metadata": {
            "tags": [],
            "needs_background": "light"
          }
        }
      ]
    },
    {
      "cell_type": "markdown",
      "metadata": {
        "id": "ZrNlM3xPJMEv"
      },
      "source": [
        "#Random Forest\n"
      ]
    },
    {
      "cell_type": "code",
      "metadata": {
        "colab": {
          "base_uri": "https://localhost:8080/"
        },
        "id": "TlWrYl2UJFfO",
        "outputId": "be7e68e0-b63c-453c-f12c-b08fcc66e9e3"
      },
      "source": [
        "ranfor=RandomForestRegressor(n_estimators=300)\n",
        "ranfor.fit(Xtrain,Ytrain)\n",
        "ranfor.score(Xtest,Ytest)*100"
      ],
      "execution_count": null,
      "outputs": [
        {
          "output_type": "execute_result",
          "data": {
            "text/plain": [
              "87.45576533552068"
            ]
          },
          "metadata": {
            "tags": []
          },
          "execution_count": 67
        }
      ]
    },
    {
      "cell_type": "code",
      "metadata": {
        "colab": {
          "base_uri": "https://localhost:8080/",
          "height": 388
        },
        "id": "NsCWOAkEJT9w",
        "outputId": "09ea3879-6b01-4c00-b7d3-403064d8ff4c"
      },
      "source": [
        "yhat=ranfor.predict(Xtest)\n",
        "ax=sns.distplot(Ytest,hist=False,label=\"original production\")\n",
        "sns.distplot(yhat,hist=False,label=\"predicted production\",ax=ax)"
      ],
      "execution_count": null,
      "outputs": [
        {
          "output_type": "stream",
          "text": [
            "/usr/local/lib/python3.7/dist-packages/seaborn/distributions.py:2557: FutureWarning: `distplot` is a deprecated function and will be removed in a future version. Please adapt your code to use either `displot` (a figure-level function with similar flexibility) or `kdeplot` (an axes-level function for kernel density plots).\n",
            "  warnings.warn(msg, FutureWarning)\n",
            "/usr/local/lib/python3.7/dist-packages/seaborn/distributions.py:2557: FutureWarning: `distplot` is a deprecated function and will be removed in a future version. Please adapt your code to use either `displot` (a figure-level function with similar flexibility) or `kdeplot` (an axes-level function for kernel density plots).\n",
            "  warnings.warn(msg, FutureWarning)\n"
          ],
          "name": "stderr"
        },
        {
          "output_type": "execute_result",
          "data": {
            "text/plain": [
              "<matplotlib.axes._subplots.AxesSubplot at 0x7f76e350b810>"
            ]
          },
          "metadata": {
            "tags": []
          },
          "execution_count": 68
        },
        {
          "output_type": "display_data",
          "data": {
            "image/png": "[encoded data removed]",
            "text/plain": [
              "<Figure size 432x288 with 1 Axes>"
            ]
          },
          "metadata": {
            "tags": [],
            "needs_background": "light"
          }
        }
      ]
    },
    {
      "cell_type": "markdown",
      "metadata": {
        "id": "covXqt7KJjJN"
      },
      "source": [
        "#testing"
      ]
    },
    {
      "cell_type": "code",
      "metadata": {
        "id": "FWevCZjoKbGQ"
      },
      "source": [
        "import operator"
      ],
      "execution_count": null,
      "outputs": []
    },
    {
      "cell_type": "code",
      "metadata": {
        "id": "qumNL3E6JWkK"
      },
      "source": [
        "lar={}\n",
        "for i in range(0,50):\n",
        "  Xtrain,Xtest,Ytrain,Ytest=train_test_split(X,Y,test_size=0.2,random_state=i)\n",
        "  reg=LinearRegression()\n",
        "  reg.fit(Xtrain,Ytrain)\n",
        "  sc=reg.score(Xtest,Ytest)*100\n",
        "  lar.update({i:sc})"
      ],
      "execution_count": null,
      "outputs": []
    },
    {
      "cell_type": "code",
      "metadata": {
        "colab": {
          "base_uri": "https://localhost:8080/"
        },
        "id": "XSYD80lYJ-W-",
        "outputId": "246ede62-facc-47a8-8260-f95b81491a0e"
      },
      "source": [
        "\n",
        "sorted(lar.items(),key=operator.itemgetter(1),reverse=True)"
      ],
      "execution_count": null,
      "outputs": [
        {
          "output_type": "execute_result",
          "data": {
            "text/plain": [
              "[(45, 57.88170243238925),\n",
              " (21, 55.26512312886393),\n",
              " (18, 54.76990703429787),\n",
              " (5, 53.92797430904952),\n",
              " (33, 52.73178792217447),\n",
              " (25, 51.2366581906325),\n",
              " (15, 51.05748876993892),\n",
              " (20, 49.90773023125607),\n",
              " (26, 49.75558107949917),\n",
              " (8, 49.72610976211087),\n",
              " (9, 49.27408223360988),\n",
              " (16, 49.23749377453507),\n",
              " (32, 48.629960401428605),\n",
              " (49, 48.171776987504884),\n",
              " (19, 48.16428523919433),\n",
              " (12, 48.02643342543143),\n",
              " (3, 47.00010726555989),\n",
              " (4, 46.94471108322303),\n",
              " (24, 46.69329158818931),\n",
              " (40, 46.142298093362704),\n",
              " (13, 46.07374997990108),\n",
              " (43, 45.72908949219624),\n",
              " (31, 45.43002599897456),\n",
              " (47, 44.183726667782665),\n",
              " (27, 44.040206976552255),\n",
              " (0, 43.07050181861902),\n",
              " (38, 42.6807721111494),\n",
              " (29, 41.132614346267616),\n",
              " (41, 39.16208794936609),\n",
              " (10, 36.39135883071544),\n",
              " (42, 35.615487762277034),\n",
              " (30, 32.424247336592835),\n",
              " (11, 32.221701232069165),\n",
              " (6, 32.167873106445946),\n",
              " (39, 32.11591126378844),\n",
              " (36, 31.827881482234265),\n",
              " (2, 31.293097569302475),\n",
              " (1, 30.21911525172294),\n",
              " (28, 29.673972172401896),\n",
              " (34, 27.02711028211956),\n",
              " (17, 25.952495309901245),\n",
              " (35, 24.60001010613777),\n",
              " (23, 24.076328229926624),\n",
              " (44, 23.91284175679502),\n",
              " (46, 23.46773426594573),\n",
              " (48, 22.477636138065737),\n",
              " (14, 21.90317982980052),\n",
              " (22, 15.458443433279134),\n",
              " (7, 7.84718833056075),\n",
              " (37, -2.4321933630901515)]"
            ]
          },
          "metadata": {
            "tags": []
          },
          "execution_count": 71
        }
      ]
    },
    {
      "cell_type": "code",
      "metadata": {
        "colab": {
          "base_uri": "https://localhost:8080/"
        },
        "id": "5phlX-ZDJ7rh",
        "outputId": "40c0eeb9-ffdd-4648-c54d-3f1359c93544"
      },
      "source": [
        "Xtrain,Xtest,Ytrain,Ytest=train_test_split(X,Y,test_size=0.2,random_state=45)\n",
        "linreg=LinearRegression()\n",
        "linreg.fit(Xtrain,Ytrain)\n",
        "linreg.score(Xtest,Ytest)*100"
      ],
      "execution_count": null,
      "outputs": [
        {
          "output_type": "execute_result",
          "data": {
            "text/plain": [
              "57.88170243238925"
            ]
          },
          "metadata": {
            "tags": []
          },
          "execution_count": 72
        }
      ]
    },
    {
      "cell_type": "code",
      "metadata": {
        "colab": {
          "base_uri": "https://localhost:8080/",
          "height": 388
        },
        "id": "RZDNy9Z1KeDx",
        "outputId": "ad035c6f-bdd2-47d0-8e6f-999f865ee156"
      },
      "source": [
        "yhat=linreg.predict(Xtest)\n",
        "ax=sns.distplot(Ytest,hist=False,label=\"original production\")\n",
        "sns.distplot(yhat,hist=False,label=\"predicted production\",ax=ax)"
      ],
      "execution_count": null,
      "outputs": [
        {
          "output_type": "stream",
          "text": [
            "/usr/local/lib/python3.7/dist-packages/seaborn/distributions.py:2557: FutureWarning: `distplot` is a deprecated function and will be removed in a future version. Please adapt your code to use either `displot` (a figure-level function with similar flexibility) or `kdeplot` (an axes-level function for kernel density plots).\n",
            "  warnings.warn(msg, FutureWarning)\n",
            "/usr/local/lib/python3.7/dist-packages/seaborn/distributions.py:2557: FutureWarning: `distplot` is a deprecated function and will be removed in a future version. Please adapt your code to use either `displot` (a figure-level function with similar flexibility) or `kdeplot` (an axes-level function for kernel density plots).\n",
            "  warnings.warn(msg, FutureWarning)\n"
          ],
          "name": "stderr"
        },
        {
          "output_type": "execute_result",
          "data": {
            "text/plain": [
              "<matplotlib.axes._subplots.AxesSubplot at 0x7f76e3557090>"
            ]
          },
          "metadata": {
            "tags": []
          },
          "execution_count": 73
        },
        {
          "output_type": "display_data",
          "data": {
            "image/png": "[encoded data removed]",
            "text/plain": [
              "<Figure size 432x288 with 1 Axes>"
            ]
          },
          "metadata": {
            "tags": [],
            "needs_background": "light"
          }
        }
      ]
    },
    {
      "cell_type": "markdown",
      "metadata": {
        "id": "8M2AVCcPOTkG"
      },
      "source": [
        "#Decision Tree"
      ]
    },
    {
      "cell_type": "code",
      "metadata": {
        "id": "WVvAtkmcN6Ss"
      },
      "source": [
        "lar={}\n",
        "Xtrain,Xtest,Ytrain,Ytest=train_test_split(X,Y,test_size=0.2,random_state=45)\n",
        "for i in range(1,500):\n",
        "  \n",
        "  reg=DecisionTreeRegressor(max_depth=i)\n",
        "  reg.fit(Xtrain,Ytrain)\n",
        "  sc=reg.score(Xtest,Ytest)*100\n",
        "  lar.update({i:sc})"
      ],
      "execution_count": null,
      "outputs": []
    },
    {
      "cell_type": "code",
      "metadata": {
        "colab": {
          "base_uri": "https://localhost:8080/"
        },
        "id": "rrgJ8iEXPZ39",
        "outputId": "8b6613c6-a995-4f91-9eca-f07dbe7ccb38"
      },
      "source": [
        "sorted(lar.items(),key=operator.itemgetter(1),reverse=True)[:3]"
      ],
      "execution_count": null,
      "outputs": [
        {
          "output_type": "execute_result",
          "data": {
            "text/plain": [
              "[(434, 83.5455638008524), (82, 83.54319776865097), (479, 83.54295415293826)]"
            ]
          },
          "metadata": {
            "tags": []
          },
          "execution_count": 75
        }
      ]
    },
    {
      "cell_type": "code",
      "metadata": {
        "colab": {
          "base_uri": "https://localhost:8080/"
        },
        "id": "cvPhhbXpP0o7",
        "outputId": "0dccf0b0-80fc-44f7-97f5-945ce4a6a2d8"
      },
      "source": [
        "dectree=DecisionTreeRegressor(max_depth=478)\n",
        "dectree.fit(Xtrain,Ytrain)\n",
        "dectree.score(Xtest,Ytest)*100"
      ],
      "execution_count": null,
      "outputs": [
        {
          "output_type": "execute_result",
          "data": {
            "text/plain": [
              "82.74992516093236"
            ]
          },
          "metadata": {
            "tags": []
          },
          "execution_count": 76
        }
      ]
    },
    {
      "cell_type": "markdown",
      "metadata": {
        "id": "J9fM3OK8OWae"
      },
      "source": [
        "#Random Forest"
      ]
    },
    {
      "cell_type": "code",
      "metadata": {
        "id": "JDcDBbc-KmD7"
      },
      "source": [
        "lar={}\n",
        "Xtrain,Xtest,Ytrain,Ytest=train_test_split(X,Y,test_size=0.2,random_state=45)\n",
        "for i in range(1,500):\n",
        "  \n",
        "  reg=RandomForestRegressor(n_estimators=i)\n",
        "  reg.fit(Xtrain,Ytrain)\n",
        "  sc=reg.score(Xtest,Ytest)*100\n",
        "  lar.update({i:sc})"
      ],
      "execution_count": null,
      "outputs": []
    },
    {
      "cell_type": "code",
      "metadata": {
        "colab": {
          "base_uri": "https://localhost:8080/"
        },
        "id": "q4yJuBtELH7E",
        "outputId": "c1be448b-f133-413b-85c2-51456c817eb7"
      },
      "source": [
        "sorted(lar.items(),key=operator.itemgetter(1),reverse=True)[:3]"
      ],
      "execution_count": null,
      "outputs": [
        {
          "output_type": "execute_result",
          "data": {
            "text/plain": [
              "[(14, 92.40231275671681), (39, 92.01023482802691), (20, 91.85795953441044)]"
            ]
          },
          "metadata": {
            "tags": []
          },
          "execution_count": 78
        }
      ]
    },
    {
      "cell_type": "code",
      "metadata": {
        "id": "ilRZF8C7NCDc"
      },
      "source": [
        "Xtrain,Xtest,Ytrain,Ytest=train_test_split(X,Y,test_size=0.2,random_state=45)"
      ],
      "execution_count": null,
      "outputs": []
    },
    {
      "cell_type": "code",
      "metadata": {
        "colab": {
          "base_uri": "https://localhost:8080/"
        },
        "id": "AwYpKaHiLP3D",
        "outputId": "a0490c9d-cf7a-40d5-bc69-661dc898d620"
      },
      "source": [
        "ranfor=RandomForestRegressor(n_estimators=14)\n",
        "ranfor.fit(Xtrain,Ytrain)\n",
        "ranfor.score(Xtest,Ytest)*100"
      ],
      "execution_count": null,
      "outputs": [
        {
          "output_type": "execute_result",
          "data": {
            "text/plain": [
              "91.80014999649457"
            ]
          },
          "metadata": {
            "tags": []
          },
          "execution_count": 81
        }
      ]
    },
    {
      "cell_type": "markdown",
      "metadata": {
        "id": "-3rx34MnPfSZ"
      },
      "source": [
        "# why some highest value in loop is showing different results in model creation?\n",
        "# so now how to decide best random state and max_depth(deicison tree) and n_estimators(random forest reg)?"
      ]
    },
    {
      "cell_type": "code",
      "metadata": {
        "id": "Iq8ahpRTMyU_"
      },
      "source": [
        ""
      ],
      "execution_count": null,
      "outputs": []
    },
    {
      "cell_type": "code",
      "metadata": {
        "colab": {
          "base_uri": "https://localhost:8080/"
        },
        "id": "BrqdtblYCpOz",
        "outputId": "81afbbbd-090d-4a5f-ed88-8a40092680ec"
      },
      "source": [
        "!pip install xgboost"
      ],
      "execution_count": null,
      "outputs": [
        {
          "output_type": "stream",
          "text": [
            "Requirement already satisfied: xgboost in /usr/local/lib/python3.7/dist-packages (0.90)\n",
            "Requirement already satisfied: scipy in /usr/local/lib/python3.7/dist-packages (from xgboost) (1.4.1)\n",
            "Requirement already satisfied: numpy in /usr/local/lib/python3.7/dist-packages (from xgboost) (1.19.5)\n"
          ],
          "name": "stdout"
        }
      ]
    },
    {
      "cell_type": "code",
      "metadata": {
        "id": "gsltp4JPCrYa"
      },
      "source": [
        "import xgboost as xgb"
      ],
      "execution_count": null,
      "outputs": []
    },
    {
      "cell_type": "code",
      "metadata": {
        "id": "TV4R7F39CyVc"
      },
      "source": [
        "from sklearn.metrics import mean_squared_error"
      ],
      "execution_count": null,
      "outputs": []
    },
    {
      "cell_type": "code",
      "metadata": {
        "colab": {
          "base_uri": "https://localhost:8080/"
        },
        "id": "C4BuRhp3C1Fx",
        "outputId": "54c22ed6-9882-4bb1-c0a1-8505499e0c1e"
      },
      "source": [
        "data_matrix = xgb.DMatrix(data=X, label=y)\n",
        "data_matrix"
      ],
      "execution_count": null,
      "outputs": [
        {
          "output_type": "execute_result",
          "data": {
            "text/plain": [
              "<xgboost.core.DMatrix at 0x7f65edefd4d0>"
            ]
          },
          "metadata": {
            "tags": []
          },
          "execution_count": 70
        }
      ]
    },
    {
      "cell_type": "code",
      "metadata": {
        "id": "nJqb6kYFC--J"
      },
      "source": [
        "from sklearn.model_selection import train_test_split"
      ],
      "execution_count": null,
      "outputs": []
    },
    {
      "cell_type": "code",
      "metadata": {
        "id": "3sL4XkaxDD1c"
      },
      "source": [
        "tx,testx,ty,testy = train_test_split(X,y,random_state=0)"
      ],
      "execution_count": null,
      "outputs": []
    },
    {
      "cell_type": "code",
      "metadata": {
        "colab": {
          "base_uri": "https://localhost:8080/"
        },
        "id": "NrTDcnrIRCMK",
        "outputId": "7bc18ad0-7ad3-4ef5-e791-5cdef35f1f9b"
      },
      "source": [
        "testy"
      ],
      "execution_count": null,
      "outputs": [
        {
          "output_type": "execute_result",
          "data": {
            "text/plain": [
              "899     14999.0\n",
              "984       949.0\n",
              "1086    15499.0\n",
              "494     13999.0\n",
              "848     13999.0\n",
              "         ...   \n",
              "712      1149.0\n",
              "265      6999.0\n",
              "988      1299.0\n",
              "101     16999.0\n",
              "1081     1119.0\n",
              "Name: Price (₹), Length: 278, dtype: float64"
            ]
          },
          "metadata": {
            "tags": []
          },
          "execution_count": 114
        }
      ]
    },
    {
      "cell_type": "code",
      "metadata": {
        "colab": {
          "base_uri": "https://localhost:8080/"
        },
        "id": "gIUKu8ZuDJBm",
        "outputId": "cbdbff3b-1dfb-4a23-84f4-d8d9b7357ee9"
      },
      "source": [
        "xreg = xgb.XGBRegressor(learning_rate=.1, max_depth = 5, n_estimators=10)\n",
        "xreg.fit(tx,ty)\n",
        "ypred = xreg.predict(testx)\n",
        "rmse = np.sqrt(mean_squared_error(testy, ypred))\n"
      ],
      "execution_count": null,
      "outputs": [
        {
          "output_type": "stream",
          "text": [
            "[05:01:25] WARNING: /workspace/src/objective/regression_obj.cu:152: reg:linear is now deprecated in favor of reg:squarederror.\n"
          ],
          "name": "stdout"
        }
      ]
    },
    {
      "cell_type": "code",
      "metadata": {
        "colab": {
          "base_uri": "https://localhost:8080/"
        },
        "id": "WsDoXhTEDNYm",
        "outputId": "952e8165-5575-4032-e516-2f82a3f6bc57"
      },
      "source": [
        "rmse"
      ],
      "execution_count": null,
      "outputs": [
        {
          "output_type": "execute_result",
          "data": {
            "text/plain": [
              "10031.955111455673"
            ]
          },
          "metadata": {
            "tags": []
          },
          "execution_count": 74
        }
      ]
    },
    {
      "cell_type": "code",
      "metadata": {
        "id": "3IG0ybLNDRds"
      },
      "source": [
        "\n",
        "# all param will be in a dictionary\n",
        "params = {\n",
        "    'learning_rate':.1,\n",
        "    'max_depth':5,\n",
        "    'alpha':10,\n",
        "}"
      ],
      "execution_count": null,
      "outputs": []
    },
    {
      "cell_type": "code",
      "metadata": {
        "id": "9orCpvaCDfVf"
      },
      "source": [
        "\n",
        "result = xgb.cv(dtrain= data_matrix,\n",
        "                params= params,\n",
        "                nfold = 3,\n",
        "                num_boost_round=100,\n",
        "                early_stopping_rounds=10,\n",
        "                metrics='rmse',\n",
        "                seed = 0 )"
      ],
      "execution_count": null,
      "outputs": []
    },
    {
      "cell_type": "code",
      "metadata": {
        "colab": {
          "base_uri": "https://localhost:8080/",
          "height": 399
        },
        "id": "-IUBvTxvDhTr",
        "outputId": "d4ae1341-c260-4c31-adaa-e275a94f558c"
      },
      "source": [
        "result"
      ],
      "execution_count": null,
      "outputs": [
        {
          "output_type": "execute_result",
          "data": {
            "text/html": [
              "<div>\n",
              "<style scoped>\n",
              "    .dataframe tbody tr th:only-of-type {\n",
              "        vertical-align: middle;\n",
              "    }\n",
              "\n",
              "    .dataframe tbody tr th {\n",
              "        vertical-align: top;\n",
              "    }\n",
              "\n",
              "    .dataframe thead th {\n",
              "        text-align: right;\n",
              "    }\n",
              "</style>\n",
              "<table border=\"1\" class=\"dataframe\">\n",
              "  <thead>\n",
              "    <tr style=\"text-align: right;\">\n",
              "      <th></th>\n",
              "      <th>train-rmse-mean</th>\n",
              "      <th>train-rmse-std</th>\n",
              "      <th>test-rmse-mean</th>\n",
              "      <th>test-rmse-std</th>\n",
              "    </tr>\n",
              "  </thead>\n",
              "  <tbody>\n",
              "    <tr>\n",
              "      <th>0</th>\n",
              "      <td>18140.451823</td>\n",
              "      <td>642.794761</td>\n",
              "      <td>18156.874023</td>\n",
              "      <td>1458.724793</td>\n",
              "    </tr>\n",
              "    <tr>\n",
              "      <th>1</th>\n",
              "      <td>16671.012695</td>\n",
              "      <td>618.078583</td>\n",
              "      <td>16784.605794</td>\n",
              "      <td>1462.185181</td>\n",
              "    </tr>\n",
              "    <tr>\n",
              "      <th>2</th>\n",
              "      <td>15352.507487</td>\n",
              "      <td>600.110021</td>\n",
              "      <td>15529.429362</td>\n",
              "      <td>1503.075859</td>\n",
              "    </tr>\n",
              "    <tr>\n",
              "      <th>3</th>\n",
              "      <td>14167.515951</td>\n",
              "      <td>579.294214</td>\n",
              "      <td>14449.450846</td>\n",
              "      <td>1511.951850</td>\n",
              "    </tr>\n",
              "    <tr>\n",
              "      <th>4</th>\n",
              "      <td>13106.444662</td>\n",
              "      <td>561.615826</td>\n",
              "      <td>13502.212240</td>\n",
              "      <td>1515.871756</td>\n",
              "    </tr>\n",
              "    <tr>\n",
              "      <th>...</th>\n",
              "      <td>...</td>\n",
              "      <td>...</td>\n",
              "      <td>...</td>\n",
              "      <td>...</td>\n",
              "    </tr>\n",
              "    <tr>\n",
              "      <th>95</th>\n",
              "      <td>2469.621745</td>\n",
              "      <td>383.394742</td>\n",
              "      <td>5751.038900</td>\n",
              "      <td>668.997304</td>\n",
              "    </tr>\n",
              "    <tr>\n",
              "      <th>96</th>\n",
              "      <td>2465.163127</td>\n",
              "      <td>382.418965</td>\n",
              "      <td>5750.239258</td>\n",
              "      <td>666.732882</td>\n",
              "    </tr>\n",
              "    <tr>\n",
              "      <th>97</th>\n",
              "      <td>2452.337158</td>\n",
              "      <td>374.943184</td>\n",
              "      <td>5752.171224</td>\n",
              "      <td>667.718790</td>\n",
              "    </tr>\n",
              "    <tr>\n",
              "      <th>98</th>\n",
              "      <td>2418.040120</td>\n",
              "      <td>397.349647</td>\n",
              "      <td>5731.954915</td>\n",
              "      <td>655.650892</td>\n",
              "    </tr>\n",
              "    <tr>\n",
              "      <th>99</th>\n",
              "      <td>2386.147909</td>\n",
              "      <td>419.209641</td>\n",
              "      <td>5714.423340</td>\n",
              "      <td>642.602094</td>\n",
              "    </tr>\n",
              "  </tbody>\n",
              "</table>\n",
              "<p>100 rows × 4 columns</p>\n",
              "</div>"
            ],
            "text/plain": [
              "    train-rmse-mean  train-rmse-std  test-rmse-mean  test-rmse-std\n",
              "0      18140.451823      642.794761    18156.874023    1458.724793\n",
              "1      16671.012695      618.078583    16784.605794    1462.185181\n",
              "2      15352.507487      600.110021    15529.429362    1503.075859\n",
              "3      14167.515951      579.294214    14449.450846    1511.951850\n",
              "4      13106.444662      561.615826    13502.212240    1515.871756\n",
              "..              ...             ...             ...            ...\n",
              "95      2469.621745      383.394742     5751.038900     668.997304\n",
              "96      2465.163127      382.418965     5750.239258     666.732882\n",
              "97      2452.337158      374.943184     5752.171224     667.718790\n",
              "98      2418.040120      397.349647     5731.954915     655.650892\n",
              "99      2386.147909      419.209641     5714.423340     642.602094\n",
              "\n",
              "[100 rows x 4 columns]"
            ]
          },
          "metadata": {
            "tags": []
          },
          "execution_count": 77
        }
      ]
    },
    {
      "cell_type": "code",
      "metadata": {
        "colab": {
          "base_uri": "https://localhost:8080/",
          "height": 283
        },
        "id": "rmHc3hkDDlrJ",
        "outputId": "a4e1e375-3444-4176-b31b-40bcbb230d75"
      },
      "source": [
        "result['train-rmse-mean'].plot()"
      ],
      "execution_count": null,
      "outputs": [
        {
          "output_type": "execute_result",
          "data": {
            "text/plain": [
              "<matplotlib.axes._subplots.AxesSubplot at 0x7f65edfeaa90>"
            ]
          },
          "metadata": {
            "tags": []
          },
          "execution_count": 78
        },
        {
          "output_type": "display_data",
          "data": {
            "image/png": "[encoded data removed]",
            "text/plain": [
              "<Figure size 432x288 with 1 Axes>"
            ]
          },
          "metadata": {
            "tags": [],
            "needs_background": "light"
          }
        }
      ]
    },
    {
      "cell_type": "code",
      "metadata": {
        "id": "8ZaA7ZYfDv5S"
      },
      "source": [
        "gridsearch_params = [ \n",
        "    (max_depth, min_child_weight,learning_rate)\n",
        "    for max_depth in range(3,12)\n",
        "    for min_child_weight in range(5,10)\n",
        "    for learning_rate in np.arange(.1,1,.05)\n",
        "]"
      ],
      "execution_count": null,
      "outputs": []
    },
    {
      "cell_type": "code",
      "metadata": {
        "colab": {
          "base_uri": "https://localhost:8080/"
        },
        "id": "iSO78QfGDzZn",
        "outputId": "fc7dc0a8-2371-433a-bae4-2fb96accedfe"
      },
      "source": [
        "\n",
        "# initial parameter for variable\n",
        "min_rmse = float('inf')\n",
        "best_params = None\n",
        "\n",
        "for max_depth,min_child_weight,lr in gridsearch_params:\n",
        "    params['max_depth'] = max_depth\n",
        "    params['min_child_weight'] = min_child_weight\n",
        "    params['learning_rate'] = lr\n",
        "    result = xgb.cv(dtrain= data_matrix,\n",
        "                    params= params,\n",
        "                    nfold = 3,\n",
        "                    num_boost_round=100,\n",
        "                    early_stopping_rounds=10,\n",
        "                    metrics='rmse', # rmse or mse or mae\n",
        "                    seed = 0 )\n",
        "    mean_rmse = result['test-rmse-mean'].min()\n",
        "    boost_rounds = result['test-rmse-mean'].argmin()\n",
        "    if mean_rmse < min_rmse:\n",
        "        min_rmse = mean_rmse\n",
        "        best_params = (max_depth,min_child_weight,lr)\n",
        "\n",
        "        \n",
        "print(f'Best params: {best_params[0]},{best_params[1]},{best_params[2]} with rmse: {min_rmse}')\n"
      ],
      "execution_count": null,
      "outputs": [
        {
          "output_type": "stream",
          "text": [
            "Best params: 6,5,0.3500000000000001 with rmse: 5649.0600583333335\n"
          ],
          "name": "stdout"
        }
      ]
    },
    {
      "cell_type": "code",
      "metadata": {
        "colab": {
          "base_uri": "https://localhost:8080/"
        },
        "id": "itAfHWlbD3N7",
        "outputId": "1f910a49-2f0b-4d30-d687-8d8df4d10442"
      },
      "source": [
        "params['learning_rate'] = .35\n",
        "params['max_depth'] = 6\n",
        "params['alpha'] = 10\n",
        "params['min_child_weight'] = 5\n",
        "params"
      ],
      "execution_count": null,
      "outputs": [
        {
          "output_type": "execute_result",
          "data": {
            "text/plain": [
              "{'alpha': 10, 'learning_rate': 0.35, 'max_depth': 6, 'min_child_weight': 5}"
            ]
          },
          "metadata": {
            "tags": []
          },
          "execution_count": 81
        }
      ]
    },
    {
      "cell_type": "code",
      "metadata": {
        "id": "5FxgV6KWD8oH"
      },
      "source": [
        "tx,testx,ty,testy = train_test_split(X,y,random_state=0)\n",
        "dtrain = xgb.DMatrix(data=tx, label=ty)\n",
        "dtest = xgb.DMatrix(data=testx, label=testy)\n"
      ],
      "execution_count": null,
      "outputs": []
    },
    {
      "cell_type": "code",
      "metadata": {
        "colab": {
          "base_uri": "https://localhost:8080/"
        },
        "id": "JCnHq1HIECiB",
        "outputId": "e0022c04-e376-4b3b-99db-39e4e8f18690"
      },
      "source": [
        "model = xgb.train(\n",
        "    params,\n",
        "    dtrain,\n",
        "    num_boost_round=100,\n",
        "    evals=[(dtest,'Test')],\n",
        "    early_stopping_rounds=10,\n",
        "    verbose_eval=True,\n",
        "\n",
        ")"
      ],
      "execution_count": null,
      "outputs": [
        {
          "output_type": "stream",
          "text": [
            "[0]\tTest-rmse:14610.1\n",
            "Will train until Test-rmse hasn't improved in 10 rounds.\n",
            "[1]\tTest-rmse:11308.7\n",
            "[2]\tTest-rmse:9074.45\n",
            "[3]\tTest-rmse:7736.59\n",
            "[4]\tTest-rmse:6711.14\n",
            "[5]\tTest-rmse:6166.4\n",
            "[6]\tTest-rmse:5747.64\n",
            "[7]\tTest-rmse:5260.83\n",
            "[8]\tTest-rmse:4925.18\n",
            "[9]\tTest-rmse:4719.41\n",
            "[10]\tTest-rmse:4552.62\n",
            "[11]\tTest-rmse:4411.71\n",
            "[12]\tTest-rmse:4334.67\n",
            "[13]\tTest-rmse:4296.86\n",
            "[14]\tTest-rmse:4221.24\n",
            "[15]\tTest-rmse:4239.67\n",
            "[16]\tTest-rmse:4153.2\n",
            "[17]\tTest-rmse:4201.02\n",
            "[18]\tTest-rmse:4145.54\n",
            "[19]\tTest-rmse:4145.28\n",
            "[20]\tTest-rmse:4181.71\n",
            "[21]\tTest-rmse:4086.2\n",
            "[22]\tTest-rmse:4074.01\n",
            "[23]\tTest-rmse:4089.97\n",
            "[24]\tTest-rmse:4040.66\n",
            "[25]\tTest-rmse:4047.16\n",
            "[26]\tTest-rmse:4082.1\n",
            "[27]\tTest-rmse:4093.44\n",
            "[28]\tTest-rmse:4103.08\n",
            "[29]\tTest-rmse:4042.42\n",
            "[30]\tTest-rmse:4087.99\n",
            "[31]\tTest-rmse:4054.19\n",
            "[32]\tTest-rmse:4010.18\n",
            "[33]\tTest-rmse:4006.22\n",
            "[34]\tTest-rmse:4006.22\n",
            "[35]\tTest-rmse:4000.57\n",
            "[36]\tTest-rmse:4006.4\n",
            "[37]\tTest-rmse:3998.15\n",
            "[38]\tTest-rmse:3978.28\n",
            "[39]\tTest-rmse:4001.06\n",
            "[40]\tTest-rmse:4012.22\n",
            "[41]\tTest-rmse:3993.98\n",
            "[42]\tTest-rmse:3984.82\n",
            "[43]\tTest-rmse:3983.87\n",
            "[44]\tTest-rmse:3997.02\n",
            "[45]\tTest-rmse:4007.1\n",
            "[46]\tTest-rmse:3991.07\n",
            "[47]\tTest-rmse:3983.47\n",
            "[48]\tTest-rmse:3979.75\n",
            "Stopping. Best iteration:\n",
            "[38]\tTest-rmse:3978.28\n",
            "\n"
          ],
          "name": "stdout"
        }
      ]
    },
    {
      "cell_type": "code",
      "metadata": {
        "colab": {
          "base_uri": "https://localhost:8080/"
        },
        "id": "oFPPNozwEE_G",
        "outputId": "cf88332d-745e-44c4-8339-c8b734365553"
      },
      "source": [
        "num_round = model.best_iteration + 1\n",
        "best_model = xgb.train(\n",
        "    params,\n",
        "    dtrain,\n",
        "    num_boost_round=num_round,\n",
        "    evals=[(dtest,'Test')]\n",
        ")"
      ],
      "execution_count": null,
      "outputs": [
        {
          "output_type": "stream",
          "text": [
            "[0]\tTest-rmse:14610.1\n",
            "[1]\tTest-rmse:11308.7\n",
            "[2]\tTest-rmse:9074.45\n",
            "[3]\tTest-rmse:7736.59\n",
            "[4]\tTest-rmse:6711.14\n",
            "[5]\tTest-rmse:6166.4\n",
            "[6]\tTest-rmse:5747.64\n",
            "[7]\tTest-rmse:5260.83\n",
            "[8]\tTest-rmse:4925.18\n",
            "[9]\tTest-rmse:4719.41\n",
            "[10]\tTest-rmse:4552.62\n",
            "[11]\tTest-rmse:4411.71\n",
            "[12]\tTest-rmse:4334.67\n",
            "[13]\tTest-rmse:4296.86\n",
            "[14]\tTest-rmse:4221.24\n",
            "[15]\tTest-rmse:4239.67\n",
            "[16]\tTest-rmse:4153.2\n",
            "[17]\tTest-rmse:4201.02\n",
            "[18]\tTest-rmse:4145.54\n",
            "[19]\tTest-rmse:4145.28\n",
            "[20]\tTest-rmse:4181.71\n",
            "[21]\tTest-rmse:4086.2\n",
            "[22]\tTest-rmse:4074.01\n",
            "[23]\tTest-rmse:4089.97\n",
            "[24]\tTest-rmse:4040.66\n",
            "[25]\tTest-rmse:4047.16\n",
            "[26]\tTest-rmse:4082.1\n",
            "[27]\tTest-rmse:4093.44\n",
            "[28]\tTest-rmse:4103.08\n",
            "[29]\tTest-rmse:4042.42\n",
            "[30]\tTest-rmse:4087.99\n",
            "[31]\tTest-rmse:4054.19\n",
            "[32]\tTest-rmse:4010.18\n",
            "[33]\tTest-rmse:4006.22\n",
            "[34]\tTest-rmse:4006.22\n",
            "[35]\tTest-rmse:4000.57\n",
            "[36]\tTest-rmse:4006.4\n",
            "[37]\tTest-rmse:3998.15\n",
            "[38]\tTest-rmse:3978.28\n"
          ],
          "name": "stdout"
        }
      ]
    },
    {
      "cell_type": "code",
      "metadata": {
        "colab": {
          "base_uri": "https://localhost:8080/"
        },
        "id": "IvENsaurEIuF",
        "outputId": "6966f2a2-1e3c-4bef-ea95-eefd30b8386b"
      },
      "source": [
        "pred = best_model.predict(dtest)\n",
        "np.sqrt(mean_squared_error(testy,pred))"
      ],
      "execution_count": null,
      "outputs": [
        {
          "output_type": "execute_result",
          "data": {
            "text/plain": [
              "3978.2799395882853"
            ]
          },
          "metadata": {
            "tags": []
          },
          "execution_count": 93
        }
      ]
    },
    {
      "cell_type": "code",
      "metadata": {
        "id": "FuLEbuQMEL5a"
      },
      "source": [
        "best_model.save_model('mobile_pricing.model')"
      ],
      "execution_count": null,
      "outputs": []
    },
    {
      "cell_type": "code",
      "metadata": {
        "id": "gDUXZGsyERVv"
      },
      "source": [
        "\n",
        "loaded_model = xgb.Booster()\n",
        "loaded_model.load_model('mobile_pricing.model')"
      ],
      "execution_count": null,
      "outputs": []
    },
    {
      "cell_type": "code",
      "metadata": {
        "colab": {
          "base_uri": "https://localhost:8080/"
        },
        "id": "BDLSGyfzPlY5",
        "outputId": "f1e959bd-165c-4fe9-f264-f228b82efec2"
      },
      "source": [
        "testx"
      ],
      "execution_count": null,
      "outputs": [
        {
          "output_type": "execute_result",
          "data": {
            "text/plain": [
              "array([[-0.45214279, -2.00510996,  0.80065674,  0.24733749,  0.1091728 ,\n",
              "        -0.1280246 ],\n",
              "       [-0.45214279,  0.45230215, -0.5727351 , -0.19256087, -0.00931676,\n",
              "        -0.6714311 ],\n",
              "       [-0.45214279,  0.45230215,  0.2513    , -0.41251006, -0.00931676,\n",
              "        -0.1280246 ],\n",
              "       ...,\n",
              "       [-0.45214279,  0.45230215, -1.50664154, -1.0723576 , -0.00931676,\n",
              "        -0.6714311 ],\n",
              "       [-0.52360158,  0.74331147,  0.81164387,  0.24733749,  0.51203731,\n",
              "         0.95878838],\n",
              "       [-0.45214279,  0.45230215, -1.3967702 , -0.63245924, -0.00931676,\n",
              "        -0.6714311 ]])"
            ]
          },
          "metadata": {
            "tags": []
          },
          "execution_count": 99
        }
      ]
    },
    {
      "cell_type": "code",
      "metadata": {
        "id": "50-ZoXsIPwJm"
      },
      "source": [
        "test_d=pd.DataFrame(scaler.inverse_transform(testx))"
      ],
      "execution_count": null,
      "outputs": []
    },
    {
      "cell_type": "code",
      "metadata": {
        "id": "c5Onmnq_EVVS"
      },
      "source": [
        "test_d['Prediction']=loaded_model.predict(dtest).reshape(-1,1)"
      ],
      "execution_count": null,
      "outputs": []
    },
    {
      "cell_type": "code",
      "metadata": {
        "id": "bK1g4xbEQcc6"
      },
      "source": [
        "test_d['Original']=testy.reset_index().drop(['index'],axis=1)"
      ],
      "execution_count": null,
      "outputs": []
    },
    {
      "cell_type": "code",
      "metadata": {
        "colab": {
          "base_uri": "https://localhost:8080/",
          "height": 399
        },
        "id": "GPJ2uIW0QQhL",
        "outputId": "b10cc541-52a4-4609-f511-2ae6ca9a9655"
      },
      "source": [
        "test_d"
      ],
      "execution_count": null,
      "outputs": [
        {
          "output_type": "execute_result",
          "data": {
            "text/html": [
              "<div>\n",
              "<style scoped>\n",
              "    .dataframe tbody tr th:only-of-type {\n",
              "        vertical-align: middle;\n",
              "    }\n",
              "\n",
              "    .dataframe tbody tr th {\n",
              "        vertical-align: top;\n",
              "    }\n",
              "\n",
              "    .dataframe thead th {\n",
              "        text-align: right;\n",
              "    }\n",
              "</style>\n",
              "<table border=\"1\" class=\"dataframe\">\n",
              "  <thead>\n",
              "    <tr style=\"text-align: right;\">\n",
              "      <th></th>\n",
              "      <th>0</th>\n",
              "      <th>1</th>\n",
              "      <th>2</th>\n",
              "      <th>3</th>\n",
              "      <th>4</th>\n",
              "      <th>5</th>\n",
              "      <th>Prediction</th>\n",
              "      <th>Original</th>\n",
              "    </tr>\n",
              "  </thead>\n",
              "  <tbody>\n",
              "    <tr>\n",
              "      <th>0</th>\n",
              "      <td>11.0</td>\n",
              "      <td>16.0</td>\n",
              "      <td>5000.0</td>\n",
              "      <td>4.2</td>\n",
              "      <td>102.0</td>\n",
              "      <td>64.0</td>\n",
              "      <td>16203.015625</td>\n",
              "      <td>14999.0</td>\n",
              "    </tr>\n",
              "    <tr>\n",
              "      <th>1</th>\n",
              "      <td>11.0</td>\n",
              "      <td>92.0</td>\n",
              "      <td>2500.0</td>\n",
              "      <td>4.0</td>\n",
              "      <td>97.0</td>\n",
              "      <td>32.0</td>\n",
              "      <td>1128.967285</td>\n",
              "      <td>949.0</td>\n",
              "    </tr>\n",
              "    <tr>\n",
              "      <th>2</th>\n",
              "      <td>11.0</td>\n",
              "      <td>92.0</td>\n",
              "      <td>4000.0</td>\n",
              "      <td>3.9</td>\n",
              "      <td>97.0</td>\n",
              "      <td>64.0</td>\n",
              "      <td>14165.349609</td>\n",
              "      <td>15499.0</td>\n",
              "    </tr>\n",
              "    <tr>\n",
              "      <th>3</th>\n",
              "      <td>11.0</td>\n",
              "      <td>51.0</td>\n",
              "      <td>4300.0</td>\n",
              "      <td>4.4</td>\n",
              "      <td>104.0</td>\n",
              "      <td>64.0</td>\n",
              "      <td>12002.491211</td>\n",
              "      <td>13999.0</td>\n",
              "    </tr>\n",
              "    <tr>\n",
              "      <th>4</th>\n",
              "      <td>11.0</td>\n",
              "      <td>92.0</td>\n",
              "      <td>4000.0</td>\n",
              "      <td>4.1</td>\n",
              "      <td>97.0</td>\n",
              "      <td>64.0</td>\n",
              "      <td>14072.274414</td>\n",
              "      <td>13999.0</td>\n",
              "    </tr>\n",
              "    <tr>\n",
              "      <th>...</th>\n",
              "      <td>...</td>\n",
              "      <td>...</td>\n",
              "      <td>...</td>\n",
              "      <td>...</td>\n",
              "      <td>...</td>\n",
              "      <td>...</td>\n",
              "      <td>...</td>\n",
              "      <td>...</td>\n",
              "    </tr>\n",
              "    <tr>\n",
              "      <th>273</th>\n",
              "      <td>11.0</td>\n",
              "      <td>92.0</td>\n",
              "      <td>850.0</td>\n",
              "      <td>4.0</td>\n",
              "      <td>97.0</td>\n",
              "      <td>32.0</td>\n",
              "      <td>995.902283</td>\n",
              "      <td>1149.0</td>\n",
              "    </tr>\n",
              "    <tr>\n",
              "      <th>274</th>\n",
              "      <td>11.0</td>\n",
              "      <td>69.0</td>\n",
              "      <td>5000.0</td>\n",
              "      <td>4.4</td>\n",
              "      <td>33.0</td>\n",
              "      <td>32.0</td>\n",
              "      <td>7485.346680</td>\n",
              "      <td>6999.0</td>\n",
              "    </tr>\n",
              "    <tr>\n",
              "      <th>275</th>\n",
              "      <td>11.0</td>\n",
              "      <td>92.0</td>\n",
              "      <td>800.0</td>\n",
              "      <td>3.6</td>\n",
              "      <td>97.0</td>\n",
              "      <td>32.0</td>\n",
              "      <td>1026.022339</td>\n",
              "      <td>1299.0</td>\n",
              "    </tr>\n",
              "    <tr>\n",
              "      <th>276</th>\n",
              "      <td>10.0</td>\n",
              "      <td>101.0</td>\n",
              "      <td>5020.0</td>\n",
              "      <td>4.2</td>\n",
              "      <td>119.0</td>\n",
              "      <td>128.0</td>\n",
              "      <td>16518.154297</td>\n",
              "      <td>16999.0</td>\n",
              "    </tr>\n",
              "    <tr>\n",
              "      <th>277</th>\n",
              "      <td>11.0</td>\n",
              "      <td>92.0</td>\n",
              "      <td>1000.0</td>\n",
              "      <td>3.8</td>\n",
              "      <td>97.0</td>\n",
              "      <td>32.0</td>\n",
              "      <td>978.689331</td>\n",
              "      <td>1119.0</td>\n",
              "    </tr>\n",
              "  </tbody>\n",
              "</table>\n",
              "<p>278 rows × 8 columns</p>\n",
              "</div>"
            ],
            "text/plain": [
              "        0      1       2    3      4      5    Prediction  Original\n",
              "0    11.0   16.0  5000.0  4.2  102.0   64.0  16203.015625   14999.0\n",
              "1    11.0   92.0  2500.0  4.0   97.0   32.0   1128.967285     949.0\n",
              "2    11.0   92.0  4000.0  3.9   97.0   64.0  14165.349609   15499.0\n",
              "3    11.0   51.0  4300.0  4.4  104.0   64.0  12002.491211   13999.0\n",
              "4    11.0   92.0  4000.0  4.1   97.0   64.0  14072.274414   13999.0\n",
              "..    ...    ...     ...  ...    ...    ...           ...       ...\n",
              "273  11.0   92.0   850.0  4.0   97.0   32.0    995.902283    1149.0\n",
              "274  11.0   69.0  5000.0  4.4   33.0   32.0   7485.346680    6999.0\n",
              "275  11.0   92.0   800.0  3.6   97.0   32.0   1026.022339    1299.0\n",
              "276  10.0  101.0  5020.0  4.2  119.0  128.0  16518.154297   16999.0\n",
              "277  11.0   92.0  1000.0  3.8   97.0   32.0    978.689331    1119.0\n",
              "\n",
              "[278 rows x 8 columns]"
            ]
          },
          "metadata": {
            "tags": []
          },
          "execution_count": 119
        }
      ]
    },
    {
      "cell_type": "code",
      "metadata": {
        "colab": {
          "base_uri": "https://localhost:8080/",
          "height": 338
        },
        "id": "NBC2OMLFRomN",
        "outputId": "cbe10124-deda-4316-fb76-8ce0edaddbdb"
      },
      "source": [
        "test_d[['Original','Prediction']].plot(figsize=(20,5))"
      ],
      "execution_count": null,
      "outputs": [
        {
          "output_type": "execute_result",
          "data": {
            "text/plain": [
              "<matplotlib.axes._subplots.AxesSubplot at 0x7f65dd4e2ad0>"
            ]
          },
          "metadata": {
            "tags": []
          },
          "execution_count": 125
        },
        {
          "output_type": "display_data",
          "data": {
            "image/png": "[encoded data removed]",
            "text/plain": [
              "<Figure size 1440x360 with 1 Axes>"
            ]
          },
          "metadata": {
            "tags": [],
            "needs_background": "light"
          }
        }
      ]
    },
    {
      "cell_type": "code",
      "metadata": {
        "id": "U8wHtkvfOglC"
      },
      "source": [
        "preproccesors={'Scalers':scaler,\n",
        "               'Label_os':label8,\n",
        "               'labdel_proc_bran':label9,\n",
        "               'ot_cam_features':label13\n",
        "}\n",
        "\n"
      ],
      "execution_count": null,
      "outputs": []
    },
    {
      "cell_type": "code",
      "metadata": {
        "id": "3K9Rbe5FT_Lt"
      },
      "source": [
        "import pickle"
      ],
      "execution_count": null,
      "outputs": []
    },
    {
      "cell_type": "code",
      "metadata": {
        "id": "9L9KgqrmURId"
      },
      "source": [
        "with open('preproccesors.pk','wb') as file:\n",
        "  pickle.dump(preproccesors,file)"
      ],
      "execution_count": null,
      "outputs": []
    },
    {
      "cell_type": "code",
      "metadata": {
        "id": "DfxWI04PUnHk"
      },
      "source": [
        "import sklearn"
      ],
      "execution_count": null,
      "outputs": []
    },
    {
      "cell_type": "code",
      "metadata": {
        "colab": {
          "base_uri": "https://localhost:8080/",
          "height": 36
        },
        "id": "UiAuUHlwU5t1",
        "outputId": "bb39dd43-33c3-45e1-c3ed-611cb3f7fee2"
      },
      "source": [
        "sklearn.__version__"
      ],
      "execution_count": null,
      "outputs": [
        {
          "output_type": "execute_result",
          "data": {
            "application/vnd.google.colaboratory.intrinsic+json": {
              "type": "string"
            },
            "text/plain": [
              "'0.22.2.post1'"
            ]
          },
          "metadata": {
            "tags": []
          },
          "execution_count": 134
        }
      ]
    },
    {
      "cell_type": "code",
      "metadata": {
        "id": "zXAxF0LOU_rB"
      },
      "source": [
        ""
      ],
      "execution_count": null,
      "outputs": []
    }
  ]
}